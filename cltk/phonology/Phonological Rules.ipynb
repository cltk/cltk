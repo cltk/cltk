{
 "cells": [
  {
   "cell_type": "markdown",
   "metadata": {},
   "source": [
    "# Phonological Representations and Rules in CLTK"
   ]
  },
  {
   "cell_type": "markdown",
   "metadata": {},
   "source": [
    "## Phonological Features"
   ]
  },
  {
   "cell_type": "markdown",
   "metadata": {},
   "source": [
    "We begin by importing a subclass of cltk.phonology.orthophonology for Old English."
   ]
  },
  {
   "cell_type": "code",
   "execution_count": 1,
   "metadata": {},
   "outputs": [],
   "source": [
    "from cltk.phonology.old_english.orthophonology import *"
   ]
  },
  {
   "cell_type": "markdown",
   "metadata": {},
   "source": [
    "Phonological features are represented by Enum classes.  A feature is one such class, and the possible values of the feature are the members of the enumeration.\n",
    "\n",
    "Conventionally, binary features have members `{neg, pos}`."
   ]
  },
  {
   "cell_type": "code",
   "execution_count": 2,
   "metadata": {},
   "outputs": [
    {
     "data": {
      "text/plain": [
       "(<enum 'Voiced'>, <Voiced.pos: 2>, [<Voiced.neg: 1>, <Voiced.pos: 2>])"
      ]
     },
     "execution_count": 2,
     "metadata": {},
     "output_type": "execute_result"
    }
   ],
   "source": [
    "Voiced, Voiced.pos, [feature_value for feature_value in Voiced]"
   ]
  },
  {
   "cell_type": "code",
   "execution_count": 3,
   "metadata": {},
   "outputs": [
    {
     "data": {
      "text/plain": [
       "[<Manner.stop: 1>,\n",
       " <Manner.fricative: 2>,\n",
       " <Manner.affricate: 3>,\n",
       " <Manner.nasal: 4>,\n",
       " <Manner.lateral: 5>,\n",
       " <Manner.trill: 6>,\n",
       " <Manner.spirant: 7>,\n",
       " <Manner.approximant: 8>]"
      ]
     },
     "execution_count": 3,
     "metadata": {},
     "output_type": "execute_result"
    }
   ],
   "source": [
    "[feature_value for feature_value in Manner]"
   ]
  },
  {
   "cell_type": "markdown",
   "metadata": {},
   "source": [
    "When a phonological feature is relevant to the sonority of a phoneme, the values must be ordered by *increasing sonority*, as in the previous example."
   ]
  },
  {
   "cell_type": "markdown",
   "metadata": {},
   "source": [
    "Features may be compared for identity and (in effect) sonority."
   ]
  },
  {
   "cell_type": "code",
   "execution_count": 4,
   "metadata": {},
   "outputs": [
    {
     "data": {
      "text/plain": [
       "(True, True, False)"
      ]
     },
     "execution_count": 4,
     "metadata": {},
     "output_type": "execute_result"
    }
   ],
   "source": [
    "Manner.spirant > Manner.trill, Manner.fricative == Manner.fricative, Manner.fricative == Voiced.pos"
   ]
  },
  {
   "cell_type": "markdown",
   "metadata": {},
   "source": [
    "## Phonemes"
   ]
  },
  {
   "cell_type": "markdown",
   "metadata": {},
   "source": [
    "The module provides an object `oe` for Old English ortho-phonology.  It contains, for one, a sound inventory of the language: a list of phonemes."
   ]
  },
  {
   "cell_type": "code",
   "execution_count": 5,
   "metadata": {},
   "outputs": [
    {
     "data": {
      "text/plain": [
       "[IPA:m Consonantal.pos Place.bilabial Manner.nasal Voiced.pos Aspirated.neg Geminate.neg,\n",
       " IPA:n Consonantal.pos Place.alveolar Manner.nasal Voiced.pos Aspirated.neg Geminate.neg,\n",
       " IPA:n̥ Consonantal.pos Place.alveolar Manner.nasal Voiced.neg Aspirated.neg Geminate.neg,\n",
       " IPA:ŋ Consonantal.pos Place.velar Manner.nasal Voiced.pos Aspirated.neg Geminate.neg,\n",
       " IPA:p Consonantal.pos Place.bilabial Manner.stop Voiced.neg Aspirated.neg Geminate.neg,\n",
       " IPA:b Consonantal.pos Place.bilabial Manner.stop Voiced.pos Aspirated.neg Geminate.neg,\n",
       " IPA:t Consonantal.pos Place.alveolar Manner.stop Voiced.neg Aspirated.neg Geminate.neg,\n",
       " IPA:d Consonantal.pos Place.alveolar Manner.stop Voiced.pos Aspirated.neg Geminate.neg,\n",
       " IPA:k Consonantal.pos Place.velar Manner.stop Voiced.neg Aspirated.neg Geminate.neg,\n",
       " IPA:g Consonantal.pos Place.velar Manner.stop Voiced.pos Aspirated.neg Geminate.neg,\n",
       " IPA:t͡ʃ Consonantal.pos Place.post_alveolar Manner.affricate Voiced.neg Aspirated.neg Geminate.neg,\n",
       " IPA:d͡ʒ Consonantal.pos Place.post_alveolar Manner.affricate Voiced.pos Aspirated.neg Geminate.neg,\n",
       " IPA:f Consonantal.pos Place.bilabial Manner.fricative Voiced.neg Aspirated.neg Geminate.neg,\n",
       " IPA:v Consonantal.pos Place.bilabial Manner.fricative Voiced.pos Aspirated.neg Geminate.neg,\n",
       " IPA:θ Consonantal.pos Place.dental Manner.fricative Voiced.neg Aspirated.neg Geminate.neg,\n",
       " IPA:ð Consonantal.pos Place.dental Manner.fricative Voiced.pos Aspirated.neg Geminate.neg,\n",
       " IPA:s Consonantal.pos Place.alveolar Manner.fricative Voiced.neg Aspirated.neg Geminate.neg,\n",
       " IPA:z Consonantal.pos Place.alveolar Manner.fricative Voiced.pos Aspirated.neg Geminate.neg,\n",
       " IPA:ʃ Consonantal.pos Place.post_alveolar Manner.fricative Voiced.neg Aspirated.neg Geminate.neg,\n",
       " IPA:ç Consonantal.pos Place.palatal Manner.fricative Voiced.neg Aspirated.neg Geminate.neg,\n",
       " IPA:x Consonantal.pos Place.velar Manner.fricative Voiced.neg Aspirated.neg Geminate.neg,\n",
       " IPA:y Consonantal.neg Height.close Backness.front Roundedness.pos Length.short,\n",
       " IPA:h Consonantal.pos Place.glottal Manner.fricative Voiced.neg Aspirated.neg Geminate.neg,\n",
       " IPA:l Consonantal.pos Place.alveolar Manner.approximant Voiced.pos Aspirated.neg Geminate.neg,\n",
       " IPA:l̥ Consonantal.pos Place.alveolar Manner.approximant Voiced.neg Aspirated.neg Geminate.neg,\n",
       " IPA:j Consonantal.pos Place.palatal Manner.approximant Voiced.pos Aspirated.neg Geminate.neg,\n",
       " IPA:w Consonantal.pos Place.velar Manner.approximant Voiced.pos Aspirated.neg Geminate.neg,\n",
       " IPA:w Consonantal.pos Place.velar Manner.approximant Voiced.neg Aspirated.neg Geminate.neg,\n",
       " IPA:r Consonantal.pos Place.alveolar Manner.approximant Voiced.pos Aspirated.neg Geminate.neg,\n",
       " IPA:r̥ Consonantal.pos Place.alveolar Manner.approximant Voiced.neg Aspirated.neg Geminate.neg,\n",
       " IPA:i Consonantal.neg Height.close Backness.front Roundedness.neg Length.short,\n",
       " IPA:i: Consonantal.neg Height.close Backness.front Roundedness.neg Length.long,\n",
       " IPA:y Consonantal.neg Height.close Backness.front Roundedness.pos Length.short,\n",
       " IPA:y: Consonantal.neg Height.close Backness.front Roundedness.pos Length.long,\n",
       " IPA:u Consonantal.neg Height.close Backness.back Roundedness.pos Length.short,\n",
       " IPA:u: Consonantal.neg Height.close Backness.back Roundedness.pos Length.long,\n",
       " IPA:e Consonantal.neg Height.mid Backness.front Roundedness.neg Length.short,\n",
       " IPA:e: Consonantal.neg Height.mid Backness.front Roundedness.neg Length.long,\n",
       " IPA:ø Consonantal.neg Height.mid Backness.front Roundedness.pos Length.short,\n",
       " IPA:ø: Consonantal.neg Height.mid Backness.front Roundedness.pos Length.long,\n",
       " IPA:o Consonantal.neg Height.mid Backness.back Roundedness.pos Length.short,\n",
       " IPA:o: Consonantal.neg Height.mid Backness.back Roundedness.pos Length.long,\n",
       " IPA:æ Consonantal.neg Height.open Backness.front Roundedness.neg Length.short,\n",
       " IPA:æ: Consonantal.neg Height.open Backness.front Roundedness.neg Length.long,\n",
       " IPA:ɑ Consonantal.neg Height.open Backness.back Roundedness.neg Length.short,\n",
       " IPA:ɑ: Consonantal.neg Height.open Backness.back Roundedness.neg Length.long,\n",
       " IPA:æɑ Consonantal.neg Height.open Backness.front Roundedness.neg Length.short,\n",
       " IPA:æ:ɑ Consonantal.neg Height.open Backness.front Roundedness.neg Length.long,\n",
       " IPA:eo Consonantal.neg Height.mid Backness.front Roundedness.neg Length.short,\n",
       " IPA:e:o Consonantal.neg Height.mid Backness.front Roundedness.neg Length.long,\n",
       " IPA:iu Consonantal.neg Height.close Backness.front Roundedness.neg Length.short,\n",
       " IPA:i:u Consonantal.neg Height.close Backness.front Roundedness.neg Length.long]"
      ]
     },
     "execution_count": 5,
     "metadata": {},
     "output_type": "execute_result"
    }
   ],
   "source": [
    "oe.sound_inventory"
   ]
  },
  {
   "cell_type": "markdown",
   "metadata": {},
   "source": [
    "There is also an alphabet, a mapping from orthographic symbols to phonemes.  Obviously this only makes sense for alphabetic orthographies!"
   ]
  },
  {
   "cell_type": "code",
   "execution_count": 6,
   "metadata": {},
   "outputs": [
    {
     "data": {
      "text/plain": [
       "{'a': IPA:ɑ Consonantal.neg Height.open Backness.back Roundedness.neg Length.short,\n",
       " 'ā': IPA:ɑ: Consonantal.neg Height.open Backness.back Roundedness.neg Length.long,\n",
       " 'æ': IPA:æ Consonantal.neg Height.open Backness.front Roundedness.neg Length.short,\n",
       " 'ǣ': IPA:æ: Consonantal.neg Height.open Backness.front Roundedness.neg Length.long,\n",
       " 'b': IPA:b Consonantal.pos Place.bilabial Manner.stop Voiced.pos Aspirated.neg Geminate.neg,\n",
       " 'c': IPA:k Consonantal.pos Place.velar Manner.stop Voiced.neg Aspirated.neg Geminate.neg,\n",
       " 'ċ': IPA:t͡ʃ Consonantal.pos Place.post_alveolar Manner.affricate Voiced.neg Aspirated.neg Geminate.neg,\n",
       " 'd': IPA:d Consonantal.pos Place.alveolar Manner.stop Voiced.pos Aspirated.neg Geminate.neg,\n",
       " 'ð': IPA:ð Consonantal.pos Place.dental Manner.fricative Voiced.pos Aspirated.neg Geminate.neg,\n",
       " 'e': IPA:e Consonantal.neg Height.mid Backness.front Roundedness.neg Length.short,\n",
       " 'ē': IPA:e: Consonantal.neg Height.mid Backness.front Roundedness.neg Length.long,\n",
       " 'f': IPA:f Consonantal.pos Place.bilabial Manner.fricative Voiced.neg Aspirated.neg Geminate.neg,\n",
       " 'g': IPA:g Consonantal.pos Place.velar Manner.stop Voiced.pos Aspirated.neg Geminate.neg,\n",
       " 'ġ': IPA:j Consonantal.pos Place.palatal Manner.approximant Voiced.pos Aspirated.neg Geminate.neg,\n",
       " 'h': IPA:h Consonantal.pos Place.glottal Manner.fricative Voiced.neg Aspirated.neg Geminate.neg,\n",
       " 'i': IPA:i Consonantal.neg Height.close Backness.front Roundedness.neg Length.short,\n",
       " 'ī': IPA:i: Consonantal.neg Height.close Backness.front Roundedness.neg Length.long,\n",
       " 'l': IPA:l Consonantal.pos Place.alveolar Manner.approximant Voiced.pos Aspirated.neg Geminate.neg,\n",
       " 'm': IPA:m Consonantal.pos Place.bilabial Manner.nasal Voiced.pos Aspirated.neg Geminate.neg,\n",
       " 'n': IPA:n Consonantal.pos Place.alveolar Manner.nasal Voiced.pos Aspirated.neg Geminate.neg,\n",
       " 'o': IPA:o Consonantal.neg Height.mid Backness.back Roundedness.pos Length.short,\n",
       " 'ō': IPA:o: Consonantal.neg Height.mid Backness.back Roundedness.pos Length.long,\n",
       " 'p': IPA:p Consonantal.pos Place.bilabial Manner.stop Voiced.neg Aspirated.neg Geminate.neg,\n",
       " 'r': IPA:r Consonantal.pos Place.alveolar Manner.approximant Voiced.pos Aspirated.neg Geminate.neg,\n",
       " 's': IPA:s Consonantal.pos Place.alveolar Manner.fricative Voiced.neg Aspirated.neg Geminate.neg,\n",
       " 't': IPA:t Consonantal.pos Place.alveolar Manner.stop Voiced.neg Aspirated.neg Geminate.neg,\n",
       " 'u': IPA:u Consonantal.neg Height.close Backness.back Roundedness.pos Length.short,\n",
       " 'ū': IPA:u: Consonantal.neg Height.close Backness.back Roundedness.pos Length.long,\n",
       " 'w': IPA:w Consonantal.pos Place.velar Manner.approximant Voiced.pos Aspirated.neg Geminate.neg,\n",
       " 'x': IPA:x Consonantal.pos Place.velar Manner.fricative Voiced.neg Aspirated.neg Geminate.neg,\n",
       " 'y': IPA:y Consonantal.neg Height.close Backness.front Roundedness.pos Length.short,\n",
       " 'ȳ': IPA:y: Consonantal.neg Height.close Backness.front Roundedness.pos Length.long,\n",
       " 'þ': IPA:θ Consonantal.pos Place.dental Manner.fricative Voiced.neg Aspirated.neg Geminate.neg}"
      ]
     },
     "execution_count": 6,
     "metadata": {},
     "output_type": "execute_result"
    }
   ],
   "source": [
    "oe.alphabet"
   ]
  },
  {
   "cell_type": "markdown",
   "metadata": {},
   "source": [
    "A phoneme is a bundle of phonological features.  Concrete forms also have an IPA symbol."
   ]
  },
  {
   "cell_type": "code",
   "execution_count": 7,
   "metadata": {},
   "outputs": [
    {
     "data": {
      "text/plain": [
       "IPA:ɑ Consonantal.neg Height.open Backness.back Roundedness.neg Length.short"
      ]
     },
     "execution_count": 7,
     "metadata": {},
     "output_type": "execute_result"
    }
   ],
   "source": [
    "a"
   ]
  },
  {
   "cell_type": "markdown",
   "metadata": {},
   "source": [
    "A phoneme can be queried for a value of a feature.  If unspecified for the feture, `None` is returned."
   ]
  },
  {
   "cell_type": "code",
   "execution_count": 8,
   "metadata": {},
   "outputs": [
    {
     "data": {
      "text/plain": [
       "<Height.open: 7>"
      ]
     },
     "execution_count": 8,
     "metadata": {},
     "output_type": "execute_result"
    }
   ],
   "source": [
    "a[Height]"
   ]
  },
  {
   "cell_type": "code",
   "execution_count": 9,
   "metadata": {},
   "outputs": [
    {
     "name": "stdout",
     "output_type": "stream",
     "text": [
      "None\n"
     ]
    }
   ],
   "source": [
    "print(a[Manner])"
   ]
  },
  {
   "cell_type": "markdown",
   "metadata": {},
   "source": [
    "New phonemes are created using the `phoneme` function, and in some contexts are automatically induced by bare feature values or lists of feature values.\n",
    "\n",
    "The `phoneme` function accepts one or more lists of feature values, or variable numbers of feature_values as arguments:"
   ]
  },
  {
   "cell_type": "code",
   "execution_count": 10,
   "metadata": {},
   "outputs": [
    {
     "data": {
      "text/plain": [
       "(Manner.stop Place.palatal,\n",
       " Manner.stop Place.palatal,\n",
       " Manner.stop Place.palatal)"
      ]
     },
     "execution_count": 10,
     "metadata": {},
     "output_type": "execute_result"
    }
   ],
   "source": [
    "phoneme(Manner.stop, Place.palatal), \\\n",
    "phoneme([Manner.stop, Place.palatal]), \\\n",
    "phoneme([Manner.stop], Place.palatal)"
   ]
  },
  {
   "cell_type": "markdown",
   "metadata": {},
   "source": [
    "Python's operator overloading (a simulation of the C++ mechanism) has been grossly abused in order to provide syntactic sugar for various operations an phonemes.  (Unfortunately Python provides only a limited set of overloadable operators,so the symbols aren't always perfectly symmetrical in use.)\n",
    "\n",
    "The > and < operators compare phonemes in terms of their *sonority*:"
   ]
  },
  {
   "cell_type": "code",
   "execution_count": 11,
   "metadata": {},
   "outputs": [
    {
     "data": {
      "text/plain": [
       "(False, True, True, False)"
      ]
     },
     "execution_count": 11,
     "metadata": {},
     "output_type": "execute_result"
    }
   ],
   "source": [
    "a < t, \\\n",
    "a > t, \\\n",
    "a > e, \\\n",
    "a < e"
   ]
  },
  {
   "cell_type": "markdown",
   "metadata": {},
   "source": [
    "The << operator *merges* the features of the right-hand argument into *a copy* of the phoneme on the left.\n",
    "\n",
    "The object on the right can be a full phoneme, a list of features, or just an individual feature.\n",
    "\n",
    "In the examples below, the first operation simply generates a copy of `a`, the second is a silly copy of `t`, and the second two are changes to the vowel quality of `a`."
   ]
  },
  {
   "cell_type": "code",
   "execution_count": 12,
   "metadata": {},
   "outputs": [
    {
     "data": {
      "text/plain": [
       "(IPA:ɑ Consonantal.neg Height.open Backness.back Roundedness.neg Length.short,\n",
       " IPA:t Consonantal.pos Place.alveolar Manner.stop Voiced.neg Aspirated.neg Geminate.neg,\n",
       " IPA:ɑ Consonantal.neg Height.close Backness.central Roundedness.neg Length.short,\n",
       " IPA:ɑ Consonantal.neg Height.open Backness.central Roundedness.neg Length.short)"
      ]
     },
     "execution_count": 12,
     "metadata": {},
     "output_type": "execute_result"
    }
   ],
   "source": [
    "a << a, \\\n",
    "a << t, \\\n",
    "a << [Backness.central, Height.close], \\\n",
    "a << Backness.central"
   ]
  },
  {
   "cell_type": "markdown",
   "metadata": {},
   "source": [
    "The <= and => operators are non-symmetric matching operators.  In effect they are subset relations on feature bundles.\n",
    "\n",
    "A <= B is true if B contains all the features in A.  A >= B is true if A contains all the features in B.  Again on the right one can use full phonemes, or lists of features, or just a bare feature.  On the left one cannot use a list (Python won't let me overload built-in methods), so if listing several features on the left, the `phoneme` function must be used."
   ]
  },
  {
   "cell_type": "code",
   "execution_count": 13,
   "metadata": {},
   "outputs": [
    {
     "data": {
      "text/plain": [
       "(True, True, True, False)"
      ]
     },
     "execution_count": 13,
     "metadata": {},
     "output_type": "execute_result"
    }
   ],
   "source": [
    "Backness.back <= a, \\\n",
    "a >= [Backness.back, Height.open], \\\n",
    "phoneme(Backness.back, Height.open) <= a,\\\n",
    "e <= a"
   ]
  },
  {
   "cell_type": "markdown",
   "metadata": {},
   "source": [
    "## Phonological Rules"
   ]
  },
  {
   "cell_type": "markdown",
   "metadata": {},
   "source": [
    "### Rule creation"
   ]
  },
  {
   "cell_type": "markdown",
   "metadata": {},
   "source": [
    "The >> operator on phonemes creates rules."
   ]
  },
  {
   "cell_type": "code",
   "execution_count": 14,
   "metadata": {},
   "outputs": [
    {
     "data": {
      "text/plain": [
       "<cltk.phonology.orthophonology.PhonologicalRule at 0x7fc4cf698e80>"
      ]
     },
     "execution_count": 14,
     "metadata": {},
     "output_type": "execute_result"
    }
   ],
   "source": [
    "rule1 = Length.short >> Length.long\n",
    "rule1"
   ]
  },
  {
   "cell_type": "markdown",
   "metadata": {},
   "source": [
    "A rule contains a *condition* and an *action*.\n",
    "\n",
    "The condition for `rule1` is that a phoneme be specified for `Length.short`.  The action is to lengthen the vowel.\n",
    "\n",
    "We can apply the rule as is immediately to a list of phonemes and a position in the list, without checking the condition:"
   ]
  },
  {
   "cell_type": "code",
   "execution_count": 15,
   "metadata": {},
   "outputs": [
    {
     "data": {
      "text/plain": [
       "IPA:ɑ Consonantal.neg Height.open Backness.back Roundedness.neg Length.long"
      ]
     },
     "execution_count": 15,
     "metadata": {},
     "output_type": "execute_result"
    }
   ],
   "source": [
    "rule1( [a] ,0)"
   ]
  },
  {
   "cell_type": "code",
   "execution_count": 16,
   "metadata": {},
   "outputs": [
    {
     "data": {
      "text/plain": [
       "IPA:b Consonantal.pos Place.bilabial Manner.stop Voiced.pos Aspirated.neg Geminate.neg Length.long"
      ]
     },
     "execution_count": 16,
     "metadata": {},
     "output_type": "execute_result"
    }
   ],
   "source": [
    "rule1( [b] , 0)"
   ]
  },
  {
   "cell_type": "markdown",
   "metadata": {},
   "source": [
    "The result of the second application is of course nonsense, since `Length` is not a feature of consonants.  We ought to instead consult the condition:"
   ]
  },
  {
   "cell_type": "code",
   "execution_count": 17,
   "metadata": {},
   "outputs": [
    {
     "data": {
      "text/plain": [
       "(True, False)"
      ]
     },
     "execution_count": 17,
     "metadata": {},
     "output_type": "execute_result"
    }
   ],
   "source": [
    "rule1.check_environment( [a], 0 ), rule1.check_environment( [b], 0)"
   ]
  },
  {
   "cell_type": "markdown",
   "metadata": {},
   "source": [
    "So the rule ought to only be applied in the first case:"
   ]
  },
  {
   "cell_type": "code",
   "execution_count": 18,
   "metadata": {},
   "outputs": [
    {
     "data": {
      "text/plain": [
       "(IPA:ɑ Consonantal.neg Height.open Backness.back Roundedness.neg Length.long,\n",
       " IPA:b Consonantal.pos Place.bilabial Manner.stop Voiced.pos Aspirated.neg Geminate.neg)"
      ]
     },
     "execution_count": 18,
     "metadata": {},
     "output_type": "execute_result"
    }
   ],
   "source": [
    "def apply_rule(rule, phonemes, pos):\n",
    "    return rule(phonemes, pos) if rule.check_environment(phonemes, pos) else phonemes[pos]\n",
    "\n",
    "apply_rule(rule1, [a], 0), apply_rule(rule1, [b], 0)\n"
   ]
  },
  {
   "cell_type": "markdown",
   "metadata": {},
   "source": [
    "Note: the action of a rule can also specify a list of phonemes."
   ]
  },
  {
   "cell_type": "code",
   "execution_count": 19,
   "metadata": {},
   "outputs": [
    {
     "data": {
      "text/plain": [
       "[IPA:ɑ Consonantal.neg Height.open Backness.back Roundedness.neg Length.short,\n",
       " IPA:e Consonantal.neg Height.mid Backness.front Roundedness.neg Length.short]"
      ]
     },
     "execution_count": 19,
     "metadata": {},
     "output_type": "execute_result"
    }
   ],
   "source": [
    "apply_rule(a >> [a, e], [a], 0)"
   ]
  },
  {
   "cell_type": "markdown",
   "metadata": {},
   "source": [
    "The *left* side of the rule generator can also be an expression of the form: phoneme1 // phoneme2 // ...\n",
    "This creates a disjunction, a list of possible matches.  "
   ]
  },
  {
   "cell_type": "code",
   "execution_count": 20,
   "metadata": {},
   "outputs": [
    {
     "data": {
      "text/plain": [
       "(IPA:ɑ Consonantal.neg Height.open Backness.back Roundedness.neg Length.long,\n",
       " IPA:e Consonantal.neg Height.mid Backness.front Roundedness.neg Length.long,\n",
       " IPA:u Consonantal.neg Height.close Backness.back Roundedness.pos Length.short)"
      ]
     },
     "execution_count": 20,
     "metadata": {},
     "output_type": "execute_result"
    }
   ],
   "source": [
    "rule2 = a // e >> [Length.long]  # disjunctive list on the left\n",
    "\n",
    "apply_rule(rule2, [a], 0), \\\n",
    "apply_rule(rule2, [e], 0), \\\n",
    "apply_rule(rule2, [u], 0)"
   ]
  },
  {
   "cell_type": "markdown",
   "metadata": {},
   "source": [
    "Note that the rule only applied to `a` and `e`, but not to `o`.  "
   ]
  },
  {
   "cell_type": "markdown",
   "metadata": {},
   "source": [
    "### Environments"
   ]
  },
  {
   "cell_type": "markdown",
   "metadata": {},
   "source": [
    "The `-` operator on phonemes creates environmental specifications.  Concretely, it returns a boolean *function* of the contents of the phonemes immediately preceding and following the target phoneme.\n",
    "\n",
    "The `-` sign is intended to be iconically related to the underscore used by phonologists."
   ]
  },
  {
   "cell_type": "code",
   "execution_count": 21,
   "metadata": {},
   "outputs": [
    {
     "data": {
      "text/plain": [
       "<function cltk.phonology.orthophonology.AbstractPhoneme.__sub__.<locals>.<lambda>(before, _, after)>"
      ]
     },
     "execution_count": 21,
     "metadata": {},
     "output_type": "execute_result"
    }
   ],
   "source": [
    "env = a - x\n",
    "env"
   ]
  },
  {
   "cell_type": "markdown",
   "metadata": {},
   "source": [
    "Since the environment is just a function, we can call it:"
   ]
  },
  {
   "cell_type": "code",
   "execution_count": 22,
   "metadata": {},
   "outputs": [
    {
     "data": {
      "text/plain": [
       "(True, False)"
      ]
     },
     "execution_count": 22,
     "metadata": {},
     "output_type": "execute_result"
    }
   ],
   "source": [
    "env(a, _, x), env(a, _, y)"
   ]
  },
  {
   "cell_type": "markdown",
   "metadata": {},
   "source": [
    "The left and right may contain full phonemes, or, as before, feature values or lists of feature values (right side only)."
   ]
  },
  {
   "cell_type": "code",
   "execution_count": 23,
   "metadata": {},
   "outputs": [
    {
     "data": {
      "text/plain": [
       "(True, False)"
      ]
     },
     "execution_count": 23,
     "metadata": {},
     "output_type": "execute_result"
    }
   ],
   "source": [
    "env = Backness.back - [Backness.front, Height.close]\n",
    "env(a, _, i), env(a, _, e)"
   ]
  },
  {
   "cell_type": "markdown",
   "metadata": {},
   "source": [
    "### Conditional Rules"
   ]
  },
  {
   "cell_type": "markdown",
   "metadata": {},
   "source": [
    "The bar `|` operator on a phonological rule adds the environment on the right of the operator to the conditions on the left."
   ]
  },
  {
   "cell_type": "code",
   "execution_count": 24,
   "metadata": {},
   "outputs": [
    {
     "data": {
      "text/plain": [
       "('ɑvi', 'ɑfe')"
      ]
     },
     "execution_count": 24,
     "metadata": {},
     "output_type": "execute_result"
    }
   ],
   "source": [
    "rule2 = Consonantal.pos >> Voiced.pos\n",
    "rule2 = rule2 | env\n",
    "\n",
    "oe.rules = [rule2]\n",
    "oe.transcribe('afi'), oe.transcribe('afe')"
   ]
  },
  {
   "cell_type": "markdown",
   "metadata": {},
   "source": [
    "Rule2 says that a consonant is voiced in the environment specified by `env` above: when preceded by a back vowel and followed by a high front vowel.  As we can see, the rule fires for `afi` but not `afe`, since `e` is a mid vowel."
   ]
  },
  {
   "cell_type": "markdown",
   "metadata": {},
   "source": [
    "### Special (pseudo-)phonemes"
   ]
  },
  {
   "cell_type": "markdown",
   "metadata": {},
   "source": [
    "There are three special identifiers for use in envionments:\n",
    "\n",
    "* ANY : matches anything, including word boundaries\n",
    "* W : matches word boundaries (replacing the # of the standard notation)\n",
    "* S : matches syllable boundaries\n",
    "\n",
    "Thus the rule:"
   ]
  },
  {
   "cell_type": "code",
   "execution_count": 25,
   "metadata": {},
   "outputs": [
    {
     "data": {
      "text/plain": [
       "<cltk.phonology.orthophonology.PhonologicalRule at 0x7fc4cf633898>"
      ]
     },
     "execution_count": 25,
     "metadata": {},
     "output_type": "execute_result"
    }
   ],
   "source": [
    "a >> Length.long | W - ANY"
   ]
  },
  {
   "cell_type": "markdown",
   "metadata": {},
   "source": [
    "Determines that `a` is always lengthened when word-initial."
   ]
  },
  {
   "cell_type": "markdown",
   "metadata": {},
   "source": [
    "### Examples\n",
    "\n",
    "Here are a few ortho-phonological rules for Old English.  Mostly they are simply phonological rules, but the last one, relating to the digraph `sc`, also involves the orthography.\n"
   ]
  },
  {
   "cell_type": "code",
   "execution_count": 26,
   "metadata": {},
   "outputs": [
    {
     "data": {
      "text/plain": [
       "7"
      ]
     },
     "execution_count": 26,
     "metadata": {},
     "output_type": "execute_result"
    }
   ],
   "source": [
    "oe.rules = [\n",
    "    # intervocalic /f/, /s/, and /θ/ are vocalized\n",
    "    f // s // th >> Voiced.pos | Consonantal.neg - Consonantal.neg,\n",
    "    \n",
    "    # /g/ is fricativized when intervocalic\n",
    "    g >> y | Consonantal.neg - Consonantal.neg,\n",
    "    g >> y | Voiced.pos - Voiced.pos,\n",
    "\n",
    "    # word-initial h is just /h/\n",
    "    h >> h | W - ANY,\n",
    "\n",
    "    # /h/ is palatized after a front vowel\n",
    "    h >> ch | Backness.front - ANY,\n",
    "\n",
    "    # elsewhere for h\n",
    "    h >> x,\n",
    "\n",
    "    # 'sc' is *not* a digraph after a back vowel\n",
    "    sh >> s // k | Backness.back - ANY\n",
    "]\n",
    "len(oe.rules)"
   ]
  },
  {
   "cell_type": "code",
   "execution_count": 28,
   "metadata": {},
   "outputs": [
    {
     "data": {
      "text/plain": [
       "('ʃip', 'ɑskiɑn', 'ɑlɑved', 'kæg')"
      ]
     },
     "execution_count": 28,
     "metadata": {},
     "output_type": "execute_result"
    }
   ],
   "source": [
    "oe('scip'), oe('ascian'), oe('alafed'), oe('cæg')"
   ]
  },
  {
   "cell_type": "code",
   "execution_count": null,
   "metadata": {},
   "outputs": [],
   "source": []
  }
 ],
 "metadata": {
  "kernelspec": {
   "display_name": "Python 3",
   "language": "python",
   "name": "python3"
  },
  "language_info": {
   "codemirror_mode": {
    "name": "ipython",
    "version": 3
   },
   "file_extension": ".py",
   "mimetype": "text/x-python",
   "name": "python",
   "nbconvert_exporter": "python",
   "pygments_lexer": "ipython3",
   "version": "3.7.0"
  }
 },
 "nbformat": 4,
 "nbformat_minor": 2
}

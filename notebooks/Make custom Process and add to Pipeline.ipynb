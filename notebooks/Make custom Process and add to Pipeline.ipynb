{
 "cells": [
  {
   "cell_type": "markdown",
   "metadata": {},
   "source": [
    "This notebook shows how to wrap a function with a `Process`, then to call it in a `Pipeline`"
   ]
  },
  {
   "cell_type": "markdown",
   "metadata": {},
   "source": [
    "# Make a new `Process`\n",
    "\n",
    "To understand how a `Process` works, we will create a new one here. We will make one specific for transliteration, then subclass that for a particular language."
   ]
  },
  {
   "cell_type": "code",
   "execution_count": 1,
   "metadata": {},
   "outputs": [],
   "source": [
    "from cltk.core.data_types import Process"
   ]
  },
  {
   "cell_type": "code",
   "execution_count": 2,
   "metadata": {},
   "outputs": [],
   "source": [
    "# this code in the CLTK takes the Anglo-Saxon runic alphabet and turns it into the Latin alphabet\n",
    "from cltk.phonology.ang.transliteration import Transliterate"
   ]
  },
  {
   "cell_type": "code",
   "execution_count": 3,
   "metadata": {},
   "outputs": [
    {
     "name": "stdout",
     "output_type": "stream",
     "text": [
      "oft scyld scefin sceathena threatum\n"
     ]
    }
   ],
   "source": [
    "oe_runes = \"ᚩᚠᛏ ᛋᚳᚣᛚᛞ ᛋᚳᛖᚠᛁᛝ ᛋᚳᛠᚦᛖᚾᚪ ᚦᚱᛠᛏᚢᛗ\"  # type str\n",
    "oe_latin = Transliterate().transliterate(text=oe_runes, mode=\"Latin\")  # type str\n",
    "print(oe_latin)"
   ]
  },
  {
   "cell_type": "code",
   "execution_count": 4,
   "metadata": {},
   "outputs": [],
   "source": [
    "from dataclasses import dataclass\n",
    "from copy import deepcopy\n",
    "from boltons.cacheutils import cachedproperty\n",
    "from cltk.core.exceptions import CLTKException\n",
    "from cltk.core.data_types import Doc, Word"
   ]
  },
  {
   "cell_type": "code",
   "execution_count": 5,
   "metadata": {},
   "outputs": [],
   "source": [
    "@dataclass\n",
    "class OldEnglishTransliterationProcess(Process):\n",
    "    \"\"\"A simple ``Process`` for transliteration of \n",
    "    Old English in the runic alphabet.\n",
    "    \"\"\"\n",
    "    \n",
    "    language: str = None\n",
    "\n",
    "    @cachedproperty\n",
    "    def algorithm(self):\n",
    "        \"\"\"This is the algo to be sent over\"\"\"\n",
    "        return Transliterate().transliterate\n",
    "\n",
    "    def run(self, input_doc: Doc) -> Doc:\n",
    "        output_doc = deepcopy(input_doc)\n",
    "        \n",
    "        for index, word_obj in enumerate(output_doc.words):\n",
    "            oe_latin = self.algorithm(text=word_obj.string, mode=\"Latin\")  # type str\n",
    "            word_obj.phonetic_transcription = oe_latin\n",
    "            output_doc.words[index] = word_obj\n",
    "\n",
    "        return output_doc\n",
    "\n",
    "oe_words = [Word(string=w) for w in oe_runes.split()]\n",
    "cltk_doc_oe = Doc(words=oe_words)\n",
    "translit_proc = OldEnglishTransliterationProcess\n",
    "cltk_doc_oe = translit_proc().run(input_doc=cltk_doc_oe)"
   ]
  },
  {
   "cell_type": "code",
   "execution_count": 6,
   "metadata": {},
   "outputs": [
    {
     "name": "stdout",
     "output_type": "stream",
     "text": [
      "Word(index_char_start=None, index_char_stop=None, index_token=None, index_sentence=None, string='ᚩᚠᛏ', pos=None, lemma=None, stem=None, scansion=None, xpos=None, upos=None, dependency_relation=None, governor=None, features={}, category={}, embedding=None, stop=None, named_entity=None, syllables=None, phonetic_transcription='oft', definition=None)\n"
     ]
    }
   ],
   "source": [
    "# now you can see that a value has been added to Word.phonetic_transcription\n",
    "print(cltk_doc_oe.words[0])"
   ]
  },
  {
   "cell_type": "code",
   "execution_count": 7,
   "metadata": {},
   "outputs": [
    {
     "name": "stdout",
     "output_type": "stream",
     "text": [
      "[('ᚩᚠᛏ', 'oft'), ('ᛋᚳᚣᛚᛞ', 'scyld'), ('ᛋᚳᛖᚠᛁᛝ', 'scefin'), ('ᛋᚳᛠᚦᛖᚾᚪ', 'sceathena'), ('ᚦᚱᛠᛏᚢᛗ', 'threatum')]\n"
     ]
    }
   ],
   "source": [
    "print([(w.string, w.phonetic_transcription) for w in cltk_doc_oe.words])"
   ]
  },
  {
   "cell_type": "markdown",
   "metadata": {},
   "source": [
    "Note that most ``Process``es in the CLTK library are more complex than this, as they allow for inheritance, which helps the project scale better. For instance:\n",
    "\n",
    "`Process` <--- `StemmingProcess` <--- {`LatinStemmingProcess`, `MiddleEnglishStemmingProcess`, `MiddleHighGermanStemmingProcess`, `OldFrenchStemmingProcess`}\n",
    "\n",
    "In these cases, the separation of `algorithm` from `run` allows for different functions to be called for each language."
   ]
  },
  {
   "cell_type": "markdown",
   "metadata": {},
   "source": [
    "# Add a `Process` to a `Pipeline`\n",
    "\n",
    "Each `Process` takes a `Doc`, adds information to it and its `Word`s, then and returns the `Doc`. A `Process` like our new `OldEnglishTransliterationProcess` might belong at the end, so in the following we append it to the end of the `Pipeline`."
   ]
  },
  {
   "cell_type": "code",
   "execution_count": 8,
   "metadata": {},
   "outputs": [],
   "source": [
    "from cltk import NLP"
   ]
  },
  {
   "cell_type": "code",
   "execution_count": 9,
   "metadata": {},
   "outputs": [
    {
     "name": "stdout",
     "output_type": "stream",
     "text": [
      "‎𐤀 CLTK version 'cltk 1.0.0b10'.\n",
      "Pipeline for language 'Old English (ca. 450-1100)' (ISO: 'ang'): `MultilingualTokenizationProcess`, `OldEnglishLemmatizationProcess`, `OldEnglishEmbeddingsProcess`, `StopsProcess`, `OldEnglishNERProcess`.\n"
     ]
    }
   ],
   "source": [
    "# Load the Old English NLP class\n",
    "cltk_nlp = NLP(language=\"ang\")"
   ]
  },
  {
   "cell_type": "code",
   "execution_count": 10,
   "metadata": {},
   "outputs": [
    {
     "name": "stdout",
     "output_type": "stream",
     "text": [
      "[<class 'cltk.tokenizers.processes.MultilingualTokenizationProcess'>,\n",
      " <class 'cltk.lemmatize.processes.OldEnglishLemmatizationProcess'>,\n",
      " <class 'cltk.embeddings.processes.OldEnglishEmbeddingsProcess'>,\n",
      " <class 'cltk.stops.processes.StopsProcess'>,\n",
      " <class 'cltk.ner.processes.OldEnglishNERProcess'>]\n"
     ]
    }
   ],
   "source": [
    "# Inspect the Pipline, which is contained in NLP\n",
    "from pprint import pprint\n",
    "pprint(cltk_nlp.pipeline.processes)"
   ]
  },
  {
   "cell_type": "code",
   "execution_count": 11,
   "metadata": {},
   "outputs": [],
   "source": [
    "# Add the new custom Process to the end\n",
    "cltk_nlp.pipeline.processes.append(OldEnglishTransliterationProcess)"
   ]
  },
  {
   "cell_type": "code",
   "execution_count": 12,
   "metadata": {},
   "outputs": [
    {
     "name": "stdout",
     "output_type": "stream",
     "text": [
      "Word(index_char_start=0, index_char_stop=3, index_token=0, index_sentence=None, string='ᚩᚠᛏ', pos=None, lemma='ᚩᚠᛏ', stem=None, scansion=None, xpos=None, upos=None, dependency_relation=None, governor=None, features={}, category={}, embedding=array([0., 0., 0., 0., 0., 0., 0., 0., 0., 0., 0., 0., 0., 0., 0., 0., 0.,\n",
      "       0., 0., 0., 0., 0., 0., 0., 0., 0., 0., 0., 0., 0., 0., 0., 0., 0.,\n",
      "       0., 0., 0., 0., 0., 0., 0., 0., 0., 0., 0., 0., 0., 0., 0., 0., 0.,\n",
      "       0., 0., 0., 0., 0., 0., 0., 0., 0., 0., 0., 0., 0., 0., 0., 0., 0.,\n",
      "       0., 0., 0., 0., 0., 0., 0., 0., 0., 0., 0., 0., 0., 0., 0., 0., 0.,\n",
      "       0., 0., 0., 0., 0., 0., 0., 0., 0., 0., 0., 0., 0., 0., 0., 0., 0.,\n",
      "       0., 0., 0., 0., 0., 0., 0., 0., 0., 0., 0., 0., 0., 0., 0., 0., 0.,\n",
      "       0., 0., 0., 0., 0., 0., 0., 0., 0., 0., 0., 0., 0., 0., 0., 0., 0.,\n",
      "       0., 0., 0., 0., 0., 0., 0., 0., 0., 0., 0., 0., 0., 0., 0., 0., 0.,\n",
      "       0., 0., 0., 0., 0., 0., 0., 0., 0., 0., 0., 0., 0., 0., 0., 0., 0.,\n",
      "       0., 0., 0., 0., 0., 0., 0., 0., 0., 0., 0., 0., 0., 0., 0., 0., 0.,\n",
      "       0., 0., 0., 0., 0., 0., 0., 0., 0., 0., 0., 0., 0., 0., 0., 0., 0.,\n",
      "       0., 0., 0., 0., 0., 0., 0., 0., 0., 0., 0., 0., 0., 0., 0., 0., 0.,\n",
      "       0., 0., 0., 0., 0., 0., 0., 0., 0., 0., 0., 0., 0., 0., 0., 0., 0.,\n",
      "       0., 0., 0., 0., 0., 0., 0., 0., 0., 0., 0., 0., 0., 0., 0., 0., 0.,\n",
      "       0., 0., 0., 0., 0., 0., 0., 0., 0., 0., 0., 0., 0., 0., 0., 0., 0.,\n",
      "       0., 0., 0., 0., 0., 0., 0., 0., 0., 0., 0., 0., 0., 0., 0., 0., 0.,\n",
      "       0., 0., 0., 0., 0., 0., 0., 0., 0., 0., 0.]), stop=False, named_entity=False, syllables=None, phonetic_transcription='oft', definition=None)\n"
     ]
    }
   ],
   "source": [
    "# Now run the pipeline and see the results written to Word.phonetic_transcription\n",
    "cltk_doc = cltk_nlp.analyze(text=oe_runes)\n",
    "print(cltk_doc.words[0])"
   ]
  }
 ],
 "metadata": {
  "kernelspec": {
   "display_name": "Python 3",
   "language": "python",
   "name": "python3"
  },
  "language_info": {
   "codemirror_mode": {
    "name": "ipython",
    "version": 3
   },
   "file_extension": ".py",
   "mimetype": "text/x-python",
   "name": "python",
   "nbconvert_exporter": "python",
   "pygments_lexer": "ipython3",
   "version": "3.8.3"
  }
 },
 "nbformat": 4,
 "nbformat_minor": 4
}

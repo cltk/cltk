{
 "cells": [
  {
   "cell_type": "markdown",
   "metadata": {},
   "source": [
    "This notebook illustrates the `NLP()` pipeline on all available languages.\n",
    "\n",
    "If dependency parse information is available, an example tree is printed, too."
   ]
  },
  {
   "cell_type": "code",
   "execution_count": 1,
   "metadata": {},
   "outputs": [],
   "source": [
    "%load_ext autoreload\n",
    "%autoreload 2"
   ]
  },
  {
   "cell_type": "code",
   "execution_count": 5,
   "metadata": {},
   "outputs": [],
   "source": [
    "from cltk import NLP\n",
    "from cltk.dependency.tree import DependencyTree\n",
    "from cltk.languages.example_texts import get_example_text\n",
    "from cltk.languages.pipelines import *"
   ]
  },
  {
   "cell_type": "code",
   "execution_count": 6,
   "metadata": {},
   "outputs": [],
   "source": [
    "iso_to_pipeline = {\n",
    "    \"akk\": AkkadianPipeline,\n",
    "    \"ang\": OldEnglishPipeline,\n",
    "    \"arb\": ArabicPipeline,\n",
    "    \"arc\": AramaicPipeline,\n",
    "    \"chu\": OCSPipeline,\n",
    "    \"cop\": CopticPipeline,\n",
    "    \"enm\": MiddleEnglishPipeline,\n",
    "    \"frm\": MiddleFrenchPipeline,\n",
    "    \"fro\": OldFrenchPipeline,\n",
    "    \"gmh\": MiddleHighGermanPipeline,\n",
    "    \"got\": GothicPipeline,\n",
    "    \"grc\": GreekPipeline,\n",
    "    \"hin\": HindiPipeline,\n",
    "    \"lat\": LatinPipeline,\n",
    "    \"lzh\": ChinesePipeline,\n",
    "    \"non\": OldNorsePipeline,\n",
    "    \"pan\": PanjabiPipeline,\n",
    "    \"pli\": PaliPipeline,\n",
    "    \"san\": SanskritPipeline,\n",
    "}"
   ]
  },
  {
   "cell_type": "code",
   "execution_count": null,
   "metadata": {
    "scrolled": false
   },
   "outputs": [
    {
     "name": "stdout",
     "output_type": "stream",
     "text": [
      "Akkadian ('akk') ...\n",
      "Example `Word`: Word(index_char_start=0, index_char_stop=2, index_token=0, index_sentence=None, string=('u2-wa-a-ru', 'akkadian'), pos=None, lemma=None, stem=None, scansion=None, xpos=None, upos=None, dependency_relation=None, governor=None, features={}, category={}, embedding=None, stop=False, named_entity=None, syllables=None, phonetic_transcription=None)\n",
      "Printing dependency tree of first sentence ...\n",
      "DT failed\n",
      "\n",
      "Old English (ca. 450-1100) ('ang') ...\n",
      "CLTK message: This part of the CLTK depends upon word embedding models from the Fasttext project.\n",
      "Do you want to download file 'https://dl.fbaipublicfiles.com/fasttext/vectors-wiki/wiki.ang.vec' to '/Users/kylejohnson/cltk_data/ang/embeddings/fasttext/wiki.ang.vec'? [Y/n] \n",
      "\n"
     ]
    },
    {
     "name": "stderr",
     "output_type": "stream",
     "text": [
      "100%|██████████| 34.0M/34.0M [00:01<00:00, 28.0MiB/s]\n"
     ]
    },
    {
     "name": "stdout",
     "output_type": "stream",
     "text": [
      "Example `Word`: Word(index_char_start=0, index_char_stop=5, index_token=0, index_sentence=None, string='Hwæt.', pos=None, lemma='Hwæt.', stem=None, scansion=None, xpos=None, upos=None, dependency_relation=None, governor=None, features={}, category={}, embedding=array([0., 0., 0., 0., 0., 0., 0., 0., 0., 0., 0., 0., 0., 0., 0., 0., 0.,\n",
      "       0., 0., 0., 0., 0., 0., 0., 0., 0., 0., 0., 0., 0., 0., 0., 0., 0.,\n",
      "       0., 0., 0., 0., 0., 0., 0., 0., 0., 0., 0., 0., 0., 0., 0., 0., 0.,\n",
      "       0., 0., 0., 0., 0., 0., 0., 0., 0., 0., 0., 0., 0., 0., 0., 0., 0.,\n",
      "       0., 0., 0., 0., 0., 0., 0., 0., 0., 0., 0., 0., 0., 0., 0., 0., 0.,\n",
      "       0., 0., 0., 0., 0., 0., 0., 0., 0., 0., 0., 0., 0., 0., 0., 0., 0.,\n",
      "       0., 0., 0., 0., 0., 0., 0., 0., 0., 0., 0., 0., 0., 0., 0., 0., 0.,\n",
      "       0., 0., 0., 0., 0., 0., 0., 0., 0., 0., 0., 0., 0., 0., 0., 0., 0.,\n",
      "       0., 0., 0., 0., 0., 0., 0., 0., 0., 0., 0., 0., 0., 0., 0., 0., 0.,\n",
      "       0., 0., 0., 0., 0., 0., 0., 0., 0., 0., 0., 0., 0., 0., 0., 0., 0.,\n",
      "       0., 0., 0., 0., 0., 0., 0., 0., 0., 0., 0., 0., 0., 0., 0., 0., 0.,\n",
      "       0., 0., 0., 0., 0., 0., 0., 0., 0., 0., 0., 0., 0., 0., 0., 0., 0.,\n",
      "       0., 0., 0., 0., 0., 0., 0., 0., 0., 0., 0., 0., 0., 0., 0., 0., 0.,\n",
      "       0., 0., 0., 0., 0., 0., 0., 0., 0., 0., 0., 0., 0., 0., 0., 0., 0.,\n",
      "       0., 0., 0., 0., 0., 0., 0., 0., 0., 0., 0., 0., 0., 0., 0., 0., 0.,\n",
      "       0., 0., 0., 0., 0., 0., 0., 0., 0., 0., 0., 0., 0., 0., 0., 0., 0.,\n",
      "       0., 0., 0., 0., 0., 0., 0., 0., 0., 0., 0., 0., 0., 0., 0., 0., 0.,\n",
      "       0., 0., 0., 0., 0., 0., 0., 0., 0., 0., 0.]), stop=False, named_entity=False, syllables=None, phonetic_transcription=None)\n",
      "Printing dependency tree of first sentence ...\n",
      "DT failed\n",
      "\n",
      "Standard Arabic ('arb') ...\n",
      "CLTK message: This part of the CLTK depends upon word embedding models from the Fasttext project.\n",
      "Do you want to download file 'https://dl.fbaipublicfiles.com/fasttext/vectors-wiki/wiki.ar.vec' to '/Users/kylejohnson/cltk_data/arb/embeddings/fasttext/wiki.ar.vec'? [Y/n] \n",
      "\n"
     ]
    },
    {
     "name": "stderr",
     "output_type": "stream",
     "text": [
      "100%|██████████| 1.61G/1.61G [00:51<00:00, 31.6MiB/s]\n"
     ]
    }
   ],
   "source": [
    "for lang, pipeline in iso_to_pipeline.items():\n",
    "    print(f\"{pipeline.language.name} ('{pipeline.language.iso_639_3_code}') ...\")\n",
    "    text = get_example_text(lang)\n",
    "    cltk_nlp = NLP(language=lang)\n",
    "    cltk_doc = cltk_nlp.analyze(text=text)\n",
    "    cltk_doc.sentences_strings\n",
    "    word = cltk_doc.sentences[0][0]\n",
    "    print(\"Example `Word`:\", word)\n",
    "    if all([w.features for w in cltk_doc.sentences[0]]):\n",
    "        print(\"Printing dependency tree of first sentence ...\")\n",
    "        try:\n",
    "            a_tree = DependencyTree.to_tree(cltk_doc.sentences[0])\n",
    "        except:\n",
    "            print(\"DT failed\")\n",
    "            print(\"\")\n",
    "            continue\n",
    "        a_tree.print_tree()\n",
    "    print(\"\")"
   ]
  }
 ],
 "metadata": {
  "kernelspec": {
   "display_name": "Python 3",
   "language": "python",
   "name": "python3"
  },
  "language_info": {
   "codemirror_mode": {
    "name": "ipython",
    "version": 3
   },
   "file_extension": ".py",
   "mimetype": "text/x-python",
   "name": "python",
   "nbconvert_exporter": "python",
   "pygments_lexer": "ipython3",
   "version": "3.8.3"
  }
 },
 "nbformat": 4,
 "nbformat_minor": 4
}

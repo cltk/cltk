{
 "cells": [
  {
   "cell_type": "markdown",
   "metadata": {},
   "source": [
    "# Table of contents\n",
    "1. [Introduction](#introduction)\n",
    "1. [Install pre-release of CLTK](#install)\n",
    "1. [Get data](#get-data)\n",
    "1. [Run NLP pipeline with `NLP()`](#run-nlp)\n",
    "1. [Inspect CLTK `Doc`](#inspect-doc)\n",
    "1. [Inspect CLTK `Word`](#inspect-word)\n",
    "1. [Modeling morphology with `MorphosyntacticFeature` and `MorphosyntacticFeatureBundle`](#morph)\n",
    "1. [Modeling syntax with `Form` and `DependencyTree`](#syntax)\n",
    "1. [Feature extraction](#features)\n",
    "1. [Brief demonstration of `NLP()` for Ancient Greek](#greek-nlp)"
   ]
  },
  {
   "cell_type": "markdown",
   "metadata": {},
   "source": [
    "# Introduction <a name=\"introduction\"></a>\n",
    "\n",
    "This notebook demonstrates how to use `NLP()`, the CLTK's primary interface, in Latin and Ancient Greek. Pipelines are available for 17 languages (see [Languages](https://docs.cltk.org/en/latest/languages.html) in the docs).\n",
    "\n",
    "Full documentation available at <https://docs.cltk.org/en/latest/cltk.html#cltk.nlp.NLP>.\n",
    "\n",
    "Note that there is a large amoung of code from this project's first six years (v. `0.1`), not all of which has been or will be moved over to this v. `1.0`. Docs for `0.1` still available at [https://legacy.cltk.org](https://legacy.cltk.org/) and tutorial notebooks at [https://github.com/cltk/tutorials](https://github.com/cltk/tutorials)."
   ]
  },
  {
   "cell_type": "markdown",
   "metadata": {},
   "source": [
    "# Install CLTK <a name=\"install\"></a>\n",
    "\n",
    "This notebook comes from <https://github.com/cltk/cltk/tree/master/notebooks>. For full instructions on installing the CLTK are available at <https://docs.cltk.org/en/latest/installation.html>."
   ]
  },
  {
   "cell_type": "code",
   "execution_count": 1,
   "metadata": {},
   "outputs": [],
   "source": [
    "# !pip install cltk"
   ]
  },
  {
   "cell_type": "code",
   "execution_count": 2,
   "metadata": {},
   "outputs": [],
   "source": [
    "## Or directly from this repo:\n",
    "# cd .. && make install\n",
    "\n",
    "%load_ext autoreload\n",
    "%autoreload 2"
   ]
  },
  {
   "cell_type": "markdown",
   "metadata": {},
   "source": [
    "# Get data <a name=\"get-data\"></a>\n",
    "\n",
    "The following obtain two plaintext documents of two Classical authors. A subset of each will be used to demonstrate the CLTK."
   ]
  },
  {
   "cell_type": "code",
   "execution_count": 3,
   "metadata": {
    "scrolled": true
   },
   "outputs": [],
   "source": [
    "# Get Latin text\n",
    "# https://gist.github.com/kylepjohnson/2f9376fcf15699c250a0d09b37683370\n",
    "# now at `notebooks/lat-livy.txt`\n",
    "# !curl -O -L https://gist.github.com/kylepjohnson/2f9376fcf15699c250a0d09b37683370/raw/05b7a17af4b216a4986d897c57a9987e836cc91a/lat-livy.txt"
   ]
  },
  {
   "cell_type": "code",
   "execution_count": 4,
   "metadata": {},
   "outputs": [],
   "source": [
    "# Get Ancient Greek text\n",
    "# https://gist.github.com/kylepjohnson/9835c36fb06ca30ebf29b7f2c7bd29e0\n",
    "# now at `notebooks/grc-thucydides.txt`\n",
    "# !curl -O -L https://gist.github.com/kylepjohnson/9835c36fb06ca30ebf29b7f2c7bd29e0/raw/e08e47849f64484b0950b14563bb5a9fd1e1ef1c/grc-thucydides.txt"
   ]
  },
  {
   "cell_type": "code",
   "execution_count": 5,
   "metadata": {},
   "outputs": [],
   "source": [
    "# read the Latin file\n",
    "# We'll run the full demonstration in the Latin language first\n",
    "with open(\"lat-livy.txt\") as fo:\n",
    "    livy_full = fo.read()"
   ]
  },
  {
   "cell_type": "code",
   "execution_count": 6,
   "metadata": {},
   "outputs": [
    {
     "name": "stdout",
     "output_type": "stream",
     "text": [
      "Text snippet: Iam primum omnium satis constat Troia capta in ceteros saevitum esse Troianos, duobus, Aeneae Antenorique, et vetusti iure hospitii et quia pacis reddendaeque Helenae semper auctores fuerant, omne ius\n",
      "Character count: 920884\n",
      "Approximate token count: 129799\n"
     ]
    }
   ],
   "source": [
    "print(\"Text snippet:\", livy_full[:200])\n",
    "print(\"Character count:\", len(livy_full))\n",
    "print(\"Approximate token count:\", len(livy_full.split()))"
   ]
  },
  {
   "cell_type": "code",
   "execution_count": 7,
   "metadata": {},
   "outputs": [
    {
     "data": {
      "text/plain": [
       "76740"
      ]
     },
     "execution_count": 7,
     "metadata": {},
     "output_type": "execute_result"
    }
   ],
   "source": [
    "len(livy_full) // 12"
   ]
  },
  {
   "cell_type": "code",
   "execution_count": 8,
   "metadata": {},
   "outputs": [
    {
     "name": "stdout",
     "output_type": "stream",
     "text": [
      "Approximate token count: 10911\n"
     ]
    }
   ],
   "source": [
    "# Now let's cut this down to roughly 10k tokens for this demonstration's purposes\n",
    "livy = livy_full[:len(livy_full) // 12]\n",
    "print(\"Approximate token count:\", len(livy.split()))"
   ]
  },
  {
   "cell_type": "markdown",
   "metadata": {},
   "source": [
    "# Run NLP pipeline with `NLP()` <a name=\"run-nlp\"></a>"
   ]
  },
  {
   "cell_type": "code",
   "execution_count": 9,
   "metadata": {},
   "outputs": [],
   "source": [
    "# For most users, this is the only import required\n",
    "from cltk import NLP"
   ]
  },
  {
   "cell_type": "code",
   "execution_count": 10,
   "metadata": {},
   "outputs": [
    {
     "name": "stdout",
     "output_type": "stream",
     "text": [
      "‎𐤀 CLTK version '1.1.7'.\n",
      "Pipeline for language 'Latin' (ISO: 'lat'): `LatinNormalizeProcess`, `LatinSpacyProcess`, `LatinLexiconProcess`.\n"
     ]
    }
   ],
   "source": [
    "# Load the default Pipeline for Latin\n",
    "cltk_nlp = NLP(language=\"lat\")"
   ]
  },
  {
   "cell_type": "code",
   "execution_count": 11,
   "metadata": {},
   "outputs": [
    {
     "name": "stdout",
     "output_type": "stream",
     "text": [
      "[<class 'cltk.alphabet.processes.LatinNormalizeProcess'>, <class 'cltk.dependency.processes.LatinSpacyProcess'>]\n"
     ]
    }
   ],
   "source": [
    "# Removing ``LatinLexiconProcess`` for this demo b/c it is slow (adds ~9 mins total)\n",
    "cltk_nlp.pipeline.processes.pop(-1)\n",
    "print(cltk_nlp.pipeline.processes)"
   ]
  },
  {
   "cell_type": "code",
   "execution_count": 12,
   "metadata": {},
   "outputs": [
    {
     "name": "stdout",
     "output_type": "stream",
     "text": [
      "CPU times: user 4.26 s, sys: 649 ms, total: 4.91 s\n",
      "Wall time: 5.05 s\n"
     ]
    }
   ],
   "source": [
    "# Now execute NLP algorithms upon input text\n",
    "# Aside from download, execution time is ~50 sec on a 2015 Macbook Pro\n",
    "%time cltk_doc = cltk_nlp.analyze(text=livy)\n",
    "\n",
    "# You will be asked to download some models (from CLTK, fastText, and Stanza)"
   ]
  },
  {
   "cell_type": "markdown",
   "metadata": {},
   "source": [
    "# Inspect CLTK `Doc` <a name=\"inspect-doc\"></a>"
   ]
  },
  {
   "cell_type": "code",
   "execution_count": 13,
   "metadata": {},
   "outputs": [
    {
     "name": "stdout",
     "output_type": "stream",
     "text": [
      "<class 'cltk.core.data_types.Doc'>\n"
     ]
    }
   ],
   "source": [
    "# We can now inspect the result\n",
    "print(type(cltk_doc))"
   ]
  },
  {
   "cell_type": "code",
   "execution_count": 14,
   "metadata": {},
   "outputs": [
    {
     "name": "stdout",
     "output_type": "stream",
     "text": [
      "['_get_words_attribute', 'embeddings', 'embeddings_model', 'language', 'lemmata', 'morphosyntactic_features', 'normalized_text', 'pipeline', 'pos', 'raw', 'sentence_embeddings', 'sentences', 'sentences_strings', 'sentences_tokens', 'spacy_doc', 'stems', 'tokens', 'tokens_stops_filtered', 'words']\n"
     ]
    }
   ],
   "source": [
    "# All accessors\n",
    "print([x for x in dir(cltk_doc) if not x.startswith(\"__\")])"
   ]
  },
  {
   "cell_type": "code",
   "execution_count": 15,
   "metadata": {},
   "outputs": [
    {
     "name": "stdout",
     "output_type": "stream",
     "text": [
      "['Iam', 'primum', 'omnium', 'satis', 'constat', 'Troia', 'capta', 'in', 'ceteros', 'saevitum', 'esse', 'Troianos', ',', 'duobus', ',', 'Aeneae', 'Antenori', 'que', ',', 'et']\n"
     ]
    }
   ],
   "source": [
    "# Several of the more useful\n",
    "\n",
    "# List of tokens\n",
    "print(cltk_doc.tokens[:20])"
   ]
  },
  {
   "cell_type": "code",
   "execution_count": 16,
   "metadata": {},
   "outputs": [
    {
     "name": "stdout",
     "output_type": "stream",
     "text": [
      "['iam', 'primum', 'omnis', 'satis', 'consto', 'Troia', 'campo', 'in', 'ceterus', 'saevitum', 'sum', 'Troianos', ',', 'duo', ',', 'aeneae', 'Antenor', 'que', ',', 'et']\n"
     ]
    }
   ],
   "source": [
    "# List of lemmas\n",
    "print(cltk_doc.lemmata[:20])"
   ]
  },
  {
   "cell_type": "code",
   "execution_count": 17,
   "metadata": {},
   "outputs": [
    {
     "name": "stdout",
     "output_type": "stream",
     "text": [
      "['ADV', 'ADJ', 'ADJ', 'ADV', 'VERB', 'NOUN', 'VERB', 'ADP', 'ADJ', 'VERB', 'AUX', 'ADJ', 'PUNCT', 'NUM', 'PUNCT', 'PROPN', 'PROPN', 'NOUN', 'PUNCT', 'CCONJ']\n"
     ]
    }
   ],
   "source": [
    "# Basic part-of-speech info\n",
    "print(cltk_doc.pos[:20])"
   ]
  },
  {
   "cell_type": "code",
   "execution_count": 18,
   "metadata": {},
   "outputs": [
    {
     "name": "stdout",
     "output_type": "stream",
     "text": [
      "[['Iam', 'primum', 'omnium', 'satis', 'constat', 'Troia', 'capta', 'in', 'ceteros', 'saevitum', 'esse', 'Troianos', ',', 'duobus', ',', 'Aeneae', 'Antenori', 'que', ',', 'et', 'vetusti', 'iure', 'hospitii', 'et', 'quia', 'pacis', 'reddendae', 'que', 'Helenae', 'semper', 'auctores', 'fuerant', ',', 'omne', 'ius', 'belli', 'Achiuos', 'abstinuisse', ';'], ['casibus', 'deinde', 'variis', 'Antenorem', 'cum', 'multitudine', 'Enetum', ',', 'qui', 'seditione', 'ex', 'Paphlagonia', 'pulsi', 'et', 'sedes', 'et', 'ducem', 'rege', 'Pylaemene', 'ad', 'Troiam', 'amisso', 'quaerebant', ',', 'venisse', 'in', 'intimum', 'maris', 'Hadriatici', 'sinum', ',', 'Euganeis', 'que', 'qui', 'inter', 'mare', 'Alpes', 'que', 'incolebant', 'pulsis', 'Enetos', 'Troianos', 'que', 'eas', 'tenuisse', 'terras', '.']]\n"
     ]
    }
   ],
   "source": [
    "# A list of list of tokens\n",
    "print(cltk_doc.sentences_tokens[:2])"
   ]
  },
  {
   "cell_type": "markdown",
   "metadata": {},
   "source": [
    "# Inspect CLTK `Word` <a name=\"inspect-word\"></a>"
   ]
  },
  {
   "cell_type": "markdown",
   "metadata": {},
   "source": [
    "Most powerful, though, is the ``Doc.words`` accessor, which is a list of ``Word`` objects. These ``Word`` objects contain all information that was generated during the NLP pipeline"
   ]
  },
  {
   "cell_type": "code",
   "execution_count": 19,
   "metadata": {},
   "outputs": [
    {
     "name": "stdout",
     "output_type": "stream",
     "text": [
      "12986\n"
     ]
    }
   ],
   "source": [
    "# One ``Word`` object for each token\n",
    "print(len(cltk_doc.words))"
   ]
  },
  {
   "cell_type": "markdown",
   "metadata": {},
   "source": [
    "Users can go token-by-token via ``Doc.words`` or via the intermediary step of looping through sentences."
   ]
  },
  {
   "cell_type": "code",
   "execution_count": 20,
   "metadata": {},
   "outputs": [
    {
     "name": "stdout",
     "output_type": "stream",
     "text": [
      "Original: Ibi egressi Troiani , ut quibus ab immenso prope errore nihil praeter arma et naues superesset , cum praedam ex agris agerent , Latinus rex Aborigines que qui tum ea tenebant loca ad arcendam vim advenarum armati ex urbe atque agris concurrunt .\n",
      "\n",
      "Translation: Landing there, the Trojans, as men who, after their all but immeasurable wanderings, had nothing left but their swords and ships, were driving booty from the fields, when King Latinus and the Aborigines, who then occupied that country, rushed down from their city and their fields to repel with arms the violence of the invaders.\n"
     ]
    }
   ],
   "source": [
    "# Let's look at a non-trivial sentence from Book 1\n",
    "print(\"Original:\", cltk_doc.sentences_strings[5])\n",
    "print(\"\")\n",
    "print(\"Translation:\", \"Landing there, the Trojans, as men who, after their all but immeasurable wanderings, had nothing left but their swords and ships, were driving booty from the fields, when King Latinus and the Aborigines, who then occupied that country, rushed down from their city and their fields to repel with arms the violence of the invaders.\")\n",
    "# source: http://www.perseus.tufts.edu/hopper/text?doc=Liv.+1+1+5&fromdoc=Perseus%3Atext%3A1999.02.0151\n",
    "sentence_6 = cltk_doc.sentences[5]  # type: List[Word]"
   ]
  },
  {
   "cell_type": "code",
   "execution_count": 21,
   "metadata": {},
   "outputs": [
    {
     "name": "stdout",
     "output_type": "stream",
     "text": [
      "Word(index_char_start=1091, index_char_stop=1101, index_token=189, index_sentence=5, string='concurrunt', pos=verb, lemma='concurro', stem=None, scansion=None, xpos='verb', upos='VERB', dependency_relation='conj', governor=163, features={Mood: [indicative], Number: [plural], Person: [third], Tense: [present], VerbForm: [finite], Voice: [active]}, category={F: [neg], N: [neg], V: [pos]}, stop=False, named_entity=None, syllables=None, phonetic_transcription=None, definition=None)\n"
     ]
    }
   ],
   "source": [
    "# Looking at one Word, 'concurrunt' ('they run together')\n",
    "a_word_concurrunt = sentence_6[41]\n",
    "print(a_word_concurrunt)"
   ]
  },
  {
   "cell_type": "markdown",
   "metadata": {},
   "source": [
    "In this word, you can see information for lexicography (`.lemmata`), semantics (`.embedding`), morphology (`.pos`, `.features`), syntax (`.governor`, `.dependency_relation`), plus other information most users would find helpful (`.stop`, `.named_entity`)."
   ]
  },
  {
   "cell_type": "markdown",
   "metadata": {},
   "source": [
    "# Modeling morphology with `MorphosyntacticFeature` and `MorphosyntacticFeatureBundle` <a name=\"morph\"></a>\n",
    "\n",
    "When a language's `Pipeline` builds each `Word` object, morphological information is stored at several accessors. Those of interest to most users are `.pos` and `.features`."
   ]
  },
  {
   "cell_type": "code",
   "execution_count": 22,
   "metadata": {},
   "outputs": [
    {
     "name": "stdout",
     "output_type": "stream",
     "text": [
      "`Word.string`: concurrunt\n",
      "\n",
      "`Word.pos`: verb\n"
     ]
    }
   ],
   "source": [
    "print(\"`Word.string`:\", a_word_concurrunt.string)\n",
    "print(\"\")\n",
    "# Part-of-speech is always be available at `.pos`.\n",
    "print(\"`Word.pos`:\", a_word_concurrunt.pos)"
   ]
  },
  {
   "cell_type": "markdown",
   "metadata": {},
   "source": [
    "The CLTK contains classes a specific class for [the annotation types defined by v2 of the Universal Dependencies project](https://universaldependencies.org/u/feat/all.html). In the CLTK's codebase, these are located at [cltk/morphology/universal_dependencies_features.py](https://github.com/cltk/cltk/blob/dev/src/cltk/morphology/universal_dependencies_features.py).\n",
    "\n",
    "For instance, a Latin verb requires a label for its [https://universaldependencies.org/u/feat/all.html#al-u-feat/Mood](mood) (e.g., indicative), which the UD project defines as \"a feature that expresses modality and subclassifies finite verb forms\".\n",
    "\n",
    "Though morphological taggers may annnotate a verb's mood variously (\"ind.\", \"indicative\", \"Indic\", etc.), the CLTK maps the term into the following, standardized `Mood`.\n",
    "\n",
    "``` python\n",
    "class Mood(MorphosyntacticFeature):\n",
    "    \"\"\"The mood of a verb.\n",
    "    see https://universaldependencies.org/u/feat/Mood.html\n",
    "    \"\"\"\n",
    "\n",
    "    admirative = auto()\n",
    "    conditional = auto()\n",
    "    desiderative = auto()\n",
    "    imperative = auto()\n",
    "    indicative = auto()\n",
    "    jussive = auto()\n",
    "    necessitative = auto()\n",
    "    optative = auto()\n",
    "    potential = auto()\n",
    "    purposive = auto()\n",
    "    quotative = auto()\n",
    "    subjunctive = auto()\n",
    "```\n",
    "\n",
    "Turning back to the the above example word, we can see such features at `.features`."
   ]
  },
  {
   "cell_type": "code",
   "execution_count": 23,
   "metadata": {},
   "outputs": [
    {
     "name": "stdout",
     "output_type": "stream",
     "text": [
      "type(`Word.features`): <class 'cltk.morphology.morphosyntax.MorphosyntacticFeatureBundle'>\n",
      "\n",
      "`Word.features`: {Mood: [indicative], Number: [plural], Person: [third], Tense: [present], VerbForm: [finite], Voice: [active]}\n"
     ]
    }
   ],
   "source": [
    "# type\n",
    "print(\"type(`Word.features`):\", type(a_word_concurrunt.features))\n",
    "print(\"\")\n",
    "# str repr of `MorphosyntacticFeatureBundle`\n",
    "print(\"`Word.features`:\", a_word_concurrunt.features)"
   ]
  },
  {
   "cell_type": "markdown",
   "metadata": {},
   "source": [
    "A user may inspect a `MorphosyntacticFeatureBundle` in a manner similar to a `dict`"
   ]
  },
  {
   "cell_type": "code",
   "execution_count": 24,
   "metadata": {},
   "outputs": [
    {
     "name": "stdout",
     "output_type": "stream",
     "text": [
      "Mood: [indicative]\n",
      "Number: [plural]\n",
      "Person: [third]\n",
      "Tense: [present]\n",
      "VerbForm: [finite]\n",
      "Voice: [active]\n"
     ]
    }
   ],
   "source": [
    "print(\"Mood:\", a_word_concurrunt.features[\"Mood\"])  # type: List[Mood]\n",
    "print(\"Number:\", a_word_concurrunt.features[\"Number\"])  # type: List[Number]\n",
    "print(\"Person:\", a_word_concurrunt.features[\"Person\"])  # type: List[Person]\n",
    "print(\"Tense:\", a_word_concurrunt.features[\"Tense\"])  # type: List[Tense]\n",
    "print(\"VerbForm:\", a_word_concurrunt.features[\"VerbForm\"])  # type: List[VerbForm]\n",
    "print(\"Voice:\", a_word_concurrunt.features[\"Voice\"])  # type: List[Voice]\n",
    "\n",
    "# Note: The values returned here are a list, though under normally only one \n",
    "# morphological form will be available"
   ]
  },
  {
   "cell_type": "markdown",
   "metadata": {},
   "source": [
    "Looking a bit closer at `MorphosyntacticFeature`, we can see how its data type inherits from the Python builtin [IntEnu](https://docs.python.org/3/library/enum.html#enum.IntEnum)."
   ]
  },
  {
   "cell_type": "code",
   "execution_count": 25,
   "metadata": {},
   "outputs": [
    {
     "name": "stdout",
     "output_type": "stream",
     "text": [
      "type(a_mood_obj): Mood\n",
      "\n",
      "Is `IntEnum`? True\n",
      "\n",
      "`Mood` inherits from `MorphosyntacticFeature`? True\n"
     ]
    }
   ],
   "source": [
    "a_mood_obj = a_word_concurrunt.features[\"Mood\"][0]\n",
    "# see type\n",
    "print(\"type(a_mood_obj):\", type(a_mood_obj))\n",
    "print(\"\")\n",
    "# See inheritance\n",
    "from enum import IntEnum\n",
    "print(\"Is `IntEnum`?\", isinstance(a_mood_obj, IntEnum))\n",
    "print(\"\")\n",
    "# \n",
    "from cltk.morphology.morphosyntax import MorphosyntacticFeature\n",
    "print(\"`Mood` inherits from `MorphosyntacticFeature`?\", isinstance(a_mood_obj, MorphosyntacticFeature))"
   ]
  },
  {
   "cell_type": "code",
   "execution_count": 26,
   "metadata": {},
   "outputs": [
    {
     "name": "stdout",
     "output_type": "stream",
     "text": [
      "`MorphosyntacticFeature` accessors: ['_generate_next_value_', '_member_map_', '_member_names_', '_member_type_', '_missing_', '_name_', '_new_member_', '_sort_order_', '_unhashable_values_', '_use_args_', '_value2member_map_', '_value_', '_value_repr_', 'admirative', 'as_integer_ratio', 'bit_count', 'bit_length', 'conditional', 'conjugate', 'denominator', 'desiderative', 'from_bytes', 'gerundive', 'imag', 'imperative', 'indicative', 'infinitive', 'jussive', 'name', 'necessitative', 'numerator', 'optative', 'potential', 'purposive', 'quotative', 'real', 'subjunctive', 'to_bytes', 'value']\n",
      "\n",
      "MorphosyntacticFeature.name: indicative\n",
      "MorphosyntacticFeature.value: 6\n"
     ]
    }
   ],
   "source": [
    "# You can manipulate this object as any IntEnum plus a few extras\n",
    "\n",
    "print(\"`MorphosyntacticFeature` accessors:\", [x for x in dir(a_mood_obj) if not x.startswith(\"__\")])\n",
    "print(\"\")\n",
    "print(\"MorphosyntacticFeature.name:\", a_mood_obj.name)  # type: str\n",
    "# A stable int value is available, too, associated with this name\n",
    "print(\"MorphosyntacticFeature.value:\", a_mood_obj.value)  # type: int"
   ]
  },
  {
   "cell_type": "markdown",
   "metadata": {},
   "source": [
    "Users can create their own `MorphosyntacticFeature` and `MorphosyntacticFeatureBundle`:"
   ]
  },
  {
   "cell_type": "code",
   "execution_count": 27,
   "metadata": {},
   "outputs": [
    {
     "name": "stdout",
     "output_type": "stream",
     "text": [
      "{Mood: [subjunctive], Voice: [active], Person: [first], Number: [singular], VerbForm: [finite]}\n"
     ]
    }
   ],
   "source": [
    "from cltk.morphology.morphosyntax import MorphosyntacticFeatureBundle\n",
    "from cltk.morphology.universal_dependencies_features import Mood, Number, Person, VerbForm, Voice\n",
    "\n",
    "latin_word_sim = \"sim\"\n",
    "\n",
    "mood = Mood.subjunctive\n",
    "voice = Voice.active\n",
    "person = Person.first\n",
    "number = Number.singular\n",
    "verb_form = VerbForm.finite\n",
    "\n",
    "latin_word_sim_bundle = MorphosyntacticFeatureBundle(mood, voice, person, number, verb_form)\n",
    "print(latin_word_sim_bundle)"
   ]
  },
  {
   "cell_type": "markdown",
   "metadata": {},
   "source": [
    "This too can be interated through as `dict`:"
   ]
  },
  {
   "cell_type": "code",
   "execution_count": 28,
   "metadata": {},
   "outputs": [
    {
     "name": "stdout",
     "output_type": "stream",
     "text": [
      "Mood [subjunctive]\n",
      "Voice [active]\n",
      "Person [first]\n",
      "Number [singular]\n",
      "VerbForm [finite]\n"
     ]
    }
   ],
   "source": [
    "for feature, value in latin_word_sim_bundle.items():\n",
    "    print(feature, value)  # Note: value has `list` type"
   ]
  },
  {
   "cell_type": "markdown",
   "metadata": {},
   "source": [
    "Finally, we may even construct a `Word` with this information:"
   ]
  },
  {
   "cell_type": "code",
   "execution_count": 29,
   "metadata": {},
   "outputs": [
    {
     "name": "stdout",
     "output_type": "stream",
     "text": [
      "Word(index_char_start=None, index_char_stop=None, index_token=None, index_sentence=None, string='sim', pos=None, lemma=None, stem=None, scansion=None, xpos=None, upos=None, dependency_relation=None, governor=None, features={Mood: [subjunctive], Voice: [active], Person: [first], Number: [singular], VerbForm: [finite]}, category={}, stop=None, named_entity=None, syllables=None, phonetic_transcription=None, definition=None)\n"
     ]
    }
   ],
   "source": [
    "from cltk.core.data_types import Word\n",
    "\n",
    "print(Word(string=\"sim\", features=latin_word_sim_bundle))"
   ]
  },
  {
   "cell_type": "code",
   "execution_count": 30,
   "metadata": {},
   "outputs": [],
   "source": [
    "# For more on this or any other CLTK class, use `help()`\n",
    "# help(a_mood_obj)\n",
    "# help(MorphosyntacticFeatureBundle)"
   ]
  },
  {
   "cell_type": "code",
   "execution_count": 31,
   "metadata": {},
   "outputs": [
    {
     "name": "stdout",
     "output_type": "stream",
     "text": [
      "`Word.upos`: VERB\n",
      "`Word.xpos`: verb\n"
     ]
    }
   ],
   "source": [
    "# Note: Extra morphological info may be written in `str` type\n",
    "# to to the values at `.upos` and `.xpos` for languages using\n",
    "# Stanza project\n",
    "\n",
    "# Note: The particular annoations at these are often inconsistent across\n",
    "# languages or even treebanks within a single language; hence the benefit\n",
    "# of the CLTK's modeling at `.pos`.\n",
    "print(\"`Word.upos`:\", a_word_concurrunt.upos)\n",
    "print(\"`Word.xpos`:\", a_word_concurrunt.xpos)"
   ]
  },
  {
   "cell_type": "markdown",
   "metadata": {},
   "source": [
    "# Modeling syntax with `Form` and `DependencyTree`  <a name=\"syntax\"></a>\n",
    "\n",
    "The CLTK uses the builtin `xml` library to build tree for modeling dependency parses. A `Word` is mapped into a `Form`, then `ElemntTree` is used to organize these `Form`s into a `DependencyTree`. With a tree, certain measurements are more efficient (counting depth, breadth, edge types)."
   ]
  },
  {
   "cell_type": "code",
   "execution_count": 32,
   "metadata": {},
   "outputs": [],
   "source": [
    "from cltk.dependency.tree import DependencyTree"
   ]
  },
  {
   "cell_type": "code",
   "execution_count": 33,
   "metadata": {},
   "outputs": [
    {
     "name": "stdout",
     "output_type": "stream",
     "text": [
      "Ibi egressi Troiani , ut quibus ab immenso prope errore nihil praeter arma et naues superesset , cum praedam ex agris agerent , Latinus rex Aborigines que qui tum ea tenebant loca ad arcendam vim advenarum armati ex urbe atque agris concurrunt .\n"
     ]
    }
   ],
   "source": [
    "# Let's look at this sentence again\n",
    "print(cltk_doc.sentences_strings[5])  # text form of `sentence_6`"
   ]
  },
  {
   "cell_type": "code",
   "execution_count": 34,
   "metadata": {},
   "outputs": [],
   "source": [
    "a_tree = DependencyTree.to_tree(sentence_6)"
   ]
  },
  {
   "cell_type": "code",
   "execution_count": 35,
   "metadata": {},
   "outputs": [
    {
     "data": {
      "text/plain": [
       "<cltk.dependency.tree.DependencyTree at 0x133839010>"
      ]
     },
     "execution_count": 35,
     "metadata": {},
     "output_type": "execute_result"
    }
   ],
   "source": [
    "a_tree"
   ]
  },
  {
   "cell_type": "code",
   "execution_count": 36,
   "metadata": {},
   "outputs": [
    {
     "name": "stdout",
     "output_type": "stream",
     "text": [
      "[advmod(egressi_149/verb, Ibi_148/adverb),\n",
      " nsubj(egressi_149/verb, Troiani_150/proper_noun),\n",
      " punct(ut_152/subordinating_conjunction, ,_151/punctuation),\n",
      " mark(superesset_163/verb, ut_152/subordinating_conjunction),\n",
      " obl(superesset_163/verb, quibus_153/pronoun),\n",
      " obl(superesset_163/verb, errore_157/noun),\n",
      " case(immenso_155/adjective, ab_154/adposition),\n",
      " amod(errore_157/noun, immenso_155/adjective),\n",
      " case(errore_157/noun, prope_156/adposition),\n",
      " obl(superesset_163/verb, quibus_153/pronoun),\n",
      " obl(superesset_163/verb, errore_157/noun),\n",
      " case(arma_160/noun, praeter_159/adposition),\n",
      " cc(naues_162/noun, et_161/coordinating_conjunction),\n",
      " conj(arma_160/noun, naues_162/noun),\n",
      " nmod(nihil_158/noun, arma_160/noun),\n",
      " obj(superesset_163/verb, nihil_158/noun),\n",
      " punct(agerent_169/verb, ,_164/punctuation),\n",
      " mark(agerent_169/verb, cum_165/subordinating_conjunction),\n",
      " obj(agerent_169/verb, praedam_166/noun),\n",
      " case(agris_168/noun, ex_167/adposition),\n",
      " obl(agerent_169/verb, agris_168/noun),\n",
      " advcl(superesset_163/verb, agerent_169/verb),\n",
      " punct(rex_172/noun, ,_170/punctuation),\n",
      " amod(rex_172/noun, Latinus_171/adjective),\n",
      " conj(rex_172/noun, Aborigines_173/noun),\n",
      " cc(rex_172/noun, que_174/coordinating_conjunction),\n",
      " nsubj(tenebant_178/verb, qui_175/pronoun),\n",
      " advmod(tenebant_178/verb, tum_176/adverb),\n",
      " obj(tenebant_178/verb, ea_177/pronoun),\n",
      " obj(tenebant_178/verb, loca_179/noun),\n",
      " obj(tenebant_178/verb, ea_177/pronoun),\n",
      " obj(tenebant_178/verb, loca_179/noun),\n",
      " acl:relcl(rex_172/noun, tenebant_178/verb),\n",
      " nsubj(concurrunt_189/verb, rex_172/noun),\n",
      " nsubj(concurrunt_189/verb, armati_184/verb),\n",
      " mark(arcendam_181/verb, ad_180/adposition),\n",
      " advcl(concurrunt_189/verb, arcendam_181/verb),\n",
      " nmod(vim_182/noun, advenarum_183/noun),\n",
      " obj(concurrunt_189/verb, vim_182/noun),\n",
      " nsubj(concurrunt_189/verb, rex_172/noun),\n",
      " nsubj(concurrunt_189/verb, armati_184/verb),\n",
      " case(urbe_186/noun, ex_185/adposition),\n",
      " cc(agris_188/noun, atque_187/coordinating_conjunction),\n",
      " conj(urbe_186/noun, agris_188/noun),\n",
      " obl(concurrunt_189/verb, urbe_186/noun),\n",
      " conj(superesset_163/verb, concurrunt_189/verb),\n",
      " advcl:cmp(egressi_149/verb, superesset_163/verb),\n",
      " punct(egressi_149/verb, ._190/punctuation),\n",
      " root(None, egressi_149/verb)]\n"
     ]
    }
   ],
   "source": [
    "from pprint import pprint\n",
    "\n",
    "pprint(a_tree.get_dependencies())"
   ]
  },
  {
   "cell_type": "code",
   "execution_count": 37,
   "metadata": {},
   "outputs": [
    {
     "name": "stdout",
     "output_type": "stream",
     "text": [
      "root | egressi_149/verb\n",
      "    └─ advmod | Ibi_148/adverb\n",
      "    └─ nsubj | Troiani_150/proper_noun\n",
      "    └─ advcl:cmp | superesset_163/verb\n",
      "        └─ mark | ut_152/subordinating_conjunction\n",
      "            └─ punct | ,_151/punctuation\n",
      "        └─ obl | quibus_153/pronoun\n",
      "        └─ obl | errore_157/noun\n",
      "            └─ amod | immenso_155/adjective\n",
      "                └─ case | ab_154/adposition\n",
      "            └─ case | prope_156/adposition\n",
      "        └─ obj | nihil_158/noun\n",
      "            └─ nmod | arma_160/noun\n",
      "                └─ case | praeter_159/adposition\n",
      "                └─ conj | naues_162/noun\n",
      "                    └─ cc | et_161/coordinating_conjunction\n",
      "        └─ advcl | agerent_169/verb\n",
      "            └─ punct | ,_164/punctuation\n",
      "            └─ mark | cum_165/subordinating_conjunction\n",
      "            └─ obj | praedam_166/noun\n",
      "            └─ obl | agris_168/noun\n",
      "                └─ case | ex_167/adposition\n",
      "        └─ conj | concurrunt_189/verb\n",
      "            └─ nsubj | rex_172/noun\n",
      "                └─ punct | ,_170/punctuation\n",
      "                └─ amod | Latinus_171/adjective\n",
      "                └─ conj | Aborigines_173/noun\n",
      "                └─ cc | que_174/coordinating_conjunction\n",
      "                └─ acl:relcl | tenebant_178/verb\n",
      "                    └─ nsubj | qui_175/pronoun\n",
      "                    └─ advmod | tum_176/adverb\n",
      "                    └─ obj | ea_177/pronoun\n",
      "                    └─ obj | loca_179/noun\n",
      "            └─ advcl | arcendam_181/verb\n",
      "                └─ mark | ad_180/adposition\n",
      "            └─ obj | vim_182/noun\n",
      "                └─ nmod | advenarum_183/noun\n",
      "            └─ nsubj | armati_184/verb\n",
      "            └─ obl | urbe_186/noun\n",
      "                └─ case | ex_185/adposition\n",
      "                └─ conj | agris_188/noun\n",
      "                    └─ cc | atque_187/coordinating_conjunction\n",
      "    └─ punct | ._190/punctuation\n"
     ]
    }
   ],
   "source": [
    "a_tree.print_tree()"
   ]
  },
  {
   "cell_type": "markdown",
   "metadata": {},
   "source": [
    "# Feature extraction <a name=\"features\"></a>\n",
    "\n",
    "The CLTK offers the function `cltk_doc_to_features_table()`, which assist users when preparing a `Doc` for training data for machine learning. It converts the list of `Word` objects at `Doc.words` into a tabular list of lists."
   ]
  },
  {
   "cell_type": "code",
   "execution_count": 41,
   "metadata": {},
   "outputs": [],
   "source": [
    "from cltk.utils.feature_extraction import cltk_doc_to_features_table"
   ]
  },
  {
   "cell_type": "code",
   "execution_count": 47,
   "metadata": {},
   "outputs": [],
   "source": [
    "feature_names, list_of_list_features = cltk_doc_to_features_table(cltk_doc=cltk_doc)"
   ]
  },
  {
   "cell_type": "code",
   "execution_count": 48,
   "metadata": {},
   "outputs": [
    {
     "name": "stdout",
     "output_type": "stream",
     "text": [
      "['string', 'lemma', 'embedding', 'is_stop', 'lemma', 'pos', 'case', 'gender', 'animacy', 'number', 'definiteness', 'degree', 'strength', 'verbform', 'tense', 'mood', 'aspect', 'voice', 'person', 'polarity', 'politeness', 'clusivity', 'evidentiality', 'strength', 'governing_word', 'governor_case', 'governor_gender', 'governor_animacy', 'governor_number', 'governor_definiteness', 'governor_degree', 'governor_strength', 'governor_verbform', 'governor_tense', 'governor_mood', 'governor_aspect', 'governor_voice', 'governor_person', 'governor_polarity', 'governor_politeness', 'governor_clusivity', 'governor_evidentiality', 'governor_strength', 'governing_relationship']\n"
     ]
    }
   ],
   "source": [
    "# See here the names of the features extracted\n",
    "print(feature_names)"
   ]
  },
  {
   "cell_type": "code",
   "execution_count": 50,
   "metadata": {},
   "outputs": [
    {
     "name": "stdout",
     "output_type": "stream",
     "text": [
      "Number tokens: 12986\n",
      "Number of feature instances (one for each token): 12986\n"
     ]
    }
   ],
   "source": [
    "# Number of \"inner lists\" matches number of tokens\n",
    "print(\"Number tokens:\", len(cltk_doc.words))\n",
    "print(\"Number of feature instances (one for each token):\", len(list_of_list_features))"
   ]
  },
  {
   "cell_type": "code",
   "execution_count": 51,
   "metadata": {},
   "outputs": [
    {
     "name": "stdout",
     "output_type": "stream",
     "text": [
      "[('string', 'simili'),\n",
      " ('lemma', 'similis'),\n",
      " ('embedding', None),\n",
      " ('is_stop', False),\n",
      " ('lemma', None),\n",
      " ('pos', 'adjective'),\n",
      " ('case', 'ablative'),\n",
      " ('gender', 'feminine'),\n",
      " ('animacy', None),\n",
      " ('number', 'singular'),\n",
      " ('definiteness', None),\n",
      " ('degree', None),\n",
      " ('strength', None),\n",
      " ('verbform', None),\n",
      " ('tense', None),\n",
      " ('mood', None),\n",
      " ('aspect', None),\n",
      " ('voice', None),\n",
      " ('person', None),\n",
      " ('polarity', None),\n",
      " ('politeness', None),\n",
      " ('clusivity', None),\n",
      " ('evidentiality', None),\n",
      " ('strength', None),\n",
      " ('governing_word', 'adjective'),\n",
      " ('governor_case', 'ablative'),\n",
      " ('governor_gender', 'feminine'),\n",
      " ('governor_animacy', None),\n",
      " ('governor_number', 'singular'),\n",
      " ('governor_definiteness', None),\n",
      " ('governor_degree', None),\n",
      " ('governor_strength', None),\n",
      " ('governor_verbform', None),\n",
      " ('governor_tense', None),\n",
      " ('governor_mood', None),\n",
      " ('governor_aspect', None),\n",
      " ('governor_voice', None),\n",
      " ('governor_person', None),\n",
      " ('governor_polarity', None),\n",
      " ('governor_politeness', None),\n",
      " ('governor_clusivity', None),\n",
      " ('governor_evidentiality', None),\n",
      " ('governor_strength', None),\n",
      " ('governing_relationship', 'amod')]\n"
     ]
    }
   ],
   "source": [
    "# Look at one row of data `(variable name, variable value)`\n",
    "pprint(list(zip(feature_names, list_of_list_features[108])))"
   ]
  },
  {
   "cell_type": "markdown",
   "metadata": {},
   "source": [
    "# Brief demonstration of `NLP()` for Ancient Greek <a name=\"greek-nlp\"></a>\n",
    "\n",
    "The API for Greek is the same as Latin."
   ]
  },
  {
   "cell_type": "code",
   "execution_count": 52,
   "metadata": {},
   "outputs": [],
   "source": [
    "# read the Ancient Greek file\n",
    "with open(\"grc-thucydides.txt\") as fo:\n",
    "    thucydides_full = fo.read()"
   ]
  },
  {
   "cell_type": "code",
   "execution_count": 53,
   "metadata": {},
   "outputs": [
    {
     "name": "stdout",
     "output_type": "stream",
     "text": [
      "Text snippet: Θουκυδίδης Ἀθηναῖος ξυνέγραψε τὸν πόλεμον τῶν Πελοποννησίων καὶ Ἀθηναίων, ὡς ἐπολέμησαν πρὸς ἀλλήλους, ἀρξάμενος εὐθὺς καθισταμένου καὶ ἐλπίσας μέγαν τε ἔσεσθαι καὶ ἀξιολογώτατον τῶν προγεγενημένων, τ\n",
      "Character count: 470056\n",
      "Approximate token count: 72619\n"
     ]
    }
   ],
   "source": [
    "print(\"Text snippet:\", thucydides_full[0:200])\n",
    "print(\"Character count:\", len(thucydides_full))\n",
    "print(\"Approximate token count:\", len(thucydides_full.split()))"
   ]
  },
  {
   "cell_type": "code",
   "execution_count": 54,
   "metadata": {},
   "outputs": [
    {
     "data": {
      "text/plain": [
       "67150"
      ]
     },
     "execution_count": 54,
     "metadata": {},
     "output_type": "execute_result"
    }
   ],
   "source": [
    "len(thucydides_full) // 7"
   ]
  },
  {
   "cell_type": "code",
   "execution_count": 55,
   "metadata": {},
   "outputs": [
    {
     "name": "stdout",
     "output_type": "stream",
     "text": [
      "Approximate token count: 10309\n"
     ]
    }
   ],
   "source": [
    "# Cut this down to roughly 10k tokens for this demonstration's purposes\n",
    "thucydides = thucydides_full[:len(thucydides_full) // 7]\n",
    "print(\"Approximate token count:\", len(thucydides.split()))"
   ]
  },
  {
   "cell_type": "code",
   "execution_count": 56,
   "metadata": {},
   "outputs": [
    {
     "data": {
      "text/plain": [
       "'Θουκυδίδης Ἀθηναῖος ξυνέγραψε τὸν πόλεμον τῶν Πελοποννησίων καὶ Ἀθηναίων, ὡς ἐπολέμησαν πρὸς ἀλλήλους, ἀρξάμενος εὐθὺς καθισταμένου καὶ ἐλπίσας μέγαν τε ἔσεσθαι καὶ ἀξιολογώτατον τῶν προγεγενημένων, τ'"
      ]
     },
     "execution_count": 56,
     "metadata": {},
     "output_type": "execute_result"
    }
   ],
   "source": [
    "thucydides[:200]"
   ]
  },
  {
   "cell_type": "code",
   "execution_count": 57,
   "metadata": {},
   "outputs": [
    {
     "name": "stdout",
     "output_type": "stream",
     "text": [
      "‎𐤀 CLTK version '1.1.7'.\n",
      "Pipeline for language 'Ancient Greek' (ISO: 'grc'): `GreekNormalizeProcess`, `GreekStanzaProcess`, `GreekEmbeddingsProcess`, `StopsProcess`.\n"
     ]
    }
   ],
   "source": [
    "cltk_nlp_grc = NLP(language=\"grc\")"
   ]
  },
  {
   "cell_type": "code",
   "execution_count": 58,
   "metadata": {},
   "outputs": [
    {
     "name": "stdout",
     "output_type": "stream",
     "text": [
      "CLTK message: This part of the CLTK depends upon the Stanza NLP library.\n",
      "CLTK message: Allow download of Stanza models to ``/Users/kylejohnson/stanza_resources/grc/tokenize/perseus.pt``? [Y/n] \n"
     ]
    },
    {
     "name": "stdin",
     "output_type": "stream",
     "text": [
      " \n"
     ]
    },
    {
     "data": {
      "application/vnd.jupyter.widget-view+json": {
       "model_id": "92bb26c035e9409cb7ff936470cf220b",
       "version_major": 2,
       "version_minor": 0
      },
      "text/plain": [
       "Downloading https://raw.githubusercontent.com/stanfordnlp/stanza-resources/main/resources_1.7.0.json:   0%|   …"
      ]
     },
     "metadata": {},
     "output_type": "display_data"
    },
    {
     "name": "stderr",
     "output_type": "stream",
     "text": [
      "2023-12-25 19:28:04 INFO: Downloading these customized packages for language: grc (Ancient_Greek)...\n",
      "================================\n",
      "| Processor | Package          |\n",
      "--------------------------------\n",
      "| tokenize  | perseus          |\n",
      "| pos       | perseus_nocharlm |\n",
      "| lemma     | perseus_nocharlm |\n",
      "| depparse  | perseus_nocharlm |\n",
      "| pretrain  | conll17          |\n",
      "================================\n",
      "\n"
     ]
    },
    {
     "data": {
      "application/vnd.jupyter.widget-view+json": {
       "model_id": "c1543caeb4af492d9644739a3216e0a0",
       "version_major": 2,
       "version_minor": 0
      },
      "text/plain": [
       "Downloading https://huggingface.co/stanfordnlp/stanza-grc/resolve/v1.7.0/models/tokenize/perseus.pt:   0%|    …"
      ]
     },
     "metadata": {},
     "output_type": "display_data"
    },
    {
     "data": {
      "application/vnd.jupyter.widget-view+json": {
       "model_id": "779754d03dd743be8d4e1879d22a9ac5",
       "version_major": 2,
       "version_minor": 0
      },
      "text/plain": [
       "Downloading https://huggingface.co/stanfordnlp/stanza-grc/resolve/v1.7.0/models/pos/perseus_nocharlm.pt:   0%|…"
      ]
     },
     "metadata": {},
     "output_type": "display_data"
    },
    {
     "data": {
      "application/vnd.jupyter.widget-view+json": {
       "model_id": "cf015b994b734a16a076baebf835e6e5",
       "version_major": 2,
       "version_minor": 0
      },
      "text/plain": [
       "Downloading https://huggingface.co/stanfordnlp/stanza-grc/resolve/v1.7.0/models/lemma/perseus_nocharlm.pt:   0…"
      ]
     },
     "metadata": {},
     "output_type": "display_data"
    },
    {
     "data": {
      "application/vnd.jupyter.widget-view+json": {
       "model_id": "3ebb1d4939084dac95f5cd19295dea2c",
       "version_major": 2,
       "version_minor": 0
      },
      "text/plain": [
       "Downloading https://huggingface.co/stanfordnlp/stanza-grc/resolve/v1.7.0/models/depparse/perseus_nocharlm.pt: …"
      ]
     },
     "metadata": {},
     "output_type": "display_data"
    },
    {
     "name": "stderr",
     "output_type": "stream",
     "text": [
      "2023-12-25 19:28:14 INFO: File exists: /Users/kylejohnson/stanza_resources/grc/pretrain/conll17.pt\n",
      "2023-12-25 19:28:14 INFO: Finished downloading models and saved to /Users/kylejohnson/stanza_resources.\n"
     ]
    },
    {
     "name": "stdout",
     "output_type": "stream",
     "text": [
      "CPU times: user 32.7 s, sys: 6.04 s, total: 38.8 s\n",
      "Wall time: 47.6 s\n"
     ]
    }
   ],
   "source": [
    "# Execution time is 50 sec on a 2015 Macbook Pro\n",
    "%time cltk_doc_grc = cltk_nlp_grc.analyze(text=thucydides)\n",
    "\n",
    "# You will be asked to download some models (from CLTK, fastText, and Stanza)"
   ]
  },
  {
   "cell_type": "code",
   "execution_count": 59,
   "metadata": {},
   "outputs": [
    {
     "name": "stdout",
     "output_type": "stream",
     "text": [
      "`Doc.tokens`: ['Θουκυδίδης', 'Ἀθηναῖος', 'ξυνέγραψε', 'τὸν', 'πόλεμον', 'τῶν', 'Πελοποννησίων', 'καὶ', 'Ἀθηναίων', ',', 'ὡς', 'ἐπολέμησαν', 'πρὸς', 'ἀλλήλους', ',', 'ἀρξάμενος', 'εὐθὺς', 'καθισταμένου', 'καὶ', 'ἐλπίσας']\n"
     ]
    }
   ],
   "source": [
    "print(\"`Doc.tokens`:\", cltk_doc_grc.tokens[:20])"
   ]
  },
  {
   "cell_type": "code",
   "execution_count": 60,
   "metadata": {},
   "outputs": [
    {
     "name": "stdout",
     "output_type": "stream",
     "text": [
      "Word(index_char_start=None, index_char_stop=None, index_token=4, index_sentence=0, string='πόλεμον', pos=noun, lemma='πόλεμος', stem=None, scansion=None, xpos='n-s---ma-', upos='NOUN', dependency_relation='obj', governor=2, features={Case: [accusative], Gender: [masculine], Number: [singular]}, category={F: [neg], N: [pos], V: [neg]}, stop=False, named_entity=None, syllables=None, phonetic_transcription=None, definition=None)\n"
     ]
    }
   ],
   "source": [
    "print(cltk_doc_grc.words[4])  # πόλεμον ('war')"
   ]
  },
  {
   "cell_type": "code",
   "execution_count": 61,
   "metadata": {},
   "outputs": [],
   "source": [
    "a_tree_grc = DependencyTree.to_tree(cltk_doc_grc.sentences[0])  #81"
   ]
  },
  {
   "cell_type": "code",
   "execution_count": 62,
   "metadata": {},
   "outputs": [
    {
     "name": "stdout",
     "output_type": "stream",
     "text": [
      "[nmod(Θουκυδίδης_0/noun, Ἀθηναῖος_1/adjective),\n",
      " nsubj(ξυνέγραψε_2/verb, Θουκυδίδης_0/noun),\n",
      " det(πόλεμον_4/noun, τὸν_3/determiner),\n",
      " det(Πελοποννησίων_6/noun, τῶν_5/determiner),\n",
      " cc(Πελοποννησίων_6/noun, καὶ_7/coordinating_conjunction),\n",
      " conj(Πελοποννησίων_6/noun, Ἀθηναίων_8/noun),\n",
      " nmod(πόλεμον_4/noun, Πελοποννησίων_6/noun),\n",
      " obj(ξυνέγραψε_2/verb, πόλεμον_4/noun),\n",
      " punct(ὡς_10/subordinating_conjunction, ,_9/punctuation),\n",
      " mark(ἐπολέμησαν_11/verb, ὡς_10/subordinating_conjunction),\n",
      " case(ἀλλήλους_13/pronoun, πρὸς_12/adposition),\n",
      " obl(ἐπολέμησαν_11/verb, ἀλλήλους_13/pronoun),\n",
      " advcl(ξυνέγραψε_2/verb, ἐπολέμησαν_11/verb),\n",
      " advcl(ξυνέγραψε_2/verb, ἀρξάμενος_15/verb),\n",
      " advcl(ξυνέγραψε_2/verb, καθισταμένου_17/verb),\n",
      " advcl(ξυνέγραψε_2/verb, τεκμαιρόμενος_28/verb),\n",
      " punct(ἀρξάμενος_15/verb, ,_14/punctuation),\n",
      " advmod(μέγαν_20/adjective, τε_21/adverb),\n",
      " cop(μέγαν_20/adjective, ἔσεσθαι_22/auxiliary),\n",
      " cc(μέγαν_20/adjective, καὶ_23/coordinating_conjunction),\n",
      " det(προγεγενημένων_26/verb, τῶν_25/determiner),\n",
      " nmod(ἀξιολογώτατον_24/adjective, προγεγενημένων_26/verb),\n",
      " conj(μέγαν_20/adjective, ἀξιολογώτατον_24/adjective),\n",
      " obj(ἐλπίσας_19/verb, μέγαν_20/adjective),\n",
      " conj(ἀρξάμενος_15/verb, ἐλπίσας_19/verb),\n",
      " advcl(ξυνέγραψε_2/verb, ἐπολέμησαν_11/verb),\n",
      " advcl(ξυνέγραψε_2/verb, ἀρξάμενος_15/verb),\n",
      " advcl(ξυνέγραψε_2/verb, καθισταμένου_17/verb),\n",
      " advcl(ξυνέγραψε_2/verb, τεκμαιρόμενος_28/verb),\n",
      " advmod(καθισταμένου_17/verb, εὐθὺς_16/adverb),\n",
      " cc(καθισταμένου_17/verb, καὶ_18/coordinating_conjunction),\n",
      " advcl(ξυνέγραψε_2/verb, ἐπολέμησαν_11/verb),\n",
      " advcl(ξυνέγραψε_2/verb, ἀρξάμενος_15/verb),\n",
      " advcl(ξυνέγραψε_2/verb, καθισταμένου_17/verb),\n",
      " advcl(ξυνέγραψε_2/verb, τεκμαιρόμενος_28/verb),\n",
      " punct(τεκμαιρόμενος_28/verb, ,_27/punctuation),\n",
      " mark(ᾖσαν_32/verb, ὅτι_29/subordinating_conjunction),\n",
      " advcl(ᾖσαν_32/verb, ἀκμάζοντές_30/verb),\n",
      " advmod(ᾖσαν_32/verb, τε_31/adverb),\n",
      " case(αὐτὸν_34/pronoun, ἐς_33/adposition),\n",
      " obl(ᾖσαν_32/verb, αὐτὸν_34/pronoun),\n",
      " obl(ᾖσαν_32/verb, παρασκευῇ_36/noun),\n",
      " nsubj(ᾖσαν_32/verb, ἀμφότεροι_35/adjective),\n",
      " det(παρασκευῇ_36/noun, τῇ_37/determiner),\n",
      " nmod(παρασκευῇ_36/noun, πάσῃ_38/adjective),\n",
      " obl(ᾖσαν_32/verb, αὐτὸν_34/pronoun),\n",
      " obl(ᾖσαν_32/verb, παρασκευῇ_36/noun),\n",
      " cc(ᾖσαν_32/verb, καὶ_39/coordinating_conjunction),\n",
      " det(Ἑλληνικὸν_42/adjective, τὸ_40/determiner),\n",
      " nmod(Ἑλληνικὸν_42/adjective, ἄλλο_41/adjective),\n",
      " nsubj(ξυνιστάμενον_44/verb, Ἑλληνικὸν_42/adjective),\n",
      " case(ἑκατέρους_46/adjective, πρὸς_45/adposition),\n",
      " obl(ξυνιστάμενον_44/verb, ἑκατέρους_46/adjective),\n",
      " punct(ξυνιστάμενον_44/verb, ,_47/punctuation),\n",
      " det(εὐθύς_50/adjective, τὸ_48/determiner),\n",
      " det(εὐθύς_50/adjective, τὸ_52/determiner),\n",
      " advmod(εὐθύς_50/adjective, μὲν_49/adverb),\n",
      " punct(τὸ_52/determiner, ,_51/punctuation),\n",
      " det(εὐθύς_50/adjective, τὸ_48/determiner),\n",
      " det(εὐθύς_50/adjective, τὸ_52/determiner),\n",
      " cc(εὐθύς_50/adjective, δὲ_53/coordinating_conjunction),\n",
      " advmod(διανοούμενον_55/verb, καὶ_54/coordinating_conjunction),\n",
      " conj(εὐθύς_50/adjective, διανοούμενον_55/verb),\n",
      " xcomp(ξυνιστάμενον_44/verb, εὐθύς_50/adjective),\n",
      " ccomp(ὁρῶν_43/verb, ξυνιστάμενον_44/verb),\n",
      " conj(ᾖσαν_32/verb, ὁρῶν_43/verb),\n",
      " ccomp(τεκμαιρόμενος_28/verb, ᾖσαν_32/verb),\n",
      " advcl(ξυνέγραψε_2/verb, ἐπολέμησαν_11/verb),\n",
      " advcl(ξυνέγραψε_2/verb, ἀρξάμενος_15/verb),\n",
      " advcl(ξυνέγραψε_2/verb, καθισταμένου_17/verb),\n",
      " advcl(ξυνέγραψε_2/verb, τεκμαιρόμενος_28/verb),\n",
      " punct(ξυνέγραψε_2/verb, ._56/punctuation),\n",
      " root(None, ξυνέγραψε_2/verb)]\n"
     ]
    }
   ],
   "source": [
    "pprint(a_tree_grc.get_dependencies())"
   ]
  },
  {
   "cell_type": "code",
   "execution_count": 63,
   "metadata": {},
   "outputs": [
    {
     "name": "stdout",
     "output_type": "stream",
     "text": [
      "Θουκυδίδης Ἀθηναῖος ξυνέγραψε τὸν πόλεμον τῶν Πελοποννησίων καὶ Ἀθηναίων , ὡς ἐπολέμησαν πρὸς ἀλλήλους , ἀρξάμενος εὐθὺς καθισταμένου καὶ ἐλπίσας μέγαν τε ἔσεσθαι καὶ ἀξιολογώτατον τῶν προγεγενημένων , τεκμαιρόμενος ὅτι ἀκμάζοντές τε ᾖσαν ἐς αὐτὸν ἀμφότεροι παρασκευῇ τῇ πάσῃ καὶ τὸ ἄλλο Ἑλληνικὸν ὁρῶν ξυνιστάμενον πρὸς ἑκατέρους , τὸ μὲν εὐθύς , τὸ δὲ καὶ διανοούμενον .\n",
      "\n",
      "Translation: Thucydides, an Athenian, wrote the history of the war between the Peloponnesians and the Athenians, beginning at the moment that it broke out, and believing that it would be a great war, and more worthy of relation than any that had preceded it. This belief was not without its grounds. The preparations of both the combatants were in every department in the last state of perfection; and he could see the rest of the Hellenic race taking sides in the quarrel; those who delayed doing so at once having it in contemplation.\n",
      "\n",
      "root | ξυνέγραψε_2/verb\n",
      "    └─ nsubj | Θουκυδίδης_0/noun\n",
      "        └─ nmod | Ἀθηναῖος_1/adjective\n",
      "    └─ obj | πόλεμον_4/noun\n",
      "        └─ det | τὸν_3/determiner\n",
      "        └─ nmod | Πελοποννησίων_6/noun\n",
      "            └─ det | τῶν_5/determiner\n",
      "            └─ cc | καὶ_7/coordinating_conjunction\n",
      "            └─ conj | Ἀθηναίων_8/noun\n",
      "    └─ advcl | ἐπολέμησαν_11/verb\n",
      "        └─ mark | ὡς_10/subordinating_conjunction\n",
      "            └─ punct | ,_9/punctuation\n",
      "        └─ obl | ἀλλήλους_13/pronoun\n",
      "            └─ case | πρὸς_12/adposition\n",
      "    └─ advcl | ἀρξάμενος_15/verb\n",
      "        └─ punct | ,_14/punctuation\n",
      "        └─ conj | ἐλπίσας_19/verb\n",
      "            └─ obj | μέγαν_20/adjective\n",
      "                └─ advmod | τε_21/adverb\n",
      "                └─ cop | ἔσεσθαι_22/auxiliary\n",
      "                └─ cc | καὶ_23/coordinating_conjunction\n",
      "                └─ conj | ἀξιολογώτατον_24/adjective\n",
      "                    └─ nmod | προγεγενημένων_26/verb\n",
      "                        └─ det | τῶν_25/determiner\n",
      "    └─ advcl | καθισταμένου_17/verb\n",
      "        └─ advmod | εὐθὺς_16/adverb\n",
      "        └─ cc | καὶ_18/coordinating_conjunction\n",
      "    └─ advcl | τεκμαιρόμενος_28/verb\n",
      "        └─ punct | ,_27/punctuation\n",
      "        └─ ccomp | ᾖσαν_32/verb\n",
      "            └─ mark | ὅτι_29/subordinating_conjunction\n",
      "            └─ advcl | ἀκμάζοντές_30/verb\n",
      "            └─ advmod | τε_31/adverb\n",
      "            └─ obl | αὐτὸν_34/pronoun\n",
      "                └─ case | ἐς_33/adposition\n",
      "            └─ nsubj | ἀμφότεροι_35/adjective\n",
      "            └─ obl | παρασκευῇ_36/noun\n",
      "                └─ det | τῇ_37/determiner\n",
      "                └─ nmod | πάσῃ_38/adjective\n",
      "            └─ cc | καὶ_39/coordinating_conjunction\n",
      "            └─ conj | ὁρῶν_43/verb\n",
      "                └─ ccomp | ξυνιστάμενον_44/verb\n",
      "                    └─ nsubj | Ἑλληνικὸν_42/adjective\n",
      "                        └─ det | τὸ_40/determiner\n",
      "                        └─ nmod | ἄλλο_41/adjective\n",
      "                    └─ obl | ἑκατέρους_46/adjective\n",
      "                        └─ case | πρὸς_45/adposition\n",
      "                    └─ punct | ,_47/punctuation\n",
      "                    └─ xcomp | εὐθύς_50/adjective\n",
      "                        └─ det | τὸ_48/determiner\n",
      "                        └─ advmod | μὲν_49/adverb\n",
      "                        └─ det | τὸ_52/determiner\n",
      "                            └─ punct | ,_51/punctuation\n",
      "                        └─ cc | δὲ_53/coordinating_conjunction\n",
      "                        └─ conj | διανοούμενον_55/verb\n",
      "                            └─ advmod | καὶ_54/coordinating_conjunction\n",
      "    └─ punct | ._56/punctuation\n"
     ]
    }
   ],
   "source": [
    "print(cltk_doc_grc.sentences_strings[0])\n",
    "print(\"\")\n",
    "print(\"Translation:\", \"Thucydides, an Athenian, wrote the history of the war between the Peloponnesians and the Athenians, beginning at the moment that it broke out, and believing that it would be a great war, and more worthy of relation than any that had preceded it. This belief was not without its grounds. The preparations of both the combatants were in every department in the last state of perfection; and he could see the rest of the Hellenic race taking sides in the quarrel; those who delayed doing so at once having it in contemplation.\")\n",
    "print(\"\")\n",
    "a_tree_grc.print_tree()"
   ]
  },
  {
   "cell_type": "code",
   "execution_count": 64,
   "metadata": {},
   "outputs": [],
   "source": [
    "feature_names_grc, list_of_list_features_grc = cltk_doc_to_features_table(cltk_doc=cltk_doc_grc)"
   ]
  },
  {
   "cell_type": "code",
   "execution_count": 65,
   "metadata": {},
   "outputs": [
    {
     "name": "stdout",
     "output_type": "stream",
     "text": [
      "['string', 'lemma', 'embedding', 'is_stop', 'lemma', 'pos', 'case', 'gender', 'animacy', 'number', 'definiteness', 'degree', 'strength', 'verbform', 'tense', 'mood', 'aspect', 'voice', 'person', 'polarity', 'politeness', 'clusivity', 'evidentiality', 'strength', 'governing_word', 'governor_case', 'governor_gender', 'governor_animacy', 'governor_number', 'governor_definiteness', 'governor_degree', 'governor_strength', 'governor_verbform', 'governor_tense', 'governor_mood', 'governor_aspect', 'governor_voice', 'governor_person', 'governor_polarity', 'governor_politeness', 'governor_clusivity', 'governor_evidentiality', 'governor_strength', 'governing_relationship']\n"
     ]
    }
   ],
   "source": [
    "print(feature_names_grc)"
   ]
  },
  {
   "cell_type": "code",
   "execution_count": 66,
   "metadata": {},
   "outputs": [
    {
     "name": "stdout",
     "output_type": "stream",
     "text": [
      "len() of feature instances (one for each token): 11517\n",
      "\n",
      "Example of one instance row: ['πόλεμον', 'πόλεμος', array([ 0.026979, -0.201583,  0.403359, -0.283483, -0.009569, -0.199355,\n",
      "        0.045749,  0.004704,  0.142157,  0.256203,  0.597056,  0.051038,\n",
      "       -0.163049, -0.373365,  0.036745, -0.091862,  0.297455,  0.215132,\n",
      "        0.038652, -0.162991, -0.365283, -0.290551,  0.702512, -0.229625,\n",
      "        0.36157 , -0.160029,  0.142917, -0.015726,  0.27188 ,  0.122487,\n",
      "        0.138659,  0.046546,  0.257647,  0.176612, -0.379691, -0.106146,\n",
      "       -0.111118, -0.351822, -0.149012,  0.266751,  0.07048 ,  0.036137,\n",
      "       -0.087169, -0.609234,  0.015767,  0.18534 ,  0.090315, -0.163389,\n",
      "        0.080256, -0.213097, -0.208633, -0.153822, -0.126109,  0.170786,\n",
      "        0.364725, -0.21801 ,  0.445456, -0.046112,  0.442441, -0.444369,\n",
      "        0.045849, -0.107836,  0.046578, -0.171076,  0.377415,  0.554179,\n",
      "        0.566092, -0.06977 ,  0.598988,  0.273217, -0.489505,  0.067709,\n",
      "       -0.388921,  0.130601, -0.258088,  0.148842, -0.084431, -0.047634,\n",
      "       -0.408875, -0.238176,  0.294434,  0.403161, -0.07442 , -0.190949,\n",
      "        0.319847,  0.464637,  0.236608,  0.51176 , -0.237943,  0.48451 ,\n",
      "        0.431031,  0.245301, -0.133887,  0.217031,  0.37271 , -0.429012,\n",
      "       -0.230234, -0.193362, -0.053467, -0.173879], dtype=float32), False, None, 'noun', 'accusative', 'masculine', None, 'singular', None, None, None, None, None, None, None, None, None, None, None, None, None, None, 'noun', 'accusative', 'masculine', None, 'singular', None, None, None, None, None, None, None, None, None, None, None, None, None, None, 'obj']\n"
     ]
    }
   ],
   "source": [
    "print(\"len() of feature instances (one for each token):\", len(list_of_list_features_grc))\n",
    "print(\"\")\n",
    "print(\"Example of one instance row:\", list_of_list_features_grc[4])"
   ]
  },
  {
   "cell_type": "code",
   "execution_count": 67,
   "metadata": {},
   "outputs": [
    {
     "name": "stdout",
     "output_type": "stream",
     "text": [
      "[('string', 'πόλεμον'),\n",
      " ('lemma', 'πόλεμος'),\n",
      " ('embedding',\n",
      "  array([ 0.026979, -0.201583,  0.403359, -0.283483, -0.009569, -0.199355,\n",
      "        0.045749,  0.004704,  0.142157,  0.256203,  0.597056,  0.051038,\n",
      "       -0.163049, -0.373365,  0.036745, -0.091862,  0.297455,  0.215132,\n",
      "        0.038652, -0.162991, -0.365283, -0.290551,  0.702512, -0.229625,\n",
      "        0.36157 , -0.160029,  0.142917, -0.015726,  0.27188 ,  0.122487,\n",
      "        0.138659,  0.046546,  0.257647,  0.176612, -0.379691, -0.106146,\n",
      "       -0.111118, -0.351822, -0.149012,  0.266751,  0.07048 ,  0.036137,\n",
      "       -0.087169, -0.609234,  0.015767,  0.18534 ,  0.090315, -0.163389,\n",
      "        0.080256, -0.213097, -0.208633, -0.153822, -0.126109,  0.170786,\n",
      "        0.364725, -0.21801 ,  0.445456, -0.046112,  0.442441, -0.444369,\n",
      "        0.045849, -0.107836,  0.046578, -0.171076,  0.377415,  0.554179,\n",
      "        0.566092, -0.06977 ,  0.598988,  0.273217, -0.489505,  0.067709,\n",
      "       -0.388921,  0.130601, -0.258088,  0.148842, -0.084431, -0.047634,\n",
      "       -0.408875, -0.238176,  0.294434,  0.403161, -0.07442 , -0.190949,\n",
      "        0.319847,  0.464637,  0.236608,  0.51176 , -0.237943,  0.48451 ,\n",
      "        0.431031,  0.245301, -0.133887,  0.217031,  0.37271 , -0.429012,\n",
      "       -0.230234, -0.193362, -0.053467, -0.173879], dtype=float32)),\n",
      " ('is_stop', False),\n",
      " ('lemma', None),\n",
      " ('pos', 'noun'),\n",
      " ('case', 'accusative'),\n",
      " ('gender', 'masculine'),\n",
      " ('animacy', None),\n",
      " ('number', 'singular'),\n",
      " ('definiteness', None),\n",
      " ('degree', None),\n",
      " ('strength', None),\n",
      " ('verbform', None),\n",
      " ('tense', None),\n",
      " ('mood', None),\n",
      " ('aspect', None),\n",
      " ('voice', None),\n",
      " ('person', None),\n",
      " ('polarity', None),\n",
      " ('politeness', None),\n",
      " ('clusivity', None),\n",
      " ('evidentiality', None),\n",
      " ('strength', None),\n",
      " ('governing_word', 'noun'),\n",
      " ('governor_case', 'accusative'),\n",
      " ('governor_gender', 'masculine'),\n",
      " ('governor_animacy', None),\n",
      " ('governor_number', 'singular'),\n",
      " ('governor_definiteness', None),\n",
      " ('governor_degree', None),\n",
      " ('governor_strength', None),\n",
      " ('governor_verbform', None),\n",
      " ('governor_tense', None),\n",
      " ('governor_mood', None),\n",
      " ('governor_aspect', None),\n",
      " ('governor_voice', None),\n",
      " ('governor_person', None),\n",
      " ('governor_polarity', None),\n",
      " ('governor_politeness', None),\n",
      " ('governor_clusivity', None),\n",
      " ('governor_evidentiality', None),\n",
      " ('governor_strength', None),\n",
      " ('governing_relationship', 'obj')]\n"
     ]
    }
   ],
   "source": [
    "# Putting these together for easier reading\n",
    "pprint(list(zip(feature_names_grc, list_of_list_features_grc[4])))"
   ]
  },
  {
   "cell_type": "code",
   "execution_count": null,
   "metadata": {},
   "outputs": [],
   "source": []
  }
 ],
 "metadata": {
  "kernelspec": {
   "display_name": "Python 3 (ipykernel)",
   "language": "python",
   "name": "python3"
  },
  "language_info": {
   "codemirror_mode": {
    "name": "ipython",
    "version": 3
   },
   "file_extension": ".py",
   "mimetype": "text/x-python",
   "name": "python",
   "nbconvert_exporter": "python",
   "pygments_lexer": "ipython3",
   "version": "3.11.6"
  }
 },
 "nbformat": 4,
 "nbformat_minor": 4
}

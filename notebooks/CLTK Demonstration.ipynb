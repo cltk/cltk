{
 "cells": [
  {
   "cell_type": "markdown",
   "metadata": {},
   "source": [
    "# Introduction\n",
    "\n",
    "TODO"
   ]
  },
  {
   "cell_type": "markdown",
   "metadata": {},
   "source": [
    "# Install pre-release of CLTK"
   ]
  },
  {
   "cell_type": "code",
   "execution_count": 4,
   "metadata": {},
   "outputs": [],
   "source": [
    "# Requires Python 3.7 or 3.8 on a POSIX-compliant OS\n",
    "!pip install --pre cltk"
   ]
  },
  {
   "cell_type": "markdown",
   "metadata": {},
   "source": [
    "# Get data\n",
    "\n",
    "The following obtain two plaintext documents of two Classical authors. A subset of each will be used to demonstrate the CLTK."
   ]
  },
  {
   "cell_type": "code",
   "execution_count": 2,
   "metadata": {
    "scrolled": true
   },
   "outputs": [
    {
     "name": "stdout",
     "output_type": "stream",
     "text": [
      "  % Total    % Received % Xferd  Average Speed   Time    Time     Time  Current\n",
      "                                 Dload  Upload   Total   Spent    Left  Speed\n",
      "  0     0    0     0    0     0      0      0 --:--:-- --:--:-- --:--:--     0\n"
     ]
    }
   ],
   "source": [
    "# Get Latin text\n",
    "# https://gist.github.com/kylepjohnson/2f9376fcf15699c250a0d09b37683370\n",
    "# now at `notebooks/lat-livy.txt`\n",
    "!curl -O https://gist.github.com/kylepjohnson/2f9376fcf15699c250a0d09b37683370/raw/4b98b15017b1bd31e77447309bd9b7cb9086349c/lat-livy.txt"
   ]
  },
  {
   "cell_type": "code",
   "execution_count": 1,
   "metadata": {},
   "outputs": [
    {
     "name": "stdout",
     "output_type": "stream",
     "text": [
      "  % Total    % Received % Xferd  Average Speed   Time    Time     Time  Current\n",
      "                                 Dload  Upload   Total   Spent    Left  Speed\n",
      "  0     0    0     0    0     0      0      0 --:--:-- --:--:-- --:--:--     0\n"
     ]
    }
   ],
   "source": [
    "# Get Ancient Greek text\n",
    "# https://gist.github.com/kylepjohnson/9835c36fb06ca30ebf29b7f2c7bd29e0\n",
    "# now at `notebooks/grc-thucydides.txt`\n",
    "!curl -O https://gist.github.com/kylepjohnson/9835c36fb06ca30ebf29b7f2c7bd29e0/raw/8f5aa440363dc66952bb1eb12effc7d3ada101a8/grc-thucydides.txt"
   ]
  },
  {
   "cell_type": "code",
   "execution_count": 1,
   "metadata": {},
   "outputs": [],
   "source": [
    "# read the Latin file\n",
    "# We'll run the full demonstration in the Latin language first\n",
    "with open(\"lat-livy.txt\") as fo:\n",
    "    livy_full = fo.read()"
   ]
  },
  {
   "cell_type": "code",
   "execution_count": 2,
   "metadata": {},
   "outputs": [
    {
     "name": "stdout",
     "output_type": "stream",
     "text": [
      "Text snippet: riptores aut in rebus certius aliquid allaturos se aut scribendi arte rudem vetustatem superaturos credunt. utcumque erit, iuvabit tamen rerum gestarum memoriae principis terrarum populi pro virili pa\n",
      "Character count: 3580331\n",
      "Approximate token count: 503818\n"
     ]
    }
   ],
   "source": [
    "print(\"Text snippet:\", livy_full[200:400])\n",
    "print(\"Character count:\", len(livy_full))\n",
    "print(\"Approximate token count:\", len(livy_full.split()))"
   ]
  },
  {
   "cell_type": "code",
   "execution_count": 3,
   "metadata": {},
   "outputs": [
    {
     "data": {
      "text/plain": [
       "71606"
      ]
     },
     "execution_count": 3,
     "metadata": {},
     "output_type": "execute_result"
    }
   ],
   "source": [
    "len(livy_full) // 50"
   ]
  },
  {
   "cell_type": "code",
   "execution_count": 4,
   "metadata": {},
   "outputs": [
    {
     "name": "stdout",
     "output_type": "stream",
     "text": [
      "Approximate token count: 10209\n"
     ]
    }
   ],
   "source": [
    "# Now let's cut this down to roughly 10k tokens for this demonstration's purposes\n",
    "livy = livy_full[:len(livy_full) // 50]\n",
    "print(\"Approximate token count:\", len(livy.split()))"
   ]
  },
  {
   "cell_type": "markdown",
   "metadata": {},
   "source": [
    "# Run NLP pipeline with `NLP()`"
   ]
  },
  {
   "cell_type": "code",
   "execution_count": 5,
   "metadata": {},
   "outputs": [],
   "source": [
    "# For most users, this is the only import required\n",
    "from cltk import NLP"
   ]
  },
  {
   "cell_type": "code",
   "execution_count": 6,
   "metadata": {},
   "outputs": [],
   "source": [
    "# Load the default Pipeline for Latin\n",
    "cltk_nlp = NLP(language=\"lat\")"
   ]
  },
  {
   "cell_type": "code",
   "execution_count": 7,
   "metadata": {},
   "outputs": [
    {
     "name": "stdout",
     "output_type": "stream",
     "text": [
      "CPU times: user 1min 30s, sys: 8.72 s, total: 1min 39s\n",
      "Wall time: 1min 32s\n"
     ]
    }
   ],
   "source": [
    "# Now execute NLP algorithms upon input text\n",
    "# Execution time is 54 sec on a 2015 Macbook Pro\n",
    "%time cltk_doc = cltk_nlp.analyze(text=livy)\n",
    "\n",
    "# You will be asked to download some models (from CLTK, fastText, and Stanza)"
   ]
  },
  {
   "cell_type": "markdown",
   "metadata": {},
   "source": [
    "# Inspect CLTK `Doc`"
   ]
  },
  {
   "cell_type": "code",
   "execution_count": 8,
   "metadata": {},
   "outputs": [
    {
     "name": "stdout",
     "output_type": "stream",
     "text": [
      "<class 'cltk.core.data_types.Doc'>\n"
     ]
    }
   ],
   "source": [
    "# We can now inspect the result\n",
    "print(type(cltk_doc))"
   ]
  },
  {
   "cell_type": "code",
   "execution_count": 9,
   "metadata": {},
   "outputs": [
    {
     "name": "stdout",
     "output_type": "stream",
     "text": [
      "['_get_words_attribute', 'embeddings', 'embeddings_model', 'language', 'lemmata', 'morphosyntactic_features', 'pipeline', 'pos', 'raw', 'sentences', 'sentences_strings', 'sentences_tokens', 'stanza_doc', 'stems', 'tokens', 'tokens_stops_filtered', 'words']\n"
     ]
    }
   ],
   "source": [
    "# All accessors\n",
    "print([x for x in dir(cltk_doc) if not x.startswith(\"__\")])"
   ]
  },
  {
   "cell_type": "code",
   "execution_count": 10,
   "metadata": {},
   "outputs": [
    {
     "name": "stdout",
     "output_type": "stream",
     "text": [
      "['facturusne', 'operae', 'pretium', 'sim', ',', 'si', 'a', 'primordio', 'urbis', 'res', 'populi', 'Romani', 'perscripserim', ',', 'nec', 'satis', 'scio', 'nec', ',', 'si']\n"
     ]
    }
   ],
   "source": [
    "# Several of the more useful\n",
    "\n",
    "# List of tokens\n",
    "print(cltk_doc.tokens[:20])"
   ]
  },
  {
   "cell_type": "code",
   "execution_count": 11,
   "metadata": {},
   "outputs": [
    {
     "name": "stdout",
     "output_type": "stream",
     "text": [
      "['facturusne', 'opus', 'pretium', 'sum', ',', 'si', 'ab', 'primordius', 'urbis', 'res', 'populus', 'momanum', 'perscribo', ',', 'nec', 'satis', 'scio', 'nec', ',', 'si']\n"
     ]
    }
   ],
   "source": [
    "# List of lemmas\n",
    "print(cltk_doc.lemmata[:20])"
   ]
  },
  {
   "cell_type": "code",
   "execution_count": 12,
   "metadata": {},
   "outputs": [
    {
     "name": "stdout",
     "output_type": "stream",
     "text": [
      "['ADV', 'NOUN', 'NOUN', 'AUX', 'PUNCT', 'SCONJ', 'ADP', 'ADJ', 'NOUN', 'NOUN', 'NOUN', 'NOUN', 'VERB', 'PUNCT', 'CCONJ', 'ADV', 'VERB', 'CCONJ', 'PUNCT', 'SCONJ']\n"
     ]
    }
   ],
   "source": [
    "# Basic part-of-speech info\n",
    "print(cltk_doc.pos[:20])"
   ]
  },
  {
   "cell_type": "code",
   "execution_count": 13,
   "metadata": {},
   "outputs": [
    {
     "name": "stdout",
     "output_type": "stream",
     "text": [
      "[['facturusne', 'operae', 'pretium', 'sim', ',', 'si', 'a', 'primordio', 'urbis', 'res', 'populi', 'Romani', 'perscripserim', ',', 'nec', 'satis', 'scio', 'nec', ',', 'si', 'sciam', ',', 'dicere', 'ausim', ',', 'quippe', 'qui', 'cum', 'veterem', 'tum', 'vulgatam', 'esse', 'rem', 'videam', ',', 'dum', 'novi', 'semper', 'scriptores', 'aut', 'in', 'rebus', 'certius', 'aliquid', 'allaturos', 'se', 'aut', 'scribendi', 'arte', 'rudem', 'vetustatem', 'superaturos', 'credunt', '.'], ['utcumque', 'erit', ',', 'iuvabit', 'tamen', 'rerum', 'gestarum', 'memoriae', 'principis', 'terrarum', 'populi', 'pro', 'virili', 'parte', 'et', 'ipsum', 'consuluisse', ';']]\n"
     ]
    }
   ],
   "source": [
    "# A list of list of tokens\n",
    "print(cltk_doc.sentences_tokens[:2])"
   ]
  },
  {
   "cell_type": "markdown",
   "metadata": {},
   "source": [
    "# Inspect CLTK `Word`"
   ]
  },
  {
   "cell_type": "markdown",
   "metadata": {},
   "source": [
    "Most powerful, though, is the ``Doc.words`` accessor, which is a list of ``Word`` objects. These ``Word`` objects contain all information that was generated during the NLP pipeline"
   ]
  },
  {
   "cell_type": "code",
   "execution_count": 14,
   "metadata": {},
   "outputs": [
    {
     "name": "stdout",
     "output_type": "stream",
     "text": [
      "11735\n"
     ]
    }
   ],
   "source": [
    "# One ``Word`` object for each token\n",
    "print(len(cltk_doc.words))"
   ]
  },
  {
   "cell_type": "markdown",
   "metadata": {},
   "source": [
    "Users can go token-by-token via ``Doc.words`` or via the intermediary step of looping through sentences."
   ]
  },
  {
   "cell_type": "code",
   "execution_count": 15,
   "metadata": {},
   "outputs": [
    {
     "name": "stdout",
     "output_type": "stream",
     "text": [
      "Original: Ibi egressi Troiani , ut quibus ab immenso prope errore nihil praeter arma et naues superesset , cum praedam ex agris agerent , Latinus rex Aboriginesque qui tum ea tenebant loca ad arcendam vim advenarum armati ex urbe atque agris concurrunt .\n",
      "\n",
      "Translation: Landing there, the Trojans, as men who, after their all but immeasurable wanderings, had nothing left but their swords and ships, were driving booty from the fields, when King Latinus and the Aborigines, who then occupied that country, rushed down from their city and their fields to repel with arms the violence of the invaders.\n"
     ]
    }
   ],
   "source": [
    "# Let's look at a non-trivial sentence from Book 1\n",
    "print(\"Original:\", cltk_doc.sentences_strings[26])\n",
    "print(\"\")\n",
    "print(\"Translation:\", \"Landing there, the Trojans, as men who, after their all but immeasurable wanderings, had nothing left but their swords and ships, were driving booty from the fields, when King Latinus and the Aborigines, who then occupied that country, rushed down from their city and their fields to repel with arms the violence of the invaders.\")\n",
    "# source: http://www.perseus.tufts.edu/hopper/text?doc=Liv.+1+1+5&fromdoc=Perseus%3Atext%3A1999.02.0151\n",
    "sentence_26 = cltk_doc.sentences[26]  # type: List[Word]"
   ]
  },
  {
   "cell_type": "code",
   "execution_count": 16,
   "metadata": {},
   "outputs": [
    {
     "name": "stdout",
     "output_type": "stream",
     "text": [
      "Word(index_char_start=None, index_char_stop=None, index_token=40, index_sentence=26, string='concurrunt', pos=verb, lemma='concurro', stem=None, scansion=None, xpos='L3|modA|tem1|gen9', upos='VERB', dependency_relation='acl:relcl', governor=33, features={Mood: [indicative], Number: [plural], Person: [third], Tense: [present], VerbForm: [finite], Voice: [active]}, category={F: [neg], N: [neg], V: [pos]}, embedding=array([-0.16746  , -0.18548  ,  0.30632  , -0.29627  , -0.27262  ,\n",
      "       -0.0767   ,  0.19405  ,  0.12386  , -0.0076342,  0.13037  ,\n",
      "        0.17128  ,  0.1189   , -0.22169  , -0.57089  ,  0.28066  ,\n",
      "       -0.14514  , -0.041256 , -0.021754 ,  0.02212  , -0.25983  ,\n",
      "        0.53374  , -0.042267 ,  0.27314  ,  0.083616 ,  0.30746  ,\n",
      "        0.087764 , -0.10098  ,  0.22689  , -0.17577  , -0.35894  ,\n",
      "       -0.39609  ,  0.43406  ,  0.21306  ,  0.26909  ,  0.099561 ,\n",
      "        0.26916  , -0.46547  ,  0.1416   , -0.21319  , -0.15126  ,\n",
      "        0.36604  , -0.020737 ,  0.42397  ,  0.014221 ,  0.14055  ,\n",
      "        0.21519  ,  0.11099  ,  0.03183  , -0.26811  ,  0.2691   ,\n",
      "       -0.059489 , -0.32648  , -0.47286  , -0.054011 ,  0.64627  ,\n",
      "        0.40984  , -0.26108  , -0.006157 ,  0.016047 , -0.36     ,\n",
      "       -0.0059306,  0.036475 , -0.26611  ,  0.22437  , -0.030462 ,\n",
      "        0.27057  , -0.43477  ,  0.39011  ,  0.11665  , -0.17181  ,\n",
      "        0.1938   ,  0.30478  ,  0.15594  , -0.24797  , -0.28985  ,\n",
      "       -0.50473  ,  0.12834  ,  0.13296  ,  0.20974  ,  0.18452  ,\n",
      "       -0.049739 ,  0.30645  , -0.1036   , -0.0051733, -0.37052  ,\n",
      "        0.05242  ,  0.47427  ,  0.11924  ,  0.17432  ,  0.0051695,\n",
      "       -0.19177  ,  0.30655  ,  0.15158  ,  0.44306  ,  0.0094918,\n",
      "        0.066288 ,  0.43126  ,  0.14704  , -0.21296  ,  0.065158 ,\n",
      "       -0.051074 , -0.071807 , -0.30076  ,  0.094454 , -0.01951  ,\n",
      "       -0.30378  ,  0.071281 ,  0.097893 ,  0.1682   ,  0.14394  ,\n",
      "        0.16555  ,  0.18857  , -0.21343  , -0.39882  , -0.0056818,\n",
      "        0.13572  ,  0.4581   ,  0.26051  ,  0.091876 ,  0.15996  ,\n",
      "       -0.15423  , -0.032577 ,  0.3355   ,  0.053628 ,  0.16543  ,\n",
      "        0.12325  ,  0.62661  ,  0.019613 ,  0.25669  , -0.40527  ,\n",
      "        0.17728  ,  0.21147  , -0.15291  , -0.044267 , -0.18761  ,\n",
      "       -0.22989  , -0.15356  , -0.12118  ,  0.4221   ,  0.14455  ,\n",
      "       -0.098447 , -0.0689   ,  0.286    ,  0.057885 , -0.41445  ,\n",
      "        0.2779   , -0.016358 , -0.62472  , -0.14563  ,  0.019347 ,\n",
      "        0.2676   , -0.40895  ,  0.046428 , -0.024668 , -0.07123  ,\n",
      "        0.29799  ,  0.0441   , -0.020152 ,  0.7785   ,  0.066722 ,\n",
      "        0.40216  , -0.065465 ,  0.29178  , -0.045332 , -0.28099  ,\n",
      "        0.12069  ,  0.092256 , -0.28262  ,  0.16332  , -0.11963  ,\n",
      "        0.23084  ,  0.095945 ,  0.26448  , -0.070788 , -0.090602 ,\n",
      "        0.21045  ,  0.10711  ,  0.072995 ,  0.36067  , -0.66715  ,\n",
      "       -0.092171 , -0.17343  , -0.086316 ,  0.064014 , -0.037073 ,\n",
      "        0.19314  , -0.24475  ,  0.36475  ,  0.44256  ,  0.34814  ,\n",
      "       -0.23052  , -0.33464  , -0.25515  , -0.0062384,  0.16953  ,\n",
      "       -0.21684  , -0.50552  , -0.26195  ,  0.18859  , -0.024014 ,\n",
      "        0.16651  ,  0.19608  , -0.014255 ,  0.022351 , -0.15028  ,\n",
      "       -0.27432  , -0.090952 , -0.0053178, -0.17972  , -0.17313  ,\n",
      "       -0.022731 , -0.047864 ,  0.13094  ,  0.48215  ,  0.27521  ,\n",
      "        0.23869  , -0.18862  , -0.33807  , -0.09874  ,  0.18834  ,\n",
      "       -0.15856  , -0.19709  ,  0.091342 ,  0.18845  ,  0.24375  ,\n",
      "       -0.071029 ,  0.25485  , -0.20413  , -0.12763  ,  0.034578 ,\n",
      "       -0.098762 ,  0.29447  , -0.2311   , -0.26438  ,  0.53568  ,\n",
      "       -0.024871 , -0.081562 , -0.20891  , -0.31516  , -0.041829 ,\n",
      "        0.22537  ,  0.17958  ,  0.21367  ,  0.020792 , -0.17514  ,\n",
      "        0.12402  ,  0.17977  ,  0.093449 ,  0.21696  ,  0.027229 ,\n",
      "        0.065418 , -0.15782  , -0.2414   ,  0.18637  , -0.12432  ,\n",
      "        0.10779  ,  0.13641  ,  0.025108 ,  0.19791  ,  0.0093455,\n",
      "        0.36186  ,  0.25091  ,  0.13112  ,  0.18152  ,  0.021867 ,\n",
      "        0.11931  , -0.4036   , -0.27416  , -0.38616  , -0.28777  ,\n",
      "       -0.086809 , -0.43366  , -0.091819 ,  0.21763  , -0.13074  ,\n",
      "        0.20796  ,  0.31517  , -0.020933 ,  0.058451 , -0.33536  ,\n",
      "        0.59479  , -0.10157  , -0.17879  , -0.28129  ,  0.14399  ,\n",
      "        0.45861  , -0.030208 , -0.2507   , -0.27942  ,  0.26798  ,\n",
      "       -0.49253  , -0.18972  , -0.044783 ,  0.2852   , -0.046358 ,\n",
      "        0.33655  ,  0.012819 , -0.059189 , -0.1022   , -0.16723  ],\n",
      "      dtype=float32), stop=False, named_entity=False, syllables=None, phonetic_transcription=None)\n"
     ]
    }
   ],
   "source": [
    "# Looking at one Word, 'concurrunt' ('they run together')\n",
    "a_word_concurrunt = sentence_26[40]\n",
    "print(a_word_concurrunt)"
   ]
  },
  {
   "cell_type": "markdown",
   "metadata": {},
   "source": [
    "In this word, you can see information for lexicography (`.lemmata`), semantics (`.embedding`), morphology (`.pos`, `.features`), syntax (`.governor`, `.dependency_relation`), plus other information most users would find helpful (`.stop`, `.named_entity`)."
   ]
  },
  {
   "cell_type": "markdown",
   "metadata": {},
   "source": [
    "# Modeling morphology with `MorphosyntacticFeature` and `MorphosyntacticFeatureBundle`\n",
    "\n",
    "When the a language's `Pipeline` builds each `Word` object, morphological information is stored at several accessors. Those of interest to most users are `.pos` and `.features`."
   ]
  },
  {
   "cell_type": "code",
   "execution_count": 17,
   "metadata": {},
   "outputs": [
    {
     "name": "stdout",
     "output_type": "stream",
     "text": [
      "`Word.string`: concurrunt\n",
      "\n",
      "`Word.pos`: POS.verb\n"
     ]
    }
   ],
   "source": [
    "print(\"`Word.string`:\", a_word_concurrunt.string)\n",
    "print(\"\")\n",
    "# Part-of-speech is always be available at `.pos`.\n",
    "print(\"`Word.pos`:\", a_word_concurrunt.pos)"
   ]
  },
  {
   "cell_type": "markdown",
   "metadata": {},
   "source": [
    "The CLTK contains classes a specific class for [the annotation types defined by v2 of the Universal Dependencies project](https://universaldependencies.org/u/feat/all.html). In the CLTK's codebase, these are located at [cltk/morphology/universal_dependencies_features.py](https://github.com/cltk/cltk/blob/dev/src/cltk/morphology/universal_dependencies_features.py)..\n",
    "\n",
    "For instance, a Latin verb requires a label for its [https://universaldependencies.org/u/feat/all.html#al-u-feat/Mood](mood) (e.g., indicative), which the UD project defines as \"a feature that expresses modality and subclassifies finite verb forms\".\n",
    "\n",
    "Though morphological taggers may annnotate a verb's mood variously (\"ind.\", \"indicative\", \"Indic\", etc.), the CLTK maps the term into the following, standardized `Mood`.\n",
    "\n",
    "``` python\n",
    "class Mood(MorphosyntacticFeature):\n",
    "    \"\"\"The mood of a verb.\n",
    "    see https://universaldependencies.org/u/feat/Mood.html\n",
    "    \"\"\"\n",
    "\n",
    "    admirative = auto()\n",
    "    conditional = auto()\n",
    "    desiderative = auto()\n",
    "    imperative = auto()\n",
    "    indicative = auto()\n",
    "    jussive = auto()\n",
    "    necessitative = auto()\n",
    "    optative = auto()\n",
    "    potential = auto()\n",
    "    purposive = auto()\n",
    "    quotative = auto()\n",
    "    subjunctive = auto()\n",
    "```\n",
    "\n",
    "Turning back to the the above example word, we can see such features at `.features`."
   ]
  },
  {
   "cell_type": "code",
   "execution_count": 18,
   "metadata": {
    "scrolled": true
   },
   "outputs": [
    {
     "name": "stdout",
     "output_type": "stream",
     "text": [
      "type(`Word.features`): <class 'cltk.morphology.morphosyntax.MorphosyntacticFeatureBundle'>\n",
      "\n",
      "`Word.features`: {Mood: [indicative], Number: [plural], Person: [third], Tense: [present], VerbForm: [finite], Voice: [active]}\n"
     ]
    }
   ],
   "source": [
    "# type\n",
    "print(\"type(`Word.features`):\", type(a_word_concurrunt.features))\n",
    "print(\"\")\n",
    "# str repr of `MorphosyntacticFeatureBundle`\n",
    "print(\"`Word.features`:\", a_word_concurrunt.features)"
   ]
  },
  {
   "cell_type": "markdown",
   "metadata": {},
   "source": [
    "A user may inspect a `MorphosyntacticFeatureBundle` in a manner similar to a `dict`"
   ]
  },
  {
   "cell_type": "code",
   "execution_count": 19,
   "metadata": {},
   "outputs": [
    {
     "name": "stdout",
     "output_type": "stream",
     "text": [
      "Mood: [indicative]\n",
      "Number: [plural]\n",
      "Person: [third]\n",
      "Tense: [present]\n",
      "VerbForm: [finite]\n",
      "Voice: [active]\n"
     ]
    }
   ],
   "source": [
    "print(\"Mood:\", a_word_concurrunt.features[\"Mood\"])  # type: List[Mood]\n",
    "print(\"Number:\", a_word_concurrunt.features[\"Number\"])  # type: List[Number]\n",
    "print(\"Person:\", a_word_concurrunt.features[\"Person\"])  # type: List[Person]\n",
    "print(\"Tense:\", a_word_concurrunt.features[\"Tense\"])  # type: List[Tense]\n",
    "print(\"VerbForm:\", a_word_concurrunt.features[\"VerbForm\"])  # type: List[VerbForm]\n",
    "print(\"Voice:\", a_word_concurrunt.features[\"Voice\"])  # type: List[Voice]\n",
    "\n",
    "# Note: The values returned here are a list, though under normally only one \n",
    "# morphological form will be available"
   ]
  },
  {
   "cell_type": "markdown",
   "metadata": {},
   "source": [
    "Looking a bit closer at `MorphosyntacticFeature`, we can see how its data type inherits from the Python builtin [IntEnu](https://docs.python.org/3/library/enum.html#enum.IntEnum)."
   ]
  },
  {
   "cell_type": "code",
   "execution_count": 20,
   "metadata": {},
   "outputs": [
    {
     "name": "stdout",
     "output_type": "stream",
     "text": [
      "type(a_mood_obj): Mood\n",
      "\n",
      "Is `IntEnum`? True\n",
      "\n",
      "`Mood` inherits from `MorphosyntacticFeature`? True\n"
     ]
    }
   ],
   "source": [
    "a_mood_obj = a_word_concurrunt.features[\"Mood\"][0]\n",
    "# see type\n",
    "print(\"type(a_mood_obj):\", type(a_mood_obj))\n",
    "print(\"\")\n",
    "# See inheritance\n",
    "from enum import IntEnum\n",
    "print(\"Is `IntEnum`?\", isinstance(a_mood_obj, IntEnum))\n",
    "print(\"\")\n",
    "# \n",
    "from cltk.morphology.morphosyntax import MorphosyntacticFeature\n",
    "print(\"`Mood` inherits from `MorphosyntacticFeature`?\", isinstance(a_mood_obj, MorphosyntacticFeature))"
   ]
  },
  {
   "cell_type": "code",
   "execution_count": 21,
   "metadata": {},
   "outputs": [
    {
     "name": "stdout",
     "output_type": "stream",
     "text": [
      "`MorphosyntacticFeature` accessors: ['as_integer_ratio', 'bit_length', 'conjugate', 'denominator', 'from_bytes', 'imag', 'name', 'numerator', 'real', 'to_bytes', 'value']\n",
      "\n",
      "MorphosyntacticFeature.name: indicative\n",
      "MorphosyntacticFeature.value: 5\n"
     ]
    }
   ],
   "source": [
    "# You can manipulate this object as any IntEnum plus a few extras\n",
    "\n",
    "print(\"`MorphosyntacticFeature` accessors:\", [x for x in dir(a_mood_obj) if not x.startswith(\"__\")])\n",
    "print(\"\")\n",
    "print(\"MorphosyntacticFeature.name:\", a_mood_obj.name)  # type: str\n",
    "# A stable int value is available, too, associated with this name\n",
    "print(\"MorphosyntacticFeature.value:\", a_mood_obj.value)  # type: int"
   ]
  },
  {
   "cell_type": "markdown",
   "metadata": {},
   "source": [
    "Users can create their own `MorphosyntacticFeature` and `MorphosyntacticFeatureBundle`:"
   ]
  },
  {
   "cell_type": "code",
   "execution_count": 22,
   "metadata": {},
   "outputs": [
    {
     "name": "stdout",
     "output_type": "stream",
     "text": [
      "{Mood: [subjunctive], Voice: [active], Person: [first], Number: [singular], VerbForm: [finite]}\n"
     ]
    }
   ],
   "source": [
    "from cltk.morphology.morphosyntax import MorphosyntacticFeatureBundle\n",
    "from cltk.morphology.universal_dependencies_features import Mood, Number, Person, VerbForm, Voice\n",
    "\n",
    "latin_word_sim = \"sim\"\n",
    "\n",
    "mood = Mood.subjunctive\n",
    "voice = Voice.active\n",
    "person = Person.first\n",
    "number = Number.singular\n",
    "verb_form = VerbForm.finite\n",
    "\n",
    "latin_word_sim_bundle = MorphosyntacticFeatureBundle(mood, voice, person, number, verb_form)\n",
    "print(latin_word_sim_bundle)"
   ]
  },
  {
   "cell_type": "markdown",
   "metadata": {},
   "source": [
    "Finally, we may even construct a `Word` with this information:"
   ]
  },
  {
   "cell_type": "code",
   "execution_count": 31,
   "metadata": {},
   "outputs": [
    {
     "name": "stdout",
     "output_type": "stream",
     "text": [
      "Word(index_char_start=None, index_char_stop=None, index_token=None, index_sentence=None, string='sim', pos=None, lemma=None, stem=None, scansion=None, xpos=None, upos=None, dependency_relation=None, governor=None, features={Mood: [subjunctive], Voice: [active], Person: [first], Number: [singular], VerbForm: [finite]}, category=None, embedding=None, stop=None, named_entity=None, syllables=None, phonetic_transcription=None)\n"
     ]
    }
   ],
   "source": [
    "from cltk.core.data_types import Word\n",
    "\n",
    "print(Word(string=\"sim\", features=latin_word_sim_bundle))"
   ]
  },
  {
   "cell_type": "code",
   "execution_count": 33,
   "metadata": {},
   "outputs": [],
   "source": [
    "# For more on this or any other CLTK class, use `help()`\n",
    "# help(a_mood_obj)\n",
    "# help(MorphosyntacticFeatureBundle)"
   ]
  },
  {
   "cell_type": "code",
   "execution_count": 24,
   "metadata": {},
   "outputs": [
    {
     "name": "stdout",
     "output_type": "stream",
     "text": [
      "`Word.upos`: VERB\n",
      "`Word.xpos`: L3|modA|tem1|gen9\n"
     ]
    }
   ],
   "source": [
    "# Note: Extra morphological info may be written in `str` type\n",
    "# to to the values at `.upos` and `.xpos` for languages using\n",
    "# Stanza project\n",
    "\n",
    "# Note: The particular annoations at these are often inconsistent across\n",
    "# languages or even treebanks within a single language; hence the benefit\n",
    "# of the CLTK's modeling at `.pos`.\n",
    "print(\"`Word.upos`:\", a_word_concurrunt.upos)\n",
    "print(\"`Word.xpos`:\", a_word_concurrunt.xpos)"
   ]
  },
  {
   "cell_type": "markdown",
   "metadata": {},
   "source": [
    "# Modeling syntax with `Form` and `DependencyTree`\n",
    "\n",
    "TODO"
   ]
  },
  {
   "cell_type": "code",
   "execution_count": 34,
   "metadata": {},
   "outputs": [],
   "source": [
    "from cltk.dependency.tree import DependencyTree"
   ]
  },
  {
   "cell_type": "code",
   "execution_count": 39,
   "metadata": {},
   "outputs": [
    {
     "name": "stdout",
     "output_type": "stream",
     "text": [
      "Ibi egressi Troiani , ut quibus ab immenso prope errore nihil praeter arma et naues superesset , cum praedam ex agris agerent , Latinus rex Aboriginesque qui tum ea tenebant loca ad arcendam vim advenarum armati ex urbe atque agris concurrunt .\n"
     ]
    }
   ],
   "source": [
    "# Let's look at this sentence again\n",
    "print(cltk_doc.sentences_strings[26])  # text form of `sentence_26`"
   ]
  },
  {
   "cell_type": "code",
   "execution_count": 45,
   "metadata": {},
   "outputs": [
    {
     "name": "stdout",
     "output_type": "stream",
     "text": [
      "The autoreload extension is already loaded. To reload it, use:\n",
      "  %reload_ext autoreload\n"
     ]
    }
   ],
   "source": [
    "%load_ext autoreload\n",
    "%autoreload 2"
   ]
  },
  {
   "cell_type": "code",
   "execution_count": 46,
   "metadata": {},
   "outputs": [],
   "source": [
    "a_tree = DependencyTree.to_tree(sentence_26)"
   ]
  },
  {
   "cell_type": "code",
   "execution_count": 48,
   "metadata": {},
   "outputs": [
    {
     "name": "stdout",
     "output_type": "stream",
     "text": [
      "[advmod(egressi_1, Ibi_0), punct(superesset_15, ,_3), mark(superesset_15, ut_4), obl(superesset_15, quibus_5), obl(superesset_15, errore_9), obl(superesset_15, arma_12), case(immenso_7, ab_6), obl:arg(superesset_15, immenso_7), case(errore_9, prope_8), obl(superesset_15, quibus_5), obl(superesset_15, errore_9), obl(superesset_15, arma_12), nsubj(superesset_15, nihil_10), case(arma_12, praeter_11), cc(naues_14, et_13), conj(arma_12, naues_14), obl(superesset_15, quibus_5), obl(superesset_15, errore_9), obl(superesset_15, arma_12), punct(agerent_21, ,_16), punct(agerent_21, ,_22), mark(agerent_21, cum_17), obj(agerent_21, praedam_18), case(agris_20, ex_19), obl(agerent_21, agris_20), punct(agerent_21, ,_16), punct(agerent_21, ,_22), advcl(superesset_15, agerent_21), acl:relcl(Troiani_2, superesset_15), nsubj:pass(egressi_1, Troiani_2), amod(rex_24, Latinus_23), nsubj(tenebant_29, qui_26), advmod:emph(tenebant_29, tum_27), obj(tenebant_29, ea_28), obj(tenebant_29, loca_30), obj(tenebant_29, ea_28), obj(tenebant_29, loca_30), mark(arcendam_32, ad_31), nmod(vim_33, advenarum_34), advcl(concurrunt_40, armati_35), case(urbe_37, ex_36), cc(agris_39, atque_38), conj(urbe_37, agris_39), obl(concurrunt_40, urbe_37), acl:relcl(vim_33, concurrunt_40), nsubj:pass(arcendam_32, vim_33), advcl(tenebant_29, arcendam_32), acl:relcl(Aboriginesque_25, tenebant_29), orphan(rex_24, Aboriginesque_25), conj(egressi_1, rex_24), punct(egressi_1, ._41), root(None, egressi_1)]\n"
     ]
    }
   ],
   "source": [
    "print(a_tree.get_dependencies())"
   ]
  },
  {
   "cell_type": "code",
   "execution_count": 50,
   "metadata": {},
   "outputs": [
    {
     "name": "stdout",
     "output_type": "stream",
     "text": [
      "root | egressi_1\n",
      "    └─ advmod | Ibi_0\n",
      "    └─ nsubj:pass | Troiani_2\n",
      "        └─ acl:relcl | superesset_15\n",
      "            └─ punct | ,_3\n",
      "            └─ mark | ut_4\n",
      "            └─ obl | quibus_5\n",
      "            └─ obl:arg | immenso_7\n",
      "                └─ case | ab_6\n",
      "            └─ obl | errore_9\n",
      "                └─ case | prope_8\n",
      "            └─ nsubj | nihil_10\n",
      "            └─ obl | arma_12\n",
      "                └─ case | praeter_11\n",
      "                └─ conj | naues_14\n",
      "                    └─ cc | et_13\n",
      "            └─ advcl | agerent_21\n",
      "                └─ punct | ,_16\n",
      "                └─ mark | cum_17\n",
      "                └─ obj | praedam_18\n",
      "                └─ obl | agris_20\n",
      "                    └─ case | ex_19\n",
      "                └─ punct | ,_22\n",
      "    └─ conj | rex_24\n",
      "        └─ amod | Latinus_23\n",
      "        └─ orphan | Aboriginesque_25\n",
      "            └─ acl:relcl | tenebant_29\n",
      "                └─ nsubj | qui_26\n",
      "                └─ advmod:emph | tum_27\n",
      "                └─ obj | ea_28\n",
      "                └─ obj | loca_30\n",
      "                └─ advcl | arcendam_32\n",
      "                    └─ mark | ad_31\n",
      "                    └─ nsubj:pass | vim_33\n",
      "                        └─ nmod | advenarum_34\n",
      "                        └─ acl:relcl | concurrunt_40\n",
      "                            └─ advcl | armati_35\n",
      "                            └─ obl | urbe_37\n",
      "                                └─ case | ex_36\n",
      "                                └─ conj | agris_39\n",
      "                                    └─ cc | atque_38\n",
      "    └─ punct | ._41\n"
     ]
    }
   ],
   "source": [
    "a_tree.print_tree()"
   ]
  },
  {
   "cell_type": "code",
   "execution_count": null,
   "metadata": {},
   "outputs": [],
   "source": []
  },
  {
   "cell_type": "markdown",
   "metadata": {},
   "source": [
    "# Feature extraction\n",
    "\n",
    "The following give some examples of helpers which assist in preparing `Doc` information for machine learning.\n",
    "\n",
    "TODO"
   ]
  },
  {
   "cell_type": "code",
   "execution_count": 51,
   "metadata": {},
   "outputs": [],
   "source": [
    "from cltk.utils.feature_extraction import cltk_doc_to_features_table"
   ]
  },
  {
   "cell_type": "code",
   "execution_count": 52,
   "metadata": {},
   "outputs": [],
   "source": [
    "feature_names, list_of_list_features = cltk_doc_to_features_table(cltk_doc=cltk_doc)"
   ]
  },
  {
   "cell_type": "code",
   "execution_count": 54,
   "metadata": {},
   "outputs": [
    {
     "name": "stdout",
     "output_type": "stream",
     "text": [
      "['string', 'lemma', 'embedding', 'is_stop', 'lemma', 'pos', 'case', 'gender', 'animacy', 'number', 'definiteness', 'degree', 'strength', 'verbform', 'tense', 'mood', 'aspect', 'voice', 'person', 'polarity', 'politeness', 'clusivity', 'evidentiality', 'strength', 'governing_word', 'case', 'gender', 'animacy', 'number', 'definiteness', 'degree', 'strength', 'verbform', 'tense', 'mood', 'aspect', 'voice', 'person', 'polarity', 'politeness', 'clusivity', 'evidentiality', 'strength', 'governing_relationship']\n"
     ]
    }
   ],
   "source": [
    "print(feature_names)"
   ]
  },
  {
   "cell_type": "code",
   "execution_count": 60,
   "metadata": {},
   "outputs": [
    {
     "name": "stdout",
     "output_type": "stream",
     "text": [
      "len() of feature instances (one for each token): 11735\n",
      "\n",
      "Example of one instance row: ['annum', 'annus', array([ 0.17616  , -0.13633  , -0.090246 , -0.0033078, -0.10723  ,\n",
      "       -0.46832  ,  0.048903 , -0.38701  ,  0.055101 ,  0.40824  ,\n",
      "       -0.31564  ,  0.40112  , -0.28038  ,  0.11526  ,  0.24486  ,\n",
      "        0.021453 ,  0.22076  ,  0.27146  ,  0.19096  , -0.1995   ,\n",
      "       -0.1798   , -0.015442 ,  0.44574  , -0.23831  , -0.094208 ,\n",
      "        0.039914 , -0.37496  ,  0.029465 ,  0.20246  , -0.038341 ,\n",
      "       -0.23648  , -0.33928  ,  0.41969  ,  0.058407 ,  0.1202   ,\n",
      "        0.31858  ,  0.24648  , -0.51506  , -0.16672  , -0.095096 ,\n",
      "        0.23202  ,  0.55107  ,  0.195    , -0.044926 ,  0.030759 ,\n",
      "        0.24807  , -0.081363 , -0.03986  , -0.28034  , -0.27438  ,\n",
      "       -0.23777  , -0.0058744, -0.3847   , -0.099186 , -0.098886 ,\n",
      "       -0.3086   ,  0.13187  ,  0.45063  , -0.084955 , -0.020178 ,\n",
      "       -0.041306 , -0.028307 , -0.62158  ,  0.027616 ,  0.30818  ,\n",
      "       -0.44131  , -0.25724  ,  0.022891 ,  0.2309   , -0.24465  ,\n",
      "        0.52846  , -0.12414  ,  0.286    ,  0.049008 , -0.61708  ,\n",
      "        0.4554   , -0.3689   ,  0.27796  ,  0.11102  , -0.35096  ,\n",
      "        0.013019 , -0.22717  , -0.077386 , -0.23462  , -0.5388   ,\n",
      "       -0.2897   , -0.10456  , -0.18455  , -0.050037 ,  0.41405  ,\n",
      "       -0.18896  , -0.57681  ,  0.41939  , -0.23534  , -0.014884 ,\n",
      "        0.11485  , -0.24994  , -0.11049  ,  0.18035  ,  0.52321  ,\n",
      "        0.02641  , -0.19746  ,  0.047524 ,  0.40436  ,  0.20545  ,\n",
      "        0.16211  , -0.16796  ,  0.24392  ,  0.05958  , -0.47267  ,\n",
      "       -0.41568  , -0.10128  , -0.27352  ,  0.20112  , -0.26244  ,\n",
      "        0.029041 , -0.01056  ,  0.39447  , -0.1622   ,  0.38615  ,\n",
      "        0.28349  , -0.14634  , -0.077776 ,  0.10807  , -0.35384  ,\n",
      "        0.29834  , -0.15996  , -0.004149 ,  0.13173  ,  0.15049  ,\n",
      "       -0.058044 ,  0.098782 ,  0.037752 , -0.1408   ,  0.3897   ,\n",
      "       -0.18012  ,  0.17232  , -0.7488   ,  0.93876  , -0.42038  ,\n",
      "       -0.36973  ,  0.064377 , -0.050011 , -0.11189  ,  0.29355  ,\n",
      "        0.24273  ,  0.2269   , -0.60011  , -0.050891 , -0.16681  ,\n",
      "        0.42939  , -0.035686 ,  0.15885  ,  0.34761  , -0.28819  ,\n",
      "        0.56442  ,  0.04101  , -0.16028  ,  0.63067  ,  0.58737  ,\n",
      "        0.22011  ,  0.018118 , -0.0082898, -0.10075  ,  0.030673 ,\n",
      "        0.15702  ,  0.35806  , -0.09791  , -0.25041  ,  0.294    ,\n",
      "        0.015629 ,  0.21869  , -0.049274 ,  0.60724  , -0.10666  ,\n",
      "       -0.074924 ,  0.21633  , -0.12842  ,  0.12065  ,  0.19953  ,\n",
      "       -0.023433 , -0.18784  ,  0.064836 ,  0.30728  ,  0.072947 ,\n",
      "       -0.29742  , -0.05038  ,  0.086455 , -0.22777  ,  0.49493  ,\n",
      "       -0.077704 , -0.13367  ,  0.1321   , -0.31906  , -0.28814  ,\n",
      "        0.036271 , -0.22391  , -0.53752  , -0.04234  ,  0.18951  ,\n",
      "        0.34924  , -0.066902 , -0.022042 , -0.010272 , -0.14884  ,\n",
      "        0.046031 , -0.10021  ,  0.37999  , -0.17035  ,  0.019392 ,\n",
      "       -0.01509  ,  0.30135  ,  0.2186   ,  0.21776  , -0.093746 ,\n",
      "       -0.006651 , -0.11318  , -0.11723  ,  0.035922 , -0.00282  ,\n",
      "        0.39702  , -0.075327 , -0.10331  , -0.20593  ,  0.27685  ,\n",
      "        0.3458   ,  0.39841  , -0.080984 , -0.18734  ,  0.18552  ,\n",
      "       -0.052567 , -0.25423  ,  0.054176 , -0.291    , -0.59877  ,\n",
      "        0.4179   ,  0.24039  ,  0.34701  , -0.67698  , -0.23407  ,\n",
      "       -0.78629  ,  0.06169  , -0.20479  , -0.31287  , -0.040278 ,\n",
      "        0.033514 ,  0.3043   , -0.052416 ,  0.36632  , -0.0034227,\n",
      "        0.30492  , -0.23236  ,  0.010129 , -0.54646  , -0.26649  ,\n",
      "       -0.1986   , -0.1143   ,  0.10682  , -0.0091337,  0.16885  ,\n",
      "       -0.076536 ,  0.35335  , -0.57037  ,  0.21058  ,  0.16118  ,\n",
      "        0.2512   ,  0.17828  , -0.33591  ,  0.13397  ,  0.35648  ,\n",
      "        0.25709  ,  0.10201  , -0.20464  ,  0.25602  ,  0.24096  ,\n",
      "        0.072944 ,  0.5876   , -0.12374  , -0.063079 , -0.36243  ,\n",
      "       -0.078966 ,  0.10473  , -0.047259 , -0.34621  ,  0.059434 ,\n",
      "       -0.19583  ,  0.17208  ,  0.11613  ,  0.090962 ,  0.037129 ,\n",
      "       -0.3308   ,  0.2885   ,  0.32315  ,  0.36151  ,  0.027162 ,\n",
      "       -0.21573  , -0.22909  ,  0.073446 , -0.11176  , -0.21541  ],\n",
      "      dtype=float32), False, False, 'noun', 'accusative', 'masculine', None, 'singular', None, 'positive', None, None, None, None, None, None, None, None, None, None, None, None, 'verb', None, None, None, 'singular', None, None, None, 'finite', 'present', 'subjunctive', None, 'passive', 'third', None, None, None, None, None, 'obj']\n"
     ]
    }
   ],
   "source": [
    "print(\"len() of feature instances (one for each token):\", len(list_of_list_features))\n",
    "print(\"\")\n",
    "print(\"Example of one instance row:\", list_of_list_features[108])"
   ]
  },
  {
   "cell_type": "code",
   "execution_count": 67,
   "metadata": {},
   "outputs": [
    {
     "name": "stdout",
     "output_type": "stream",
     "text": [
      "[('string', 'annum'),\n",
      " ('lemma', 'annus'),\n",
      " ('embedding',\n",
      "  array([ 0.17616  , -0.13633  , -0.090246 , -0.0033078, -0.10723  ,\n",
      "       -0.46832  ,  0.048903 , -0.38701  ,  0.055101 ,  0.40824  ,\n",
      "       -0.31564  ,  0.40112  , -0.28038  ,  0.11526  ,  0.24486  ,\n",
      "        0.021453 ,  0.22076  ,  0.27146  ,  0.19096  , -0.1995   ,\n",
      "       -0.1798   , -0.015442 ,  0.44574  , -0.23831  , -0.094208 ,\n",
      "        0.039914 , -0.37496  ,  0.029465 ,  0.20246  , -0.038341 ,\n",
      "       -0.23648  , -0.33928  ,  0.41969  ,  0.058407 ,  0.1202   ,\n",
      "        0.31858  ,  0.24648  , -0.51506  , -0.16672  , -0.095096 ,\n",
      "        0.23202  ,  0.55107  ,  0.195    , -0.044926 ,  0.030759 ,\n",
      "        0.24807  , -0.081363 , -0.03986  , -0.28034  , -0.27438  ,\n",
      "       -0.23777  , -0.0058744, -0.3847   , -0.099186 , -0.098886 ,\n",
      "       -0.3086   ,  0.13187  ,  0.45063  , -0.084955 , -0.020178 ,\n",
      "       -0.041306 , -0.028307 , -0.62158  ,  0.027616 ,  0.30818  ,\n",
      "       -0.44131  , -0.25724  ,  0.022891 ,  0.2309   , -0.24465  ,\n",
      "        0.52846  , -0.12414  ,  0.286    ,  0.049008 , -0.61708  ,\n",
      "        0.4554   , -0.3689   ,  0.27796  ,  0.11102  , -0.35096  ,\n",
      "        0.013019 , -0.22717  , -0.077386 , -0.23462  , -0.5388   ,\n",
      "       -0.2897   , -0.10456  , -0.18455  , -0.050037 ,  0.41405  ,\n",
      "       -0.18896  , -0.57681  ,  0.41939  , -0.23534  , -0.014884 ,\n",
      "        0.11485  , -0.24994  , -0.11049  ,  0.18035  ,  0.52321  ,\n",
      "        0.02641  , -0.19746  ,  0.047524 ,  0.40436  ,  0.20545  ,\n",
      "        0.16211  , -0.16796  ,  0.24392  ,  0.05958  , -0.47267  ,\n",
      "       -0.41568  , -0.10128  , -0.27352  ,  0.20112  , -0.26244  ,\n",
      "        0.029041 , -0.01056  ,  0.39447  , -0.1622   ,  0.38615  ,\n",
      "        0.28349  , -0.14634  , -0.077776 ,  0.10807  , -0.35384  ,\n",
      "        0.29834  , -0.15996  , -0.004149 ,  0.13173  ,  0.15049  ,\n",
      "       -0.058044 ,  0.098782 ,  0.037752 , -0.1408   ,  0.3897   ,\n",
      "       -0.18012  ,  0.17232  , -0.7488   ,  0.93876  , -0.42038  ,\n",
      "       -0.36973  ,  0.064377 , -0.050011 , -0.11189  ,  0.29355  ,\n",
      "        0.24273  ,  0.2269   , -0.60011  , -0.050891 , -0.16681  ,\n",
      "        0.42939  , -0.035686 ,  0.15885  ,  0.34761  , -0.28819  ,\n",
      "        0.56442  ,  0.04101  , -0.16028  ,  0.63067  ,  0.58737  ,\n",
      "        0.22011  ,  0.018118 , -0.0082898, -0.10075  ,  0.030673 ,\n",
      "        0.15702  ,  0.35806  , -0.09791  , -0.25041  ,  0.294    ,\n",
      "        0.015629 ,  0.21869  , -0.049274 ,  0.60724  , -0.10666  ,\n",
      "       -0.074924 ,  0.21633  , -0.12842  ,  0.12065  ,  0.19953  ,\n",
      "       -0.023433 , -0.18784  ,  0.064836 ,  0.30728  ,  0.072947 ,\n",
      "       -0.29742  , -0.05038  ,  0.086455 , -0.22777  ,  0.49493  ,\n",
      "       -0.077704 , -0.13367  ,  0.1321   , -0.31906  , -0.28814  ,\n",
      "        0.036271 , -0.22391  , -0.53752  , -0.04234  ,  0.18951  ,\n",
      "        0.34924  , -0.066902 , -0.022042 , -0.010272 , -0.14884  ,\n",
      "        0.046031 , -0.10021  ,  0.37999  , -0.17035  ,  0.019392 ,\n",
      "       -0.01509  ,  0.30135  ,  0.2186   ,  0.21776  , -0.093746 ,\n",
      "       -0.006651 , -0.11318  , -0.11723  ,  0.035922 , -0.00282  ,\n",
      "        0.39702  , -0.075327 , -0.10331  , -0.20593  ,  0.27685  ,\n",
      "        0.3458   ,  0.39841  , -0.080984 , -0.18734  ,  0.18552  ,\n",
      "       -0.052567 , -0.25423  ,  0.054176 , -0.291    , -0.59877  ,\n",
      "        0.4179   ,  0.24039  ,  0.34701  , -0.67698  , -0.23407  ,\n",
      "       -0.78629  ,  0.06169  , -0.20479  , -0.31287  , -0.040278 ,\n",
      "        0.033514 ,  0.3043   , -0.052416 ,  0.36632  , -0.0034227,\n",
      "        0.30492  , -0.23236  ,  0.010129 , -0.54646  , -0.26649  ,\n",
      "       -0.1986   , -0.1143   ,  0.10682  , -0.0091337,  0.16885  ,\n",
      "       -0.076536 ,  0.35335  , -0.57037  ,  0.21058  ,  0.16118  ,\n",
      "        0.2512   ,  0.17828  , -0.33591  ,  0.13397  ,  0.35648  ,\n",
      "        0.25709  ,  0.10201  , -0.20464  ,  0.25602  ,  0.24096  ,\n",
      "        0.072944 ,  0.5876   , -0.12374  , -0.063079 , -0.36243  ,\n",
      "       -0.078966 ,  0.10473  , -0.047259 , -0.34621  ,  0.059434 ,\n",
      "       -0.19583  ,  0.17208  ,  0.11613  ,  0.090962 ,  0.037129 ,\n",
      "       -0.3308   ,  0.2885   ,  0.32315  ,  0.36151  ,  0.027162 ,\n",
      "       -0.21573  , -0.22909  ,  0.073446 , -0.11176  , -0.21541  ],\n",
      "      dtype=float32)),\n",
      " ('is_stop', False),\n",
      " ('lemma', False),\n",
      " ('pos', 'noun'),\n",
      " ('case', 'accusative'),\n",
      " ('gender', 'masculine'),\n",
      " ('animacy', None),\n",
      " ('number', 'singular'),\n",
      " ('definiteness', None),\n",
      " ('degree', 'positive'),\n",
      " ('strength', None),\n",
      " ('verbform', None),\n",
      " ('tense', None),\n",
      " ('mood', None),\n",
      " ('aspect', None),\n",
      " ('voice', None),\n",
      " ('person', None),\n",
      " ('polarity', None),\n",
      " ('politeness', None),\n",
      " ('clusivity', None),\n",
      " ('evidentiality', None),\n",
      " ('strength', None),\n",
      " ('governing_word', 'verb'),\n",
      " ('case', None),\n",
      " ('gender', None),\n",
      " ('animacy', None),\n",
      " ('number', 'singular'),\n",
      " ('definiteness', None),\n",
      " ('degree', None),\n",
      " ('strength', None),\n",
      " ('verbform', 'finite'),\n",
      " ('tense', 'present'),\n",
      " ('mood', 'subjunctive'),\n",
      " ('aspect', None),\n",
      " ('voice', 'passive'),\n",
      " ('person', 'third'),\n",
      " ('polarity', None),\n",
      " ('politeness', None),\n",
      " ('clusivity', None),\n",
      " ('evidentiality', None),\n",
      " ('strength', None),\n",
      " ('governing_relationship', 'obj')]\n"
     ]
    }
   ],
   "source": [
    "# Putting these together for easier reading\n",
    "from pprint import pprint\n",
    "\n",
    "pprint(list(zip(feature_names, list_of_list_features[108])))"
   ]
  },
  {
   "cell_type": "markdown",
   "metadata": {},
   "source": [
    "## Extras"
   ]
  },
  {
   "cell_type": "code",
   "execution_count": 25,
   "metadata": {},
   "outputs": [
    {
     "name": "stdout",
     "output_type": "stream",
     "text": [
      "LatinPipeline(description='Pipeline for the Latin language', processes=[<class 'cltk.dependency.processes.LatinStanzaProcess'>, <class 'cltk.embeddings.processes.LatinEmbeddingsProcess'>, <class 'cltk.stops.processes.StopsProcess'>, <class 'cltk.ner.processes.LatinNERProcess'>], language=Language(name='Latin', glottolog_id='lati1261', latitude=41.9026, longitude=12.4502, dates=[], family_id='indo1319', parent_id='impe1234', level='language', iso_639_3_code='lat', type='a'))\n"
     ]
    }
   ],
   "source": [
    "# View default processes\n",
    "print(cltk_nlp.pipeline)"
   ]
  },
  {
   "cell_type": "code",
   "execution_count": 26,
   "metadata": {},
   "outputs": [],
   "source": [
    "#[(i, s) for i, s in enumerate(cltk_doc.sentences_strings[:100])]"
   ]
  }
 ],
 "metadata": {
  "kernelspec": {
   "display_name": "Python 3",
   "language": "python",
   "name": "python3"
  },
  "language_info": {
   "codemirror_mode": {
    "name": "ipython",
    "version": 3
   },
   "file_extension": ".py",
   "mimetype": "text/x-python",
   "name": "python",
   "nbconvert_exporter": "python",
   "pygments_lexer": "ipython3",
   "version": "3.8.3"
  }
 },
 "nbformat": 4,
 "nbformat_minor": 4
}

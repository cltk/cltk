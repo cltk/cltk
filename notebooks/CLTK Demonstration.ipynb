{
 "cells": [
  {
   "cell_type": "markdown",
   "metadata": {},
   "source": [
    "# Table of contents\n",
    "1. [Introduction](#introduction)\n",
    "1. [Install pre-release of CLTK](#install)\n",
    "1. [Get data](#get-data)\n",
    "1. [Run NLP pipeline with `NLP()`](#run-nlp)\n",
    "1. [Inspect CLTK `Doc`](#inspect-doc)\n",
    "1. [Inspect CLTK `Word`](#inspect-word)\n",
    "1. [Modeling morphology with `MorphosyntacticFeature` and `MorphosyntacticFeatureBundle`](#morph)\n",
    "1. [Modeling syntax with `Form` and `DependencyTree`](#syntax)\n",
    "1. [Feature extraction](#features)\n",
    "1. [Brief demonstration of `NLP()` for Ancient Greek](#greek-nlp)"
   ]
  },
  {
   "cell_type": "markdown",
   "metadata": {},
   "source": [
    "# Introduction <a name=\"introduction\"></a>\n",
    "\n",
    "This notebook demonstrates how to use `NLP()`, the CLTK's primary interface, in Latin and Ancient Greek. Pipelines are available for 17 languages (see [Languages](https://docs.cltk.org/en/latest/languages.html) in the docs).\n",
    "\n",
    "Full documentation available at <https://docs.cltk.org/en/latest/cltk.html#cltk.nlp.NLP>.\n",
    "\n",
    "Note that there is a large amoung of code from this project's first six years (v. `0.1`), not all of which has been or will be moved over to this v. `1.0`. Docs for `0.1` still available at [https://docs.cltk.org](https://docs.cltk.org/en/latest/) and tutorial notebooks at [https://github.com/cltk/tutorials](https://github.com/cltk/tutorials)."
   ]
  },
  {
   "cell_type": "markdown",
   "metadata": {},
   "source": [
    "# Install pre-release of CLTK <a name=\"install\"></a>\n",
    "\n",
    "This notebook comes from <https://github.com/cltk/cltk/tree/dev/notebooks>. For full instructions on installing the CLTK are available at <https://docs.cltk.org/en/latest/installation.html>."
   ]
  },
  {
   "cell_type": "code",
   "execution_count": 1,
   "metadata": {},
   "outputs": [],
   "source": [
    "## Requires Python 3.7, 3.8, 3.9 on a POSIX-compliant OS\n",
    "\n",
    "## The latest published beta:\n",
    "# !pip install --pre cltk"
   ]
  },
  {
   "cell_type": "code",
   "execution_count": 2,
   "metadata": {},
   "outputs": [],
   "source": [
    "## Or directly from this repo:\n",
    "# cd .. && make install\n",
    "\n",
    "# %load_ext autoreload\n",
    "# %autoreload 2"
   ]
  },
  {
   "cell_type": "markdown",
   "metadata": {},
   "source": [
    "# Get data <a name=\"get-data\"></a>\n",
    "\n",
    "The following obtain two plaintext documents of two Classical authors. A subset of each will be used to demonstrate the CLTK."
   ]
  },
  {
   "cell_type": "code",
   "execution_count": 3,
   "metadata": {
    "scrolled": true
   },
   "outputs": [
    {
     "name": "stdout",
     "output_type": "stream",
     "text": [
      "  % Total    % Received % Xferd  Average Speed   Time    Time     Time  Current\n",
      "                                 Dload  Upload   Total   Spent    Left  Speed\n",
      "  0     0    0     0    0     0      0      0 --:--:--  0:00:01 --:--:--     0\n",
      "100  899k  100  899k    0     0   370k      0  0:00:02  0:00:02 --:--:-- 5469k\n"
     ]
    }
   ],
   "source": [
    "# Get Latin text\n",
    "# https://gist.github.com/kylepjohnson/2f9376fcf15699c250a0d09b37683370\n",
    "# now at `notebooks/lat-livy.txt`\n",
    "!curl -O -L https://gist.github.com/kylepjohnson/2f9376fcf15699c250a0d09b37683370/raw/05b7a17af4b216a4986d897c57a9987e836cc91a/lat-livy.txt"
   ]
  },
  {
   "cell_type": "code",
   "execution_count": 4,
   "metadata": {},
   "outputs": [
    {
     "name": "stdout",
     "output_type": "stream",
     "text": [
      "  % Total    % Received % Xferd  Average Speed   Time    Time     Time  Current\n",
      "                                 Dload  Upload   Total   Spent    Left  Speed\n",
      "  0     0    0     0    0     0      0      0 --:--:-- --:--:-- --:--:--     0\n",
      "100  899k  100  899k    0     0   692k      0  0:00:01  0:00:01 --:--:-- 1660k\n"
     ]
    }
   ],
   "source": [
    "# Get Ancient Greek text\n",
    "# https://gist.github.com/kylepjohnson/9835c36fb06ca30ebf29b7f2c7bd29e0\n",
    "# now at `notebooks/grc-thucydides.txt`\n",
    "!curl -O -L https://gist.github.com/kylepjohnson/9835c36fb06ca30ebf29b7f2c7bd29e0/raw/e08e47849f64484b0950b14563bb5a9fd1e1ef1c/grc-thucydides.txt"
   ]
  },
  {
   "cell_type": "code",
   "execution_count": 5,
   "metadata": {},
   "outputs": [],
   "source": [
    "# read the Latin file\n",
    "# We'll run the full demonstration in the Latin language first\n",
    "with open(\"lat-livy.txt\") as fo:\n",
    "    livy_full = fo.read()"
   ]
  },
  {
   "cell_type": "code",
   "execution_count": 6,
   "metadata": {},
   "outputs": [
    {
     "name": "stdout",
     "output_type": "stream",
     "text": [
      "Text snippet: Iam primum omnium satis constat Troia capta in ceteros saevitum esse Troianos, duobus, Aeneae Antenorique, et vetusti iure hospitii et quia pacis reddendaeque Helenae semper auctores fuerant, omne ius\n",
      "Character count: 920884\n",
      "Approximate token count: 129799\n"
     ]
    }
   ],
   "source": [
    "print(\"Text snippet:\", livy_full[:200])\n",
    "print(\"Character count:\", len(livy_full))\n",
    "print(\"Approximate token count:\", len(livy_full.split()))"
   ]
  },
  {
   "cell_type": "code",
   "execution_count": 7,
   "metadata": {},
   "outputs": [
    {
     "data": {
      "text/plain": [
       "76740"
      ]
     },
     "execution_count": 7,
     "metadata": {},
     "output_type": "execute_result"
    }
   ],
   "source": [
    "len(livy_full) // 12"
   ]
  },
  {
   "cell_type": "code",
   "execution_count": 8,
   "metadata": {},
   "outputs": [
    {
     "name": "stdout",
     "output_type": "stream",
     "text": [
      "Approximate token count: 10911\n"
     ]
    }
   ],
   "source": [
    "# Now let's cut this down to roughly 10k tokens for this demonstration's purposes\n",
    "livy = livy_full[:len(livy_full) // 12]\n",
    "print(\"Approximate token count:\", len(livy.split()))"
   ]
  },
  {
   "cell_type": "markdown",
   "metadata": {},
   "source": [
    "# Run NLP pipeline with `NLP()` <a name=\"run-nlp\"></a>"
   ]
  },
  {
   "cell_type": "code",
   "execution_count": 9,
   "metadata": {},
   "outputs": [],
   "source": [
    "# For most users, this is the only import required\n",
    "from cltk import NLP"
   ]
  },
  {
   "cell_type": "code",
   "execution_count": 10,
   "metadata": {},
   "outputs": [
    {
     "name": "stdout",
     "output_type": "stream",
     "text": [
      "‎𐤀 CLTK version 'cltk 1.0.0b10'.\n",
      "Pipeline for language 'Latin' (ISO: 'lat'): `LatinNormalizeProcess`, `LatinStanzaProcess`, `LatinEmbeddingsProcess`, `StopsProcess`, `LatinNERProcess`, `LatinLexiconProcess`.\n"
     ]
    }
   ],
   "source": [
    "# Load the default Pipeline for Latin\n",
    "cltk_nlp = NLP(language=\"lat\")"
   ]
  },
  {
   "cell_type": "code",
   "execution_count": 11,
   "metadata": {},
   "outputs": [
    {
     "name": "stdout",
     "output_type": "stream",
     "text": [
      "[<class 'cltk.alphabet.processes.LatinNormalizeProcess'>, <class 'cltk.dependency.processes.LatinStanzaProcess'>, <class 'cltk.embeddings.processes.LatinEmbeddingsProcess'>, <class 'cltk.stops.processes.StopsProcess'>, <class 'cltk.ner.processes.LatinNERProcess'>]\n"
     ]
    }
   ],
   "source": [
    "# Removing ``LatinLexiconProcess`` for this demo b/c it is slow (adds ~9 mins total)\n",
    "cltk_nlp.pipeline.processes.pop(-1)\n",
    "print(cltk_nlp.pipeline.processes)"
   ]
  },
  {
   "cell_type": "code",
   "execution_count": 12,
   "metadata": {},
   "outputs": [
    {
     "name": "stdout",
     "output_type": "stream",
     "text": [
      "CPU times: user 1min 21s, sys: 10 s, total: 1min 31s\n",
      "Wall time: 1min 24s\n"
     ]
    }
   ],
   "source": [
    "# Now execute NLP algorithms upon input text\n",
    "# Aside from download, execution time is ~50 sec on a 2015 Macbook Pro\n",
    "%time cltk_doc = cltk_nlp.analyze(text=livy)\n",
    "\n",
    "# You will be asked to download some models (from CLTK, fastText, and Stanza)"
   ]
  },
  {
   "cell_type": "markdown",
   "metadata": {},
   "source": [
    "# Inspect CLTK `Doc` <a name=\"inspect-doc\"></a>"
   ]
  },
  {
   "cell_type": "code",
   "execution_count": 13,
   "metadata": {},
   "outputs": [
    {
     "name": "stdout",
     "output_type": "stream",
     "text": [
      "<class 'cltk.core.data_types.Doc'>\n"
     ]
    }
   ],
   "source": [
    "# We can now inspect the result\n",
    "print(type(cltk_doc))"
   ]
  },
  {
   "cell_type": "code",
   "execution_count": 14,
   "metadata": {},
   "outputs": [
    {
     "name": "stdout",
     "output_type": "stream",
     "text": [
      "['_get_words_attribute', 'embeddings', 'embeddings_model', 'language', 'lemmata', 'morphosyntactic_features', 'normalized_text', 'pipeline', 'pos', 'raw', 'sentences', 'sentences_strings', 'sentences_tokens', 'stanza_doc', 'stems', 'tokens', 'tokens_stops_filtered', 'words']\n"
     ]
    }
   ],
   "source": [
    "# All accessors\n",
    "print([x for x in dir(cltk_doc) if not x.startswith(\"__\")])"
   ]
  },
  {
   "cell_type": "code",
   "execution_count": 15,
   "metadata": {},
   "outputs": [
    {
     "name": "stdout",
     "output_type": "stream",
     "text": [
      "['Iam', 'primum', 'omnium', 'satis', 'constat', 'Troia', 'capta', 'in', 'ceteros', 'saevitum', 'esse', 'Troianos', ',', 'duobus', ',', 'Aeneae', 'Antenorique', ',', 'et', 'vetusti']\n"
     ]
    }
   ],
   "source": [
    "# Several of the more useful\n",
    "\n",
    "# List of tokens\n",
    "print(cltk_doc.tokens[:20])"
   ]
  },
  {
   "cell_type": "code",
   "execution_count": 16,
   "metadata": {},
   "outputs": [
    {
     "name": "stdout",
     "output_type": "stream",
     "text": [
      "['Iam', 'primus', 'omnis', 'satis', 'consto', 'mroia', 'capio', 'in', 'ceterus', 'saevio', 'sum', 'mroianus', ',', 'duo', ',', 'menea', 'mntenorique', ',', 'et', 'vetus']\n"
     ]
    }
   ],
   "source": [
    "# List of lemmas\n",
    "print(cltk_doc.lemmata[:20])"
   ]
  },
  {
   "cell_type": "code",
   "execution_count": 17,
   "metadata": {},
   "outputs": [
    {
     "name": "stdout",
     "output_type": "stream",
     "text": [
      "['ADV', 'ADJ', 'PRON', 'ADV', 'VERB', 'NOUN', 'VERB', 'ADP', 'PRON', 'VERB', 'AUX', 'NOUN', 'PUNCT', 'NUM', 'PUNCT', 'NOUN', 'ADV', 'PUNCT', 'CCONJ', 'ADJ']\n"
     ]
    }
   ],
   "source": [
    "# Basic part-of-speech info\n",
    "print(cltk_doc.pos[:20])"
   ]
  },
  {
   "cell_type": "code",
   "execution_count": 18,
   "metadata": {},
   "outputs": [
    {
     "name": "stdout",
     "output_type": "stream",
     "text": [
      "[['Iam', 'primum', 'omnium', 'satis', 'constat', 'Troia', 'capta', 'in', 'ceteros', 'saevitum', 'esse', 'Troianos', ',', 'duobus', ',', 'Aeneae', 'Antenorique', ',', 'et', 'vetusti', 'iure', 'hospitii', 'et', 'quia', 'pacis', 'reddendaeque', 'Helenae', 'semper', 'auctores', 'fuerant', ',', 'omne', 'ius', 'belli', 'Achiuos', 'abstinuisse', ';'], ['casibus', 'deinde', 'variis', 'Antenorem', 'cum', 'multitudine', 'Enetum', ',', 'qui', 'seditione', 'ex', 'Paphlagonia', 'pulsi', 'et', 'sedes', 'et', 'ducem', 'rege', 'Pylaemene', 'ad', 'Troiam', 'amisso', 'quaerebant', ',', 'venisse', 'in', 'intimum', 'maris', 'Hadriatici', 'sinum', ',', 'Euganeisque', 'qui', 'inter', 'mare', 'Alpesque', 'incolebant', 'pulsis', 'Enetos', 'Troianosque', 'eas', 'tenuisse', 'terras', '.']]\n"
     ]
    }
   ],
   "source": [
    "# A list of list of tokens\n",
    "print(cltk_doc.sentences_tokens[:2])"
   ]
  },
  {
   "cell_type": "markdown",
   "metadata": {},
   "source": [
    "# Inspect CLTK `Word` <a name=\"inspect-word\"></a>"
   ]
  },
  {
   "cell_type": "markdown",
   "metadata": {},
   "source": [
    "Most powerful, though, is the ``Doc.words`` accessor, which is a list of ``Word`` objects. These ``Word`` objects contain all information that was generated during the NLP pipeline"
   ]
  },
  {
   "cell_type": "code",
   "execution_count": 19,
   "metadata": {},
   "outputs": [
    {
     "name": "stdout",
     "output_type": "stream",
     "text": [
      "12556\n"
     ]
    }
   ],
   "source": [
    "# One ``Word`` object for each token\n",
    "print(len(cltk_doc.words))"
   ]
  },
  {
   "cell_type": "markdown",
   "metadata": {},
   "source": [
    "Users can go token-by-token via ``Doc.words`` or via the intermediary step of looping through sentences."
   ]
  },
  {
   "cell_type": "code",
   "execution_count": 20,
   "metadata": {},
   "outputs": [
    {
     "name": "stdout",
     "output_type": "stream",
     "text": [
      "Original: Ibi egressi Troiani , ut quibus ab immenso prope errore nihil praeter arma et naues superesset , cum praedam ex agris agerent , Latinus rex Aboriginesque qui tum ea tenebant loca ad arcendam vim advenarum armati ex urbe atque agris concurrunt .\n",
      "\n",
      "Translation: Landing there, the Trojans, as men who, after their all but immeasurable wanderings, had nothing left but their swords and ships, were driving booty from the fields, when King Latinus and the Aborigines, who then occupied that country, rushed down from their city and their fields to repel with arms the violence of the invaders.\n"
     ]
    }
   ],
   "source": [
    "# Let's look at a non-trivial sentence from Book 1\n",
    "print(\"Original:\", cltk_doc.sentences_strings[6])\n",
    "print(\"\")\n",
    "print(\"Translation:\", \"Landing there, the Trojans, as men who, after their all but immeasurable wanderings, had nothing left but their swords and ships, were driving booty from the fields, when King Latinus and the Aborigines, who then occupied that country, rushed down from their city and their fields to repel with arms the violence of the invaders.\")\n",
    "# source: http://www.perseus.tufts.edu/hopper/text?doc=Liv.+1+1+5&fromdoc=Perseus%3Atext%3A1999.02.0151\n",
    "sentence_6 = cltk_doc.sentences[6]  # type: List[Word]"
   ]
  },
  {
   "cell_type": "code",
   "execution_count": 21,
   "metadata": {},
   "outputs": [
    {
     "name": "stdout",
     "output_type": "stream",
     "text": [
      "Word(index_char_start=None, index_char_stop=None, index_token=40, index_sentence=6, string='concurrunt', pos=verb, lemma='concurro', stem=None, scansion=None, xpos='L3|modA|tem1|gen9', upos='VERB', dependency_relation='acl:relcl', governor=33, features={Mood: [indicative], Number: [plural], Person: [third], Tense: [present], VerbForm: [finite], Voice: [active]}, category={F: [neg], N: [neg], V: [pos]}, embedding=array([-0.16746  , -0.18548  ,  0.30632  , -0.29627  , -0.27262  ,\n",
      "       -0.0767   ,  0.19405  ,  0.12386  , -0.0076342,  0.13037  ,\n",
      "        0.17128  ,  0.1189   , -0.22169  , -0.57089  ,  0.28066  ,\n",
      "       -0.14514  , -0.041256 , -0.021754 ,  0.02212  , -0.25983  ,\n",
      "        0.53374  , -0.042267 ,  0.27314  ,  0.083616 ,  0.30746  ,\n",
      "        0.087764 , -0.10098  ,  0.22689  , -0.17577  , -0.35894  ,\n",
      "       -0.39609  ,  0.43406  ,  0.21306  ,  0.26909  ,  0.099561 ,\n",
      "        0.26916  , -0.46547  ,  0.1416   , -0.21319  , -0.15126  ,\n",
      "        0.36604  , -0.020737 ,  0.42397  ,  0.014221 ,  0.14055  ,\n",
      "        0.21519  ,  0.11099  ,  0.03183  , -0.26811  ,  0.2691   ,\n",
      "       -0.059489 , -0.32648  , -0.47286  , -0.054011 ,  0.64627  ,\n",
      "        0.40984  , -0.26108  , -0.006157 ,  0.016047 , -0.36     ,\n",
      "       -0.0059306,  0.036475 , -0.26611  ,  0.22437  , -0.030462 ,\n",
      "        0.27057  , -0.43477  ,  0.39011  ,  0.11665  , -0.17181  ,\n",
      "        0.1938   ,  0.30478  ,  0.15594  , -0.24797  , -0.28985  ,\n",
      "       -0.50473  ,  0.12834  ,  0.13296  ,  0.20974  ,  0.18452  ,\n",
      "       -0.049739 ,  0.30645  , -0.1036   , -0.0051733, -0.37052  ,\n",
      "        0.05242  ,  0.47427  ,  0.11924  ,  0.17432  ,  0.0051695,\n",
      "       -0.19177  ,  0.30655  ,  0.15158  ,  0.44306  ,  0.0094918,\n",
      "        0.066288 ,  0.43126  ,  0.14704  , -0.21296  ,  0.065158 ,\n",
      "       -0.051074 , -0.071807 , -0.30076  ,  0.094454 , -0.01951  ,\n",
      "       -0.30378  ,  0.071281 ,  0.097893 ,  0.1682   ,  0.14394  ,\n",
      "        0.16555  ,  0.18857  , -0.21343  , -0.39882  , -0.0056818,\n",
      "        0.13572  ,  0.4581   ,  0.26051  ,  0.091876 ,  0.15996  ,\n",
      "       -0.15423  , -0.032577 ,  0.3355   ,  0.053628 ,  0.16543  ,\n",
      "        0.12325  ,  0.62661  ,  0.019613 ,  0.25669  , -0.40527  ,\n",
      "        0.17728  ,  0.21147  , -0.15291  , -0.044267 , -0.18761  ,\n",
      "       -0.22989  , -0.15356  , -0.12118  ,  0.4221   ,  0.14455  ,\n",
      "       -0.098447 , -0.0689   ,  0.286    ,  0.057885 , -0.41445  ,\n",
      "        0.2779   , -0.016358 , -0.62472  , -0.14563  ,  0.019347 ,\n",
      "        0.2676   , -0.40895  ,  0.046428 , -0.024668 , -0.07123  ,\n",
      "        0.29799  ,  0.0441   , -0.020152 ,  0.7785   ,  0.066722 ,\n",
      "        0.40216  , -0.065465 ,  0.29178  , -0.045332 , -0.28099  ,\n",
      "        0.12069  ,  0.092256 , -0.28262  ,  0.16332  , -0.11963  ,\n",
      "        0.23084  ,  0.095945 ,  0.26448  , -0.070788 , -0.090602 ,\n",
      "        0.21045  ,  0.10711  ,  0.072995 ,  0.36067  , -0.66715  ,\n",
      "       -0.092171 , -0.17343  , -0.086316 ,  0.064014 , -0.037073 ,\n",
      "        0.19314  , -0.24475  ,  0.36475  ,  0.44256  ,  0.34814  ,\n",
      "       -0.23052  , -0.33464  , -0.25515  , -0.0062384,  0.16953  ,\n",
      "       -0.21684  , -0.50552  , -0.26195  ,  0.18859  , -0.024014 ,\n",
      "        0.16651  ,  0.19608  , -0.014255 ,  0.022351 , -0.15028  ,\n",
      "       -0.27432  , -0.090952 , -0.0053178, -0.17972  , -0.17313  ,\n",
      "       -0.022731 , -0.047864 ,  0.13094  ,  0.48215  ,  0.27521  ,\n",
      "        0.23869  , -0.18862  , -0.33807  , -0.09874  ,  0.18834  ,\n",
      "       -0.15856  , -0.19709  ,  0.091342 ,  0.18845  ,  0.24375  ,\n",
      "       -0.071029 ,  0.25485  , -0.20413  , -0.12763  ,  0.034578 ,\n",
      "       -0.098762 ,  0.29447  , -0.2311   , -0.26438  ,  0.53568  ,\n",
      "       -0.024871 , -0.081562 , -0.20891  , -0.31516  , -0.041829 ,\n",
      "        0.22537  ,  0.17958  ,  0.21367  ,  0.020792 , -0.17514  ,\n",
      "        0.12402  ,  0.17977  ,  0.093449 ,  0.21696  ,  0.027229 ,\n",
      "        0.065418 , -0.15782  , -0.2414   ,  0.18637  , -0.12432  ,\n",
      "        0.10779  ,  0.13641  ,  0.025108 ,  0.19791  ,  0.0093455,\n",
      "        0.36186  ,  0.25091  ,  0.13112  ,  0.18152  ,  0.021867 ,\n",
      "        0.11931  , -0.4036   , -0.27416  , -0.38616  , -0.28777  ,\n",
      "       -0.086809 , -0.43366  , -0.091819 ,  0.21763  , -0.13074  ,\n",
      "        0.20796  ,  0.31517  , -0.020933 ,  0.058451 , -0.33536  ,\n",
      "        0.59479  , -0.10157  , -0.17879  , -0.28129  ,  0.14399  ,\n",
      "        0.45861  , -0.030208 , -0.2507   , -0.27942  ,  0.26798  ,\n",
      "       -0.49253  , -0.18972  , -0.044783 ,  0.2852   , -0.046358 ,\n",
      "        0.33655  ,  0.012819 , -0.059189 , -0.1022   , -0.16723  ],\n",
      "      dtype=float32), stop=False, named_entity=False, syllables=None, phonetic_transcription=None, definition=None)\n"
     ]
    }
   ],
   "source": [
    "# Looking at one Word, 'concurrunt' ('they run together')\n",
    "a_word_concurrunt = sentence_6[40]\n",
    "print(a_word_concurrunt)"
   ]
  },
  {
   "cell_type": "markdown",
   "metadata": {},
   "source": [
    "In this word, you can see information for lexicography (`.lemmata`), semantics (`.embedding`), morphology (`.pos`, `.features`), syntax (`.governor`, `.dependency_relation`), plus other information most users would find helpful (`.stop`, `.named_entity`)."
   ]
  },
  {
   "cell_type": "markdown",
   "metadata": {},
   "source": [
    "# Modeling morphology with `MorphosyntacticFeature` and `MorphosyntacticFeatureBundle` <a name=\"morph\"></a>\n",
    "\n",
    "When a language's `Pipeline` builds each `Word` object, morphological information is stored at several accessors. Those of interest to most users are `.pos` and `.features`."
   ]
  },
  {
   "cell_type": "code",
   "execution_count": 22,
   "metadata": {},
   "outputs": [
    {
     "name": "stdout",
     "output_type": "stream",
     "text": [
      "`Word.string`: concurrunt\n",
      "\n",
      "`Word.pos`: verb\n"
     ]
    }
   ],
   "source": [
    "print(\"`Word.string`:\", a_word_concurrunt.string)\n",
    "print(\"\")\n",
    "# Part-of-speech is always be available at `.pos`.\n",
    "print(\"`Word.pos`:\", a_word_concurrunt.pos)"
   ]
  },
  {
   "cell_type": "markdown",
   "metadata": {},
   "source": [
    "The CLTK contains classes a specific class for [the annotation types defined by v2 of the Universal Dependencies project](https://universaldependencies.org/u/feat/all.html). In the CLTK's codebase, these are located at [cltk/morphology/universal_dependencies_features.py](https://github.com/cltk/cltk/blob/dev/src/cltk/morphology/universal_dependencies_features.py).\n",
    "\n",
    "For instance, a Latin verb requires a label for its [https://universaldependencies.org/u/feat/all.html#al-u-feat/Mood](mood) (e.g., indicative), which the UD project defines as \"a feature that expresses modality and subclassifies finite verb forms\".\n",
    "\n",
    "Though morphological taggers may annnotate a verb's mood variously (\"ind.\", \"indicative\", \"Indic\", etc.), the CLTK maps the term into the following, standardized `Mood`.\n",
    "\n",
    "``` python\n",
    "class Mood(MorphosyntacticFeature):\n",
    "    \"\"\"The mood of a verb.\n",
    "    see https://universaldependencies.org/u/feat/Mood.html\n",
    "    \"\"\"\n",
    "\n",
    "    admirative = auto()\n",
    "    conditional = auto()\n",
    "    desiderative = auto()\n",
    "    imperative = auto()\n",
    "    indicative = auto()\n",
    "    jussive = auto()\n",
    "    necessitative = auto()\n",
    "    optative = auto()\n",
    "    potential = auto()\n",
    "    purposive = auto()\n",
    "    quotative = auto()\n",
    "    subjunctive = auto()\n",
    "```\n",
    "\n",
    "Turning back to the the above example word, we can see such features at `.features`."
   ]
  },
  {
   "cell_type": "code",
   "execution_count": 23,
   "metadata": {
    "scrolled": true
   },
   "outputs": [
    {
     "name": "stdout",
     "output_type": "stream",
     "text": [
      "type(`Word.features`): <class 'cltk.morphology.morphosyntax.MorphosyntacticFeatureBundle'>\n",
      "\n",
      "`Word.features`: {Mood: [indicative], Number: [plural], Person: [third], Tense: [present], VerbForm: [finite], Voice: [active]}\n"
     ]
    }
   ],
   "source": [
    "# type\n",
    "print(\"type(`Word.features`):\", type(a_word_concurrunt.features))\n",
    "print(\"\")\n",
    "# str repr of `MorphosyntacticFeatureBundle`\n",
    "print(\"`Word.features`:\", a_word_concurrunt.features)"
   ]
  },
  {
   "cell_type": "markdown",
   "metadata": {},
   "source": [
    "A user may inspect a `MorphosyntacticFeatureBundle` in a manner similar to a `dict`"
   ]
  },
  {
   "cell_type": "code",
   "execution_count": 24,
   "metadata": {},
   "outputs": [
    {
     "name": "stdout",
     "output_type": "stream",
     "text": [
      "Mood: [indicative]\n",
      "Number: [plural]\n",
      "Person: [third]\n",
      "Tense: [present]\n",
      "VerbForm: [finite]\n",
      "Voice: [active]\n"
     ]
    }
   ],
   "source": [
    "print(\"Mood:\", a_word_concurrunt.features[\"Mood\"])  # type: List[Mood]\n",
    "print(\"Number:\", a_word_concurrunt.features[\"Number\"])  # type: List[Number]\n",
    "print(\"Person:\", a_word_concurrunt.features[\"Person\"])  # type: List[Person]\n",
    "print(\"Tense:\", a_word_concurrunt.features[\"Tense\"])  # type: List[Tense]\n",
    "print(\"VerbForm:\", a_word_concurrunt.features[\"VerbForm\"])  # type: List[VerbForm]\n",
    "print(\"Voice:\", a_word_concurrunt.features[\"Voice\"])  # type: List[Voice]\n",
    "\n",
    "# Note: The values returned here are a list, though under normally only one \n",
    "# morphological form will be available"
   ]
  },
  {
   "cell_type": "markdown",
   "metadata": {},
   "source": [
    "Looking a bit closer at `MorphosyntacticFeature`, we can see how its data type inherits from the Python builtin [IntEnu](https://docs.python.org/3/library/enum.html#enum.IntEnum)."
   ]
  },
  {
   "cell_type": "code",
   "execution_count": 25,
   "metadata": {},
   "outputs": [
    {
     "name": "stdout",
     "output_type": "stream",
     "text": [
      "type(a_mood_obj): Mood\n",
      "\n",
      "Is `IntEnum`? True\n",
      "\n",
      "`Mood` inherits from `MorphosyntacticFeature`? True\n"
     ]
    }
   ],
   "source": [
    "a_mood_obj = a_word_concurrunt.features[\"Mood\"][0]\n",
    "# see type\n",
    "print(\"type(a_mood_obj):\", type(a_mood_obj))\n",
    "print(\"\")\n",
    "# See inheritance\n",
    "from enum import IntEnum\n",
    "print(\"Is `IntEnum`?\", isinstance(a_mood_obj, IntEnum))\n",
    "print(\"\")\n",
    "# \n",
    "from cltk.morphology.morphosyntax import MorphosyntacticFeature\n",
    "print(\"`Mood` inherits from `MorphosyntacticFeature`?\", isinstance(a_mood_obj, MorphosyntacticFeature))"
   ]
  },
  {
   "cell_type": "code",
   "execution_count": 26,
   "metadata": {},
   "outputs": [
    {
     "name": "stdout",
     "output_type": "stream",
     "text": [
      "`MorphosyntacticFeature` accessors: ['as_integer_ratio', 'bit_length', 'conjugate', 'denominator', 'from_bytes', 'imag', 'name', 'numerator', 'real', 'to_bytes', 'value']\n",
      "\n",
      "MorphosyntacticFeature.name: indicative\n",
      "MorphosyntacticFeature.value: 5\n"
     ]
    }
   ],
   "source": [
    "# You can manipulate this object as any IntEnum plus a few extras\n",
    "\n",
    "print(\"`MorphosyntacticFeature` accessors:\", [x for x in dir(a_mood_obj) if not x.startswith(\"__\")])\n",
    "print(\"\")\n",
    "print(\"MorphosyntacticFeature.name:\", a_mood_obj.name)  # type: str\n",
    "# A stable int value is available, too, associated with this name\n",
    "print(\"MorphosyntacticFeature.value:\", a_mood_obj.value)  # type: int"
   ]
  },
  {
   "cell_type": "markdown",
   "metadata": {},
   "source": [
    "Users can create their own `MorphosyntacticFeature` and `MorphosyntacticFeatureBundle`:"
   ]
  },
  {
   "cell_type": "code",
   "execution_count": 27,
   "metadata": {},
   "outputs": [
    {
     "name": "stdout",
     "output_type": "stream",
     "text": [
      "{Mood: [subjunctive], Voice: [active], Person: [first], Number: [singular], VerbForm: [finite]}\n"
     ]
    }
   ],
   "source": [
    "from cltk.morphology.morphosyntax import MorphosyntacticFeatureBundle\n",
    "from cltk.morphology.universal_dependencies_features import Mood, Number, Person, VerbForm, Voice\n",
    "\n",
    "latin_word_sim = \"sim\"\n",
    "\n",
    "mood = Mood.subjunctive\n",
    "voice = Voice.active\n",
    "person = Person.first\n",
    "number = Number.singular\n",
    "verb_form = VerbForm.finite\n",
    "\n",
    "latin_word_sim_bundle = MorphosyntacticFeatureBundle(mood, voice, person, number, verb_form)\n",
    "print(latin_word_sim_bundle)"
   ]
  },
  {
   "cell_type": "markdown",
   "metadata": {},
   "source": [
    "Finally, we may even construct a `Word` with this information:"
   ]
  },
  {
   "cell_type": "code",
   "execution_count": 28,
   "metadata": {},
   "outputs": [
    {
     "name": "stdout",
     "output_type": "stream",
     "text": [
      "Word(index_char_start=None, index_char_stop=None, index_token=None, index_sentence=None, string='sim', pos=None, lemma=None, stem=None, scansion=None, xpos=None, upos=None, dependency_relation=None, governor=None, features={Mood: [subjunctive], Voice: [active], Person: [first], Number: [singular], VerbForm: [finite]}, category={}, embedding=None, stop=None, named_entity=None, syllables=None, phonetic_transcription=None, definition=None)\n"
     ]
    }
   ],
   "source": [
    "from cltk.core.data_types import Word\n",
    "\n",
    "print(Word(string=\"sim\", features=latin_word_sim_bundle))"
   ]
  },
  {
   "cell_type": "code",
   "execution_count": 29,
   "metadata": {},
   "outputs": [],
   "source": [
    "# For more on this or any other CLTK class, use `help()`\n",
    "# help(a_mood_obj)\n",
    "# help(MorphosyntacticFeatureBundle)"
   ]
  },
  {
   "cell_type": "code",
   "execution_count": 30,
   "metadata": {},
   "outputs": [
    {
     "name": "stdout",
     "output_type": "stream",
     "text": [
      "`Word.upos`: VERB\n",
      "`Word.xpos`: L3|modA|tem1|gen9\n"
     ]
    }
   ],
   "source": [
    "# Note: Extra morphological info may be written in `str` type\n",
    "# to to the values at `.upos` and `.xpos` for languages using\n",
    "# Stanza project\n",
    "\n",
    "# Note: The particular annoations at these are often inconsistent across\n",
    "# languages or even treebanks within a single language; hence the benefit\n",
    "# of the CLTK's modeling at `.pos`.\n",
    "print(\"`Word.upos`:\", a_word_concurrunt.upos)\n",
    "print(\"`Word.xpos`:\", a_word_concurrunt.xpos)"
   ]
  },
  {
   "cell_type": "markdown",
   "metadata": {},
   "source": [
    "# Modeling syntax with `Form` and `DependencyTree`  <a name=\"syntax\"></a>\n",
    "\n",
    "The CLTK uses the builtin `xml` library to build tree for modeling dependency parses. A `Word` is mapped into a `Form`, then `ElemntTree` is used to organize these `Form`s into a `DependencyTree`. With a tree, certain measurements are more efficient (counting depth, breadth, edge types)."
   ]
  },
  {
   "cell_type": "code",
   "execution_count": 31,
   "metadata": {},
   "outputs": [],
   "source": [
    "from cltk.dependency.tree import DependencyTree"
   ]
  },
  {
   "cell_type": "code",
   "execution_count": 32,
   "metadata": {},
   "outputs": [
    {
     "name": "stdout",
     "output_type": "stream",
     "text": [
      "Ibi egressi Troiani , ut quibus ab immenso prope errore nihil praeter arma et naues superesset , cum praedam ex agris agerent , Latinus rex Aboriginesque qui tum ea tenebant loca ad arcendam vim advenarum armati ex urbe atque agris concurrunt .\n"
     ]
    }
   ],
   "source": [
    "# Let's look at this sentence again\n",
    "print(cltk_doc.sentences_strings[6])  # text form of `sentence_6`"
   ]
  },
  {
   "cell_type": "code",
   "execution_count": 33,
   "metadata": {},
   "outputs": [],
   "source": [
    "a_tree = DependencyTree.to_tree(sentence_6)"
   ]
  },
  {
   "cell_type": "code",
   "execution_count": 34,
   "metadata": {},
   "outputs": [
    {
     "name": "stdout",
     "output_type": "stream",
     "text": [
      "[advmod(egressi_1/verb, Ibi_0/adverb),\n",
      " punct(superesset_15/verb, ,_3/punctuation),\n",
      " mark(superesset_15/verb, ut_4/subordinating_conjunction),\n",
      " obl(superesset_15/verb, quibus_5/pronoun),\n",
      " obl(superesset_15/verb, errore_9/noun),\n",
      " obl(superesset_15/verb, arma_12/noun),\n",
      " case(immenso_7/adjective, ab_6/adposition),\n",
      " obl:arg(superesset_15/verb, immenso_7/adjective),\n",
      " case(errore_9/noun, prope_8/adposition),\n",
      " obl(superesset_15/verb, quibus_5/pronoun),\n",
      " obl(superesset_15/verb, errore_9/noun),\n",
      " obl(superesset_15/verb, arma_12/noun),\n",
      " nsubj(superesset_15/verb, nihil_10/pronoun),\n",
      " case(arma_12/noun, praeter_11/adposition),\n",
      " cc(naues_14/noun, et_13/coordinating_conjunction),\n",
      " conj(arma_12/noun, naues_14/noun),\n",
      " obl(superesset_15/verb, quibus_5/pronoun),\n",
      " obl(superesset_15/verb, errore_9/noun),\n",
      " obl(superesset_15/verb, arma_12/noun),\n",
      " punct(agerent_21/verb, ,_16/punctuation),\n",
      " punct(agerent_21/verb, ,_22/punctuation),\n",
      " mark(agerent_21/verb, cum_17/subordinating_conjunction),\n",
      " obj(agerent_21/verb, praedam_18/noun),\n",
      " case(agris_20/noun, ex_19/adposition),\n",
      " obl(agerent_21/verb, agris_20/noun),\n",
      " punct(agerent_21/verb, ,_16/punctuation),\n",
      " punct(agerent_21/verb, ,_22/punctuation),\n",
      " advcl(superesset_15/verb, agerent_21/verb),\n",
      " acl:relcl(Troiani_2/noun, superesset_15/verb),\n",
      " nsubj:pass(egressi_1/verb, Troiani_2/noun),\n",
      " amod(rex_24/noun, Latinus_23/adjective),\n",
      " nsubj(tenebant_29/verb, qui_26/pronoun),\n",
      " advmod:emph(tenebant_29/verb, tum_27/adverb),\n",
      " obj(tenebant_29/verb, ea_28/pronoun),\n",
      " obj(tenebant_29/verb, loca_30/noun),\n",
      " obj(tenebant_29/verb, ea_28/pronoun),\n",
      " obj(tenebant_29/verb, loca_30/noun),\n",
      " mark(arcendam_32/verb, ad_31/adposition),\n",
      " nmod(vim_33/noun, advenarum_34/noun),\n",
      " advcl(concurrunt_40/verb, armati_35/verb),\n",
      " case(urbe_37/noun, ex_36/adposition),\n",
      " cc(agris_39/noun, atque_38/coordinating_conjunction),\n",
      " conj(urbe_37/noun, agris_39/noun),\n",
      " obl(concurrunt_40/verb, urbe_37/noun),\n",
      " acl:relcl(vim_33/noun, concurrunt_40/verb),\n",
      " nsubj:pass(arcendam_32/verb, vim_33/noun),\n",
      " advcl(tenebant_29/verb, arcendam_32/verb),\n",
      " acl:relcl(Aboriginesque_25/noun, tenebant_29/verb),\n",
      " orphan(rex_24/noun, Aboriginesque_25/noun),\n",
      " conj(egressi_1/verb, rex_24/noun),\n",
      " punct(egressi_1/verb, ._41/punctuation),\n",
      " root(None, egressi_1/verb)]\n"
     ]
    }
   ],
   "source": [
    "from pprint import pprint\n",
    "\n",
    "pprint(a_tree.get_dependencies())"
   ]
  },
  {
   "cell_type": "code",
   "execution_count": 35,
   "metadata": {},
   "outputs": [
    {
     "name": "stdout",
     "output_type": "stream",
     "text": [
      "root | egressi_1/verb\n",
      "    └─ advmod | Ibi_0/adverb\n",
      "    └─ nsubj:pass | Troiani_2/noun\n",
      "        └─ acl:relcl | superesset_15/verb\n",
      "            └─ punct | ,_3/punctuation\n",
      "            └─ mark | ut_4/subordinating_conjunction\n",
      "            └─ obl | quibus_5/pronoun\n",
      "            └─ obl:arg | immenso_7/adjective\n",
      "                └─ case | ab_6/adposition\n",
      "            └─ obl | errore_9/noun\n",
      "                └─ case | prope_8/adposition\n",
      "            └─ nsubj | nihil_10/pronoun\n",
      "            └─ obl | arma_12/noun\n",
      "                └─ case | praeter_11/adposition\n",
      "                └─ conj | naues_14/noun\n",
      "                    └─ cc | et_13/coordinating_conjunction\n",
      "            └─ advcl | agerent_21/verb\n",
      "                └─ punct | ,_16/punctuation\n",
      "                └─ mark | cum_17/subordinating_conjunction\n",
      "                └─ obj | praedam_18/noun\n",
      "                └─ obl | agris_20/noun\n",
      "                    └─ case | ex_19/adposition\n",
      "                └─ punct | ,_22/punctuation\n",
      "    └─ conj | rex_24/noun\n",
      "        └─ amod | Latinus_23/adjective\n",
      "        └─ orphan | Aboriginesque_25/noun\n",
      "            └─ acl:relcl | tenebant_29/verb\n",
      "                └─ nsubj | qui_26/pronoun\n",
      "                └─ advmod:emph | tum_27/adverb\n",
      "                └─ obj | ea_28/pronoun\n",
      "                └─ obj | loca_30/noun\n",
      "                └─ advcl | arcendam_32/verb\n",
      "                    └─ mark | ad_31/adposition\n",
      "                    └─ nsubj:pass | vim_33/noun\n",
      "                        └─ nmod | advenarum_34/noun\n",
      "                        └─ acl:relcl | concurrunt_40/verb\n",
      "                            └─ advcl | armati_35/verb\n",
      "                            └─ obl | urbe_37/noun\n",
      "                                └─ case | ex_36/adposition\n",
      "                                └─ conj | agris_39/noun\n",
      "                                    └─ cc | atque_38/coordinating_conjunction\n",
      "    └─ punct | ._41/punctuation\n"
     ]
    }
   ],
   "source": [
    "a_tree.print_tree()"
   ]
  },
  {
   "cell_type": "markdown",
   "metadata": {},
   "source": [
    "# Feature extraction <a name=\"features\"></a>\n",
    "\n",
    "The CLTK offers the function `cltk_doc_to_features_table()`, which assist users when preparing a `Doc` for training data for machine learning. It converts the list of `Word` objects at `Doc.words` into a tabular list of lists."
   ]
  },
  {
   "cell_type": "code",
   "execution_count": 36,
   "metadata": {},
   "outputs": [],
   "source": [
    "from cltk.utils.feature_extraction import cltk_doc_to_features_table"
   ]
  },
  {
   "cell_type": "code",
   "execution_count": 37,
   "metadata": {},
   "outputs": [],
   "source": [
    "feature_names, list_of_list_features = cltk_doc_to_features_table(cltk_doc=cltk_doc)"
   ]
  },
  {
   "cell_type": "code",
   "execution_count": 38,
   "metadata": {},
   "outputs": [
    {
     "name": "stdout",
     "output_type": "stream",
     "text": [
      "['string', 'lemma', 'embedding', 'is_stop', 'lemma', 'pos', 'case', 'gender', 'animacy', 'number', 'definiteness', 'degree', 'strength', 'verbform', 'tense', 'mood', 'aspect', 'voice', 'person', 'polarity', 'politeness', 'clusivity', 'evidentiality', 'strength', 'governing_word', 'governor_case', 'governor_gender', 'governor_animacy', 'governor_number', 'governor_definiteness', 'governor_degree', 'governor_strength', 'governor_verbform', 'governor_tense', 'governor_mood', 'governor_aspect', 'governor_voice', 'governor_person', 'governor_polarity', 'governor_politeness', 'governor_clusivity', 'governor_evidentiality', 'governor_strength', 'governing_relationship']\n"
     ]
    }
   ],
   "source": [
    "# See here the names of the features extracted\n",
    "print(feature_names)"
   ]
  },
  {
   "cell_type": "code",
   "execution_count": 39,
   "metadata": {},
   "outputs": [
    {
     "name": "stdout",
     "output_type": "stream",
     "text": [
      "Number tokens: 12556\n",
      "len() of feature instances (one for each token): 12556\n"
     ]
    }
   ],
   "source": [
    "# Number of \"inner lists\" matches number of tokens\n",
    "print(\"Number tokens:\", len(cltk_doc.words))\n",
    "print(\"len() of feature instances (one for each token):\", len(list_of_list_features))"
   ]
  },
  {
   "cell_type": "code",
   "execution_count": 40,
   "metadata": {},
   "outputs": [
    {
     "name": "stdout",
     "output_type": "stream",
     "text": [
      "[('string', 'ad'),\n",
      " ('lemma', 'ad'),\n",
      " ('embedding',\n",
      "  array([-0.018321 ,  0.012199 , -0.13971  ,  0.04643  , -0.24308  ,\n",
      "       -0.17181  ,  0.11337  ,  0.050907 ,  0.059226 , -0.10186  ,\n",
      "        0.025673 ,  0.39837  , -0.35537  , -0.12414  , -0.22189  ,\n",
      "        0.19608  , -0.13432  ,  0.17865  , -0.15335  , -0.76687  ,\n",
      "        0.17368  , -0.30593  ,  0.18471  ,  0.021884 ,  0.030866 ,\n",
      "        0.046143 ,  0.55945  ,  0.034793 , -0.20696  , -0.038531 ,\n",
      "       -0.06099  , -0.45349  ,  0.054395 ,  0.044977 , -0.21321  ,\n",
      "        0.0084667, -0.14771  , -0.10546  , -0.17701  ,  0.090003 ,\n",
      "        0.096426 ,  0.060619 , -0.20689  ,  0.022415 , -0.046664 ,\n",
      "       -0.088348 , -0.093567 ,  0.21098  , -0.15069  , -0.11391  ,\n",
      "        0.094938 ,  0.07905  , -0.15513  ,  0.041997 , -0.043762 ,\n",
      "        0.19156  ,  0.019991 ,  0.05901  , -0.23694  ,  0.17699  ,\n",
      "       -0.020411 , -0.12895  , -0.31144  ,  0.056038 ,  0.34857  ,\n",
      "       -0.20495  , -0.25597  ,  0.31019  ,  0.020982 ,  0.029523 ,\n",
      "        0.22643  , -0.016975 ,  0.2036   ,  0.26034  , -0.38392  ,\n",
      "        0.15609  ,  0.084232 ,  0.48187  ,  0.19461  , -0.0877   ,\n",
      "        0.031648 , -0.13084  ,  0.028819 , -0.21196  ,  0.11488  ,\n",
      "       -0.11262  ,  0.14895  ,  0.039765 ,  0.10632  ,  0.0063167,\n",
      "       -0.16338  , -0.064845 ,  0.16613  ,  0.22976  , -0.10599  ,\n",
      "        0.13369  , -0.17961  ,  0.19628  , -0.02476  ,  0.090144 ,\n",
      "        0.23695  , -0.021379 , -0.12276  ,  0.25958  ,  0.0069393,\n",
      "       -0.038013 , -0.10401  , -0.29908  ,  0.32516  , -0.37391  ,\n",
      "       -0.011711 , -0.11254  ,  0.052222 ,  0.26882  , -0.20729  ,\n",
      "        0.10341  ,  0.56759  ,  0.48979  , -0.13242  ,  0.46515  ,\n",
      "       -0.27784  ,  0.24937  ,  0.21862  ,  0.42521  ,  0.035613 ,\n",
      "        0.12207  ,  0.041291 , -0.056311 ,  0.11884  , -0.24119  ,\n",
      "       -0.02779  , -0.13849  , -0.16657  , -0.34286  , -0.029435 ,\n",
      "        0.048291 ,  0.43842  ,  0.090457 ,  0.50096  ,  0.0027784,\n",
      "       -0.26488  ,  0.15566  ,  0.17407  ,  0.062344 , -0.14916  ,\n",
      "        0.1949   ,  0.058164 , -0.23251  , -0.18996  , -0.026931 ,\n",
      "        0.22434  , -0.27552  ,  0.29375  ,  0.045355 , -0.37617  ,\n",
      "        0.42296  ,  0.20642  ,  0.31684  ,  0.32613  ,  0.20353  ,\n",
      "        0.28662  , -0.0018286,  0.073018 ,  0.13459  , -0.19316  ,\n",
      "       -0.26577  , -0.074799 ,  0.11006  ,  0.12703  ,  0.03877  ,\n",
      "       -0.1128   ,  0.21443  ,  0.15607  ,  0.33722  ,  0.090917 ,\n",
      "        0.18049  ,  0.18045  , -0.065388 , -0.12712  , -0.44256  ,\n",
      "        0.056637 , -0.21743  ,  0.19336  , -0.015242 ,  0.301    ,\n",
      "        0.069672 ,  0.17906  , -0.04049  ,  0.0547   ,  0.11476  ,\n",
      "       -0.26107  , -0.1209   , -0.30377  , -0.274    ,  0.25831  ,\n",
      "       -0.43471  , -0.044879 , -0.38173  , -0.0090362,  0.14055  ,\n",
      "       -0.14911  ,  0.047166 ,  0.30877  ,  0.030974 , -0.27694  ,\n",
      "       -0.10403  , -0.02349  ,  0.23896  ,  0.043841 ,  0.11913  ,\n",
      "       -0.19949  , -0.098361 ,  0.15167  ,  0.12312  ,  0.058164 ,\n",
      "        0.37326  ,  0.083736 , -0.4108   ,  0.087055 , -0.094934 ,\n",
      "        0.46023  , -0.060058 , -0.077913 , -0.23832  ,  0.054321 ,\n",
      "        0.081211 ,  0.015112 , -0.31391  ,  0.031033 ,  0.10853  ,\n",
      "       -0.044856 ,  0.20497  ,  0.090399 , -0.040578 ,  0.12515  ,\n",
      "       -0.0022518,  0.25484  ,  0.23089  , -0.16996  , -0.30823  ,\n",
      "       -0.18998  ,  0.29455  ,  0.049326 , -0.12882  , -0.2161   ,\n",
      "       -0.28296  ,  0.025996 , -0.085976 ,  0.053442 ,  0.16556  ,\n",
      "       -0.11981  , -0.16349  , -0.13239  , -0.14235  , -0.25915  ,\n",
      "        0.20515  , -0.034633 , -0.092114 ,  0.30416  ,  0.22681  ,\n",
      "       -0.13107  ,  0.065341 ,  0.056383 , -0.21133  ,  0.18329  ,\n",
      "       -0.12323  , -0.014897 , -0.39152  , -0.04108  ,  0.21156  ,\n",
      "        0.13106  , -0.33298  , -0.10664  ,  0.24897  ,  0.14742  ,\n",
      "        0.099861 ,  0.36371  , -0.28822  , -0.022529 , -0.20006  ,\n",
      "        0.036648 ,  0.078031 , -0.19091  , -0.28237  , -0.082978 ,\n",
      "       -0.040732 ,  0.075492 , -0.11356  , -0.16741  ,  0.18528  ,\n",
      "       -0.2549   ,  0.28352  ,  0.022433 ,  0.0082626,  0.13318  ,\n",
      "       -0.39781  ,  0.17961  ,  0.25986  , -0.15833  , -0.33736  ],\n",
      "      dtype=float32)),\n",
      " ('is_stop', True),\n",
      " ('lemma', False),\n",
      " ('pos', 'adposition'),\n",
      " ('case', None),\n",
      " ('gender', None),\n",
      " ('animacy', None),\n",
      " ('number', None),\n",
      " ('definiteness', None),\n",
      " ('degree', None),\n",
      " ('strength', None),\n",
      " ('verbform', None),\n",
      " ('tense', None),\n",
      " ('mood', None),\n",
      " ('aspect', None),\n",
      " ('voice', None),\n",
      " ('person', None),\n",
      " ('polarity', None),\n",
      " ('politeness', None),\n",
      " ('clusivity', None),\n",
      " ('evidentiality', None),\n",
      " ('strength', None),\n",
      " ('governing_word', 'noun'),\n",
      " ('governor_case', 'accusative'),\n",
      " ('governor_gender', 'neuter'),\n",
      " ('governor_animacy', None),\n",
      " ('governor_number', 'plural'),\n",
      " ('governor_definiteness', None),\n",
      " ('governor_degree', 'positive'),\n",
      " ('governor_strength', None),\n",
      " ('governor_verbform', None),\n",
      " ('governor_tense', None),\n",
      " ('governor_mood', None),\n",
      " ('governor_aspect', None),\n",
      " ('governor_voice', None),\n",
      " ('governor_person', None),\n",
      " ('governor_polarity', None),\n",
      " ('governor_politeness', None),\n",
      " ('governor_clusivity', None),\n",
      " ('governor_evidentiality', None),\n",
      " ('governor_strength', None),\n",
      " ('governing_relationship', 'case')]\n"
     ]
    }
   ],
   "source": [
    "# Look at one row of data `(variable name, variable value)`\n",
    "pprint(list(zip(feature_names, list_of_list_features[108])))"
   ]
  },
  {
   "cell_type": "markdown",
   "metadata": {},
   "source": [
    "# Brief demonstration of `NLP()` for Ancient Greek <a name=\"greek-nlp\"></a>\n",
    "\n",
    "The API for Greek is the same as Latin."
   ]
  },
  {
   "cell_type": "code",
   "execution_count": 41,
   "metadata": {},
   "outputs": [],
   "source": [
    "# read the Ancient Greek file\n",
    "with open(\"grc-thucydides.txt\") as fo:\n",
    "    thucydides_full = fo.read()"
   ]
  },
  {
   "cell_type": "code",
   "execution_count": 42,
   "metadata": {},
   "outputs": [
    {
     "name": "stdout",
     "output_type": "stream",
     "text": [
      "Text snippet: Θουκυδίδης Ἀθηναῖος ξυνέγραψε τὸν πόλεμον τῶν Πελοποννησίων καὶ Ἀθηναίων, ὡς ἐπολέμησαν πρὸς ἀλλήλους, ἀρξάμενος εὐθὺς καθισταμένου καὶ ἐλπίσας μέγαν τε ἔσεσθαι καὶ ἀξιολογώτατον τῶν προγεγενημένων, τ\n",
      "Character count: 470056\n",
      "Approximate token count: 72619\n"
     ]
    }
   ],
   "source": [
    "print(\"Text snippet:\", thucydides_full[0:200])\n",
    "print(\"Character count:\", len(thucydides_full))\n",
    "print(\"Approximate token count:\", len(thucydides_full.split()))"
   ]
  },
  {
   "cell_type": "code",
   "execution_count": 43,
   "metadata": {},
   "outputs": [
    {
     "data": {
      "text/plain": [
       "67150"
      ]
     },
     "execution_count": 43,
     "metadata": {},
     "output_type": "execute_result"
    }
   ],
   "source": [
    "len(thucydides_full) // 7"
   ]
  },
  {
   "cell_type": "code",
   "execution_count": 44,
   "metadata": {},
   "outputs": [
    {
     "name": "stdout",
     "output_type": "stream",
     "text": [
      "Approximate token count: 10309\n"
     ]
    }
   ],
   "source": [
    "# Cut this down to roughly 10k tokens for this demonstration's purposes\n",
    "thucydides = thucydides_full[:len(thucydides_full) // 7]\n",
    "print(\"Approximate token count:\", len(thucydides.split()))"
   ]
  },
  {
   "cell_type": "code",
   "execution_count": 45,
   "metadata": {},
   "outputs": [
    {
     "data": {
      "text/plain": [
       "'Θουκυδίδης Ἀθηναῖος ξυνέγραψε τὸν πόλεμον τῶν Πελοποννησίων καὶ Ἀθηναίων, ὡς ἐπολέμησαν πρὸς ἀλλήλους, ἀρξάμενος εὐθὺς καθισταμένου καὶ ἐλπίσας μέγαν τε ἔσεσθαι καὶ ἀξιολογώτατον τῶν προγεγενημένων, τ'"
      ]
     },
     "execution_count": 45,
     "metadata": {},
     "output_type": "execute_result"
    }
   ],
   "source": [
    "thucydides[:200]"
   ]
  },
  {
   "cell_type": "code",
   "execution_count": 46,
   "metadata": {},
   "outputs": [
    {
     "name": "stdout",
     "output_type": "stream",
     "text": [
      "‎𐤀 CLTK version 'cltk 1.0.0b10'.\n",
      "Pipeline for language 'Ancient Greek' (ISO: 'grc'): `GreekNormalizeProcess`, `GreekStanzaProcess`, `GreekEmbeddingsProcess`, `StopsProcess`, `GreekNERProcess`.\n"
     ]
    }
   ],
   "source": [
    "cltk_nlp_grc = NLP(language=\"grc\")"
   ]
  },
  {
   "cell_type": "code",
   "execution_count": 47,
   "metadata": {},
   "outputs": [
    {
     "name": "stdout",
     "output_type": "stream",
     "text": [
      "CPU times: user 41.5 s, sys: 8.31 s, total: 49.9 s\n",
      "Wall time: 43.3 s\n"
     ]
    }
   ],
   "source": [
    "# Execution time is 50 sec on a 2015 Macbook Pro\n",
    "%time cltk_doc_grc = cltk_nlp_grc.analyze(text=thucydides)\n",
    "\n",
    "# You will be asked to download some models (from CLTK, fastText, and Stanza)"
   ]
  },
  {
   "cell_type": "code",
   "execution_count": 48,
   "metadata": {},
   "outputs": [
    {
     "name": "stdout",
     "output_type": "stream",
     "text": [
      "`Doc.tokens`: ['Θουκυδίδης', 'Ἀθηναῖος', 'ξυνέγραψε', 'τὸν', 'πόλεμον', 'τῶν', 'Πελοποννησίων', 'καὶ', 'Ἀθηναίων,', 'ὡς', 'ἐπολέμησαν', 'πρὸς', 'ἀλλήλους,', 'ἀρξάμενος', 'εὐθὺς', 'καθισταμένου', 'καὶ', 'ἐλπίσας', 'μέγαν', 'τε']\n"
     ]
    }
   ],
   "source": [
    "print(\"`Doc.tokens`:\", cltk_doc_grc.tokens[:20])"
   ]
  },
  {
   "cell_type": "code",
   "execution_count": 49,
   "metadata": {},
   "outputs": [
    {
     "name": "stdout",
     "output_type": "stream",
     "text": [
      "Word(index_char_start=None, index_char_stop=None, index_token=4, index_sentence=0, string='πόλεμον', pos=noun, lemma='πόλεμος', stem=None, scansion=None, xpos='Nb', upos='NOUN', dependency_relation='obj', governor=2, features={Case: [accusative], Gender: [masculine], Number: [singular]}, category={F: [neg], N: [pos], V: [neg]}, embedding=array([0., 0., 0., 0., 0., 0., 0., 0., 0., 0., 0., 0., 0., 0., 0., 0., 0.,\n",
      "       0., 0., 0., 0., 0., 0., 0., 0., 0., 0., 0., 0., 0., 0., 0., 0., 0.,\n",
      "       0., 0., 0., 0., 0., 0., 0., 0., 0., 0., 0., 0., 0., 0., 0., 0., 0.,\n",
      "       0., 0., 0., 0., 0., 0., 0., 0., 0., 0., 0., 0., 0., 0., 0., 0., 0.,\n",
      "       0., 0., 0., 0., 0., 0., 0., 0., 0., 0., 0., 0., 0., 0., 0., 0., 0.,\n",
      "       0., 0., 0., 0., 0., 0., 0., 0., 0., 0., 0., 0., 0., 0., 0.]), stop=False, named_entity=False, syllables=None, phonetic_transcription=None, definition=None)\n"
     ]
    }
   ],
   "source": [
    "print(cltk_doc_grc.words[4])  # πόλεμον ('war')"
   ]
  },
  {
   "cell_type": "code",
   "execution_count": 50,
   "metadata": {},
   "outputs": [],
   "source": [
    "a_tree_grc = DependencyTree.to_tree(cltk_doc_grc.sentences[0])  #81"
   ]
  },
  {
   "cell_type": "code",
   "execution_count": 51,
   "metadata": {},
   "outputs": [
    {
     "name": "stdout",
     "output_type": "stream",
     "text": [
      "[appos(Θουκυδίδης_0/proper_noun, Ἀθηναῖος_1/adjective),\n",
      " nsubj(ξυνέγραψε_2/verb, Θουκυδίδης_0/proper_noun),\n",
      " det(πόλεμον_4/noun, τὸν_3/determiner),\n",
      " det(Πελοποννησίων_6/noun, τῶν_5/determiner),\n",
      " cc(Πελοποννησίων_6/noun, καὶ_7/coordinating_conjunction),\n",
      " conj(Πελοποννησίων_6/noun, Ἀθηναίων,_8/noun),\n",
      " nmod(πόλεμον_4/noun, Πελοποννησίων_6/noun),\n",
      " obj(ξυνέγραψε_2/verb, πόλεμον_4/noun),\n",
      " mark(ἐπολέμησαν_10/verb, ὡς_9/subordinating_conjunction),\n",
      " case(ἀλλήλους,_12/adjective, πρὸς_11/adposition),\n",
      " obl(ἐπολέμησαν_10/verb, ἀλλήλους,_12/adjective),\n",
      " advmod(ἀρξάμενος_13/verb, εὐθὺς_14/adverb),\n",
      " iobj(ἀρξάμενος_13/verb, καθισταμένου_15/noun),\n",
      " cc(ἀρξάμενος_13/verb, καὶ_16/coordinating_conjunction),\n",
      " cc(μέγαν_18/noun, τε_19/coordinating_conjunction),\n",
      " cc(μέγαν_18/noun, καὶ_21/coordinating_conjunction),\n",
      " cop(μέγαν_18/noun, ἔσεσθαι_20/auxiliary),\n",
      " cc(μέγαν_18/noun, τε_19/coordinating_conjunction),\n",
      " cc(μέγαν_18/noun, καὶ_21/coordinating_conjunction),\n",
      " det(προγεγενημένων,_24/noun, τῶν_23/determiner),\n",
      " iobj(ἀξιολογώτατον_22/adjective, προγεγενημένων,_24/noun),\n",
      " conj(μέγαν_18/noun, ἀξιολογώτατον_22/adjective),\n",
      " ccomp(ἐλπίσας_17/verb, μέγαν_18/noun),\n",
      " conj(ἀρξάμενος_13/verb, ἐλπίσας_17/verb),\n",
      " conj(ἀρξάμενος_13/verb, τεκμαιρόμενος_25/verb),\n",
      " mark(ᾖσαν_29/verb, ὅτι_26/subordinating_conjunction),\n",
      " advcl(ᾖσαν_29/verb, ἀκμάζοντές_27/verb),\n",
      " cc(ᾖσαν_29/verb, τε_28/coordinating_conjunction),\n",
      " cc(ᾖσαν_29/verb, καὶ_36/coordinating_conjunction),\n",
      " case(αὐτὸν_31/pronoun, ἐς_30/adposition),\n",
      " obl(ᾖσαν_29/verb, αὐτὸν_31/pronoun),\n",
      " obl(ᾖσαν_29/verb, παρασκευῇ_33/noun),\n",
      " obl(ᾖσαν_29/verb, πάσῃ_35/noun),\n",
      " advmod(ᾖσαν_29/verb, ἀμφότεροι_32/adjective),\n",
      " obl(ᾖσαν_29/verb, αὐτὸν_31/pronoun),\n",
      " obl(ᾖσαν_29/verb, παρασκευῇ_33/noun),\n",
      " obl(ᾖσαν_29/verb, πάσῃ_35/noun),\n",
      " det(πάσῃ_35/noun, τῇ_34/determiner),\n",
      " obl(ᾖσαν_29/verb, αὐτὸν_31/pronoun),\n",
      " obl(ᾖσαν_29/verb, παρασκευῇ_33/noun),\n",
      " obl(ᾖσαν_29/verb, πάσῃ_35/noun),\n",
      " cc(ᾖσαν_29/verb, τε_28/coordinating_conjunction),\n",
      " cc(ᾖσαν_29/verb, καὶ_36/coordinating_conjunction),\n",
      " det(Ἑλληνικὸν_39/adjective, τὸ_37/determiner),\n",
      " amod(Ἑλληνικὸν_39/adjective, ἄλλο_38/adjective),\n",
      " obj(ὁρῶν_40/verb, Ἑλληνικὸν_39/adjective),\n",
      " obj(ὁρῶν_40/verb, ξυνιστάμενον_41/verb),\n",
      " case(ἑκατέρους,_43/adjective, πρὸς_42/adposition),\n",
      " obl(ξυνιστάμενον_41/verb, ἑκατέρους,_43/adjective),\n",
      " obj(ὁρῶν_40/verb, Ἑλληνικὸν_39/adjective),\n",
      " obj(ὁρῶν_40/verb, ξυνιστάμενον_41/verb),\n",
      " advcl(εὐθύς,_46/adjective, ὁρῶν_40/verb),\n",
      " det(εὐθύς,_46/adjective, τὸ_44/determiner),\n",
      " discourse(εὐθύς,_46/adjective, μὲν_45/adverb),\n",
      " det(διανοούμενον._50/verb, τὸ_47/determiner),\n",
      " discourse(διανοούμενον._50/verb, δὲ_48/adverb),\n",
      " advmod(διανοούμενον._50/verb, καὶ_49/adverb),\n",
      " conj(εὐθύς,_46/adjective, διανοούμενον._50/verb),\n",
      " conj(ᾖσαν_29/verb, εὐθύς,_46/adjective),\n",
      " ccomp(τεκμαιρόμενος_25/verb, ᾖσαν_29/verb),\n",
      " conj(ἀρξάμενος_13/verb, ἐλπίσας_17/verb),\n",
      " conj(ἀρξάμενος_13/verb, τεκμαιρόμενος_25/verb),\n",
      " advcl(ἐπολέμησαν_10/verb, ἀρξάμενος_13/verb),\n",
      " advcl(ξυνέγραψε_2/verb, ἐπολέμησαν_10/verb),\n",
      " root(None, ξυνέγραψε_2/verb)]\n"
     ]
    }
   ],
   "source": [
    "pprint(a_tree_grc.get_dependencies())"
   ]
  },
  {
   "cell_type": "code",
   "execution_count": 52,
   "metadata": {},
   "outputs": [
    {
     "name": "stdout",
     "output_type": "stream",
     "text": [
      "Θουκυδίδης Ἀθηναῖος ξυνέγραψε τὸν πόλεμον τῶν Πελοποννησίων καὶ Ἀθηναίων, ὡς ἐπολέμησαν πρὸς ἀλλήλους, ἀρξάμενος εὐθὺς καθισταμένου καὶ ἐλπίσας μέγαν τε ἔσεσθαι καὶ ἀξιολογώτατον τῶν προγεγενημένων, τεκμαιρόμενος ὅτι ἀκμάζοντές τε ᾖσαν ἐς αὐτὸν ἀμφότεροι παρασκευῇ τῇ πάσῃ καὶ τὸ ἄλλο Ἑλληνικὸν ὁρῶν ξυνιστάμενον πρὸς ἑκατέρους, τὸ μὲν εὐθύς, τὸ δὲ καὶ διανοούμενον.\n",
      "\n",
      "Translation: Thucydides, an Athenian, wrote the history of the war between the Peloponnesians and the Athenians, beginning at the moment that it broke out, and believing that it would be a great war, and more worthy of relation than any that had preceded it. This belief was not without its grounds. The preparations of both the combatants were in every department in the last state of perfection; and he could see the rest of the Hellenic race taking sides in the quarrel; those who delayed doing so at once having it in contemplation.\n",
      "\n",
      "root | ξυνέγραψε_2/verb\n",
      "    └─ nsubj | Θουκυδίδης_0/proper_noun\n",
      "        └─ appos | Ἀθηναῖος_1/adjective\n",
      "    └─ obj | πόλεμον_4/noun\n",
      "        └─ det | τὸν_3/determiner\n",
      "        └─ nmod | Πελοποννησίων_6/noun\n",
      "            └─ det | τῶν_5/determiner\n",
      "            └─ cc | καὶ_7/coordinating_conjunction\n",
      "            └─ conj | Ἀθηναίων,_8/noun\n",
      "    └─ advcl | ἐπολέμησαν_10/verb\n",
      "        └─ mark | ὡς_9/subordinating_conjunction\n",
      "        └─ obl | ἀλλήλους,_12/adjective\n",
      "            └─ case | πρὸς_11/adposition\n",
      "        └─ advcl | ἀρξάμενος_13/verb\n",
      "            └─ advmod | εὐθὺς_14/adverb\n",
      "            └─ iobj | καθισταμένου_15/noun\n",
      "            └─ cc | καὶ_16/coordinating_conjunction\n",
      "            └─ conj | ἐλπίσας_17/verb\n",
      "                └─ ccomp | μέγαν_18/noun\n",
      "                    └─ cc | τε_19/coordinating_conjunction\n",
      "                    └─ cop | ἔσεσθαι_20/auxiliary\n",
      "                    └─ cc | καὶ_21/coordinating_conjunction\n",
      "                    └─ conj | ἀξιολογώτατον_22/adjective\n",
      "                        └─ iobj | προγεγενημένων,_24/noun\n",
      "                            └─ det | τῶν_23/determiner\n",
      "            └─ conj | τεκμαιρόμενος_25/verb\n",
      "                └─ ccomp | ᾖσαν_29/verb\n",
      "                    └─ mark | ὅτι_26/subordinating_conjunction\n",
      "                    └─ advcl | ἀκμάζοντές_27/verb\n",
      "                    └─ cc | τε_28/coordinating_conjunction\n",
      "                    └─ obl | αὐτὸν_31/pronoun\n",
      "                        └─ case | ἐς_30/adposition\n",
      "                    └─ advmod | ἀμφότεροι_32/adjective\n",
      "                    └─ obl | παρασκευῇ_33/noun\n",
      "                    └─ obl | πάσῃ_35/noun\n",
      "                        └─ det | τῇ_34/determiner\n",
      "                    └─ cc | καὶ_36/coordinating_conjunction\n",
      "                    └─ conj | εὐθύς,_46/adjective\n",
      "                        └─ advcl | ὁρῶν_40/verb\n",
      "                            └─ obj | Ἑλληνικὸν_39/adjective\n",
      "                                └─ det | τὸ_37/determiner\n",
      "                                └─ amod | ἄλλο_38/adjective\n",
      "                            └─ obj | ξυνιστάμενον_41/verb\n",
      "                                └─ obl | ἑκατέρους,_43/adjective\n",
      "                                    └─ case | πρὸς_42/adposition\n",
      "                        └─ det | τὸ_44/determiner\n",
      "                        └─ discourse | μὲν_45/adverb\n",
      "                        └─ conj | διανοούμενον._50/verb\n",
      "                            └─ det | τὸ_47/determiner\n",
      "                            └─ discourse | δὲ_48/adverb\n",
      "                            └─ advmod | καὶ_49/adverb\n"
     ]
    }
   ],
   "source": [
    "print(cltk_doc_grc.sentences_strings[0])\n",
    "print(\"\")\n",
    "print(\"Translation:\", \"Thucydides, an Athenian, wrote the history of the war between the Peloponnesians and the Athenians, beginning at the moment that it broke out, and believing that it would be a great war, and more worthy of relation than any that had preceded it. This belief was not without its grounds. The preparations of both the combatants were in every department in the last state of perfection; and he could see the rest of the Hellenic race taking sides in the quarrel; those who delayed doing so at once having it in contemplation.\")\n",
    "print(\"\")\n",
    "a_tree_grc.print_tree()"
   ]
  },
  {
   "cell_type": "code",
   "execution_count": 53,
   "metadata": {},
   "outputs": [],
   "source": [
    "feature_names_grc, list_of_list_features_grc = cltk_doc_to_features_table(cltk_doc=cltk_doc_grc)"
   ]
  },
  {
   "cell_type": "code",
   "execution_count": 54,
   "metadata": {},
   "outputs": [
    {
     "name": "stdout",
     "output_type": "stream",
     "text": [
      "['string', 'lemma', 'embedding', 'is_stop', 'lemma', 'pos', 'case', 'gender', 'animacy', 'number', 'definiteness', 'degree', 'strength', 'verbform', 'tense', 'mood', 'aspect', 'voice', 'person', 'polarity', 'politeness', 'clusivity', 'evidentiality', 'strength', 'governing_word', 'governor_case', 'governor_gender', 'governor_animacy', 'governor_number', 'governor_definiteness', 'governor_degree', 'governor_strength', 'governor_verbform', 'governor_tense', 'governor_mood', 'governor_aspect', 'governor_voice', 'governor_person', 'governor_polarity', 'governor_politeness', 'governor_clusivity', 'governor_evidentiality', 'governor_strength', 'governing_relationship']\n"
     ]
    }
   ],
   "source": [
    "print(feature_names_grc)"
   ]
  },
  {
   "cell_type": "code",
   "execution_count": 55,
   "metadata": {},
   "outputs": [
    {
     "name": "stdout",
     "output_type": "stream",
     "text": [
      "len() of feature instances (one for each token): 10531\n",
      "\n",
      "Example of one instance row: ['πόλεμον', 'πόλεμος', array([0., 0., 0., 0., 0., 0., 0., 0., 0., 0., 0., 0., 0., 0., 0., 0., 0.,\n",
      "       0., 0., 0., 0., 0., 0., 0., 0., 0., 0., 0., 0., 0., 0., 0., 0., 0.,\n",
      "       0., 0., 0., 0., 0., 0., 0., 0., 0., 0., 0., 0., 0., 0., 0., 0., 0.,\n",
      "       0., 0., 0., 0., 0., 0., 0., 0., 0., 0., 0., 0., 0., 0., 0., 0., 0.,\n",
      "       0., 0., 0., 0., 0., 0., 0., 0., 0., 0., 0., 0., 0., 0., 0., 0., 0.,\n",
      "       0., 0., 0., 0., 0., 0., 0., 0., 0., 0., 0., 0., 0., 0., 0.]), False, False, 'noun', 'accusative', 'masculine', None, 'singular', None, None, None, None, None, None, None, None, None, None, None, None, None, None, 'verb', None, None, None, 'singular', None, None, None, 'finite', 'past', 'indicative', 'perfective', 'active', 'third', None, None, None, None, None, 'obj']\n"
     ]
    }
   ],
   "source": [
    "print(\"len() of feature instances (one for each token):\", len(list_of_list_features_grc))\n",
    "print(\"\")\n",
    "print(\"Example of one instance row:\", list_of_list_features_grc[4])"
   ]
  },
  {
   "cell_type": "code",
   "execution_count": 56,
   "metadata": {},
   "outputs": [
    {
     "name": "stdout",
     "output_type": "stream",
     "text": [
      "[('string', 'πόλεμον'),\n",
      " ('lemma', 'πόλεμος'),\n",
      " ('embedding',\n",
      "  array([0., 0., 0., 0., 0., 0., 0., 0., 0., 0., 0., 0., 0., 0., 0., 0., 0.,\n",
      "       0., 0., 0., 0., 0., 0., 0., 0., 0., 0., 0., 0., 0., 0., 0., 0., 0.,\n",
      "       0., 0., 0., 0., 0., 0., 0., 0., 0., 0., 0., 0., 0., 0., 0., 0., 0.,\n",
      "       0., 0., 0., 0., 0., 0., 0., 0., 0., 0., 0., 0., 0., 0., 0., 0., 0.,\n",
      "       0., 0., 0., 0., 0., 0., 0., 0., 0., 0., 0., 0., 0., 0., 0., 0., 0.,\n",
      "       0., 0., 0., 0., 0., 0., 0., 0., 0., 0., 0., 0., 0., 0., 0.])),\n",
      " ('is_stop', False),\n",
      " ('lemma', False),\n",
      " ('pos', 'noun'),\n",
      " ('case', 'accusative'),\n",
      " ('gender', 'masculine'),\n",
      " ('animacy', None),\n",
      " ('number', 'singular'),\n",
      " ('definiteness', None),\n",
      " ('degree', None),\n",
      " ('strength', None),\n",
      " ('verbform', None),\n",
      " ('tense', None),\n",
      " ('mood', None),\n",
      " ('aspect', None),\n",
      " ('voice', None),\n",
      " ('person', None),\n",
      " ('polarity', None),\n",
      " ('politeness', None),\n",
      " ('clusivity', None),\n",
      " ('evidentiality', None),\n",
      " ('strength', None),\n",
      " ('governing_word', 'verb'),\n",
      " ('governor_case', None),\n",
      " ('governor_gender', None),\n",
      " ('governor_animacy', None),\n",
      " ('governor_number', 'singular'),\n",
      " ('governor_definiteness', None),\n",
      " ('governor_degree', None),\n",
      " ('governor_strength', None),\n",
      " ('governor_verbform', 'finite'),\n",
      " ('governor_tense', 'past'),\n",
      " ('governor_mood', 'indicative'),\n",
      " ('governor_aspect', 'perfective'),\n",
      " ('governor_voice', 'active'),\n",
      " ('governor_person', 'third'),\n",
      " ('governor_polarity', None),\n",
      " ('governor_politeness', None),\n",
      " ('governor_clusivity', None),\n",
      " ('governor_evidentiality', None),\n",
      " ('governor_strength', None),\n",
      " ('governing_relationship', 'obj')]\n"
     ]
    }
   ],
   "source": [
    "# Putting these together for easier reading\n",
    "pprint(list(zip(feature_names_grc, list_of_list_features_grc[4])))"
   ]
  }
 ],
 "metadata": {
  "kernelspec": {
   "display_name": "Python 3",
   "language": "python",
   "name": "python3"
  },
  "language_info": {
   "codemirror_mode": {
    "name": "ipython",
    "version": 3
   },
   "file_extension": ".py",
   "mimetype": "text/x-python",
   "name": "python",
   "nbconvert_exporter": "python",
   "pygments_lexer": "ipython3",
   "version": "3.8.3"
  }
 },
 "nbformat": 4,
 "nbformat_minor": 4
}

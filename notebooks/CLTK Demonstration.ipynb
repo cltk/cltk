{
 "cells": [
  {
   "cell_type": "markdown",
   "metadata": {},
   "source": [
    "# Table of contents\n",
    "1. [Introduction](#introduction)\n",
    "1. [Install pre-release of CLTK](#install)\n",
    "1. [Get data](#get-data)\n",
    "1. [Run NLP pipeline with `NLP()`](#run-nlp)\n",
    "1. [Inspect CLTK `Doc`](#inspect-doc)\n",
    "1. [Inspect CLTK `Word`](#inspect-word)\n",
    "1. [Modeling morphology with `MorphosyntacticFeature` and `MorphosyntacticFeatureBundle`](#morph)\n",
    "1. [Modeling syntax with `Form` and `DependencyTree`](#syntax)\n",
    "1. [Feature extraction](#features)\n",
    "1. [Brief demonstration of `NLP()` for Ancient Greek](#greek-nlp)"
   ]
  },
  {
   "cell_type": "markdown",
   "metadata": {},
   "source": [
    "# Introduction <a name=\"introduction\"></a>\n",
    "\n",
    "This notebook demonstrates how to use `NLP()`, the CLTK's primary interface, in Latin and Ancient Greek. Pipelines are available for 17 languages (see [Languages](https://docs.cltk.org/en/latest/languages.html) in the docs).\n",
    "\n",
    "Full documentation available at <https://docs.cltk.org/en/latest/cltk.html#cltk.nlp.NLP>.\n",
    "\n",
    "Note that there is a large amoung of code from this project's first six years (v. `0.1`), not all of which has been or will be moved over to this v. `1.0`. Docs for `0.1` still available at [https://legacy.cltk.org](https://legacy.cltk.org/) and tutorial notebooks at [https://github.com/cltk/tutorials](https://github.com/cltk/tutorials)."
   ]
  },
  {
   "cell_type": "markdown",
   "metadata": {},
   "source": [
    "# Install CLTK <a name=\"install\"></a>\n",
    "\n",
    "This notebook comes from <https://github.com/cltk/cltk/tree/master/notebooks>. For full instructions on installing the CLTK are available at <https://docs.cltk.org/en/latest/installation.html>."
   ]
  },
  {
   "cell_type": "code",
   "execution_count": 1,
   "metadata": {},
   "outputs": [],
   "source": [
    "## Requires Python 3.7, 3.8, 3.9 on a POSIX-compliant OS\n",
    "\n",
    "## The latest published beta:\n",
    "# !pip install cltk"
   ]
  },
  {
   "cell_type": "code",
   "execution_count": 2,
   "metadata": {},
   "outputs": [],
   "source": [
    "## Or directly from this repo:\n",
    "# cd .. && make install\n",
    "\n",
    "# %load_ext autoreload\n",
    "# %autoreload 2"
   ]
  },
  {
   "cell_type": "markdown",
   "metadata": {},
   "source": [
    "# Get data <a name=\"get-data\"></a>\n",
    "\n",
    "The following obtain two plaintext documents of two Classical authors. A subset of each will be used to demonstrate the CLTK."
   ]
  },
  {
   "cell_type": "code",
   "execution_count": 3,
   "metadata": {
    "scrolled": true
   },
   "outputs": [],
   "source": [
    "# Get Latin text\n",
    "# https://gist.github.com/kylepjohnson/2f9376fcf15699c250a0d09b37683370\n",
    "# now at `notebooks/lat-livy.txt`\n",
    "# !curl -O -L https://gist.github.com/kylepjohnson/2f9376fcf15699c250a0d09b37683370/raw/05b7a17af4b216a4986d897c57a9987e836cc91a/lat-livy.txt"
   ]
  },
  {
   "cell_type": "code",
   "execution_count": 4,
   "metadata": {},
   "outputs": [],
   "source": [
    "# Get Ancient Greek text\n",
    "# https://gist.github.com/kylepjohnson/9835c36fb06ca30ebf29b7f2c7bd29e0\n",
    "# now at `notebooks/grc-thucydides.txt`\n",
    "# !curl -O -L https://gist.github.com/kylepjohnson/9835c36fb06ca30ebf29b7f2c7bd29e0/raw/e08e47849f64484b0950b14563bb5a9fd1e1ef1c/grc-thucydides.txt"
   ]
  },
  {
   "cell_type": "code",
   "execution_count": 5,
   "metadata": {},
   "outputs": [],
   "source": [
    "# read the Latin file\n",
    "# We'll run the full demonstration in the Latin language first\n",
    "with open(\"lat-livy.txt\") as fo:\n",
    "    livy_full = fo.read()"
   ]
  },
  {
   "cell_type": "code",
   "execution_count": 6,
   "metadata": {},
   "outputs": [
    {
     "name": "stdout",
     "output_type": "stream",
     "text": [
      "Text snippet: Iam primum omnium satis constat Troia capta in ceteros saevitum esse Troianos, duobus, Aeneae Antenorique, et vetusti iure hospitii et quia pacis reddendaeque Helenae semper auctores fuerant, omne ius\n",
      "Character count: 920884\n",
      "Approximate token count: 129799\n"
     ]
    }
   ],
   "source": [
    "print(\"Text snippet:\", livy_full[:200])\n",
    "print(\"Character count:\", len(livy_full))\n",
    "print(\"Approximate token count:\", len(livy_full.split()))"
   ]
  },
  {
   "cell_type": "code",
   "execution_count": 7,
   "metadata": {},
   "outputs": [
    {
     "data": {
      "text/plain": [
       "76740"
      ]
     },
     "execution_count": 7,
     "metadata": {},
     "output_type": "execute_result"
    }
   ],
   "source": [
    "len(livy_full) // 12"
   ]
  },
  {
   "cell_type": "code",
   "execution_count": 8,
   "metadata": {},
   "outputs": [
    {
     "name": "stdout",
     "output_type": "stream",
     "text": [
      "Approximate token count: 10911\n"
     ]
    }
   ],
   "source": [
    "# Now let's cut this down to roughly 10k tokens for this demonstration's purposes\n",
    "livy = livy_full[:len(livy_full) // 12]\n",
    "print(\"Approximate token count:\", len(livy.split()))"
   ]
  },
  {
   "cell_type": "markdown",
   "metadata": {},
   "source": [
    "# Run NLP pipeline with `NLP()` <a name=\"run-nlp\"></a>"
   ]
  },
  {
   "cell_type": "code",
   "execution_count": 9,
   "metadata": {},
   "outputs": [],
   "source": [
    "# For most users, this is the only import required\n",
    "from cltk import NLP"
   ]
  },
  {
   "cell_type": "code",
   "execution_count": 10,
   "metadata": {},
   "outputs": [
    {
     "name": "stdout",
     "output_type": "stream",
     "text": [
      "‎𐤀 CLTK version '1.1.3'.\n",
      "Pipeline for language 'Latin' (ISO: 'lat'): `LatinNormalizeProcess`, `LatinStanzaProcess`, `LatinEmbeddingsProcess`, `StopsProcess`, `LatinLexiconProcess`.\n"
     ]
    }
   ],
   "source": [
    "# Load the default Pipeline for Latin\n",
    "cltk_nlp = NLP(language=\"lat\")"
   ]
  },
  {
   "cell_type": "code",
   "execution_count": 11,
   "metadata": {},
   "outputs": [
    {
     "name": "stdout",
     "output_type": "stream",
     "text": [
      "[<class 'cltk.alphabet.processes.LatinNormalizeProcess'>, <class 'cltk.dependency.processes.LatinStanzaProcess'>, <class 'cltk.embeddings.processes.LatinEmbeddingsProcess'>, <class 'cltk.stops.processes.StopsProcess'>]\n"
     ]
    }
   ],
   "source": [
    "# Removing ``LatinLexiconProcess`` for this demo b/c it is slow (adds ~9 mins total)\n",
    "cltk_nlp.pipeline.processes.pop(-1)\n",
    "print(cltk_nlp.pipeline.processes)"
   ]
  },
  {
   "cell_type": "code",
   "execution_count": 12,
   "metadata": {},
   "outputs": [
    {
     "name": "stdout",
     "output_type": "stream",
     "text": [
      "CPU times: user 25 s, sys: 712 ms, total: 25.7 s\n",
      "Wall time: 25.1 s\n"
     ]
    }
   ],
   "source": [
    "# Now execute NLP algorithms upon input text\n",
    "# Aside from download, execution time is ~50 sec on a 2015 Macbook Pro\n",
    "%time cltk_doc = cltk_nlp.analyze(text=livy)\n",
    "\n",
    "# You will be asked to download some models (from CLTK, fastText, and Stanza)"
   ]
  },
  {
   "cell_type": "markdown",
   "metadata": {},
   "source": [
    "# Inspect CLTK `Doc` <a name=\"inspect-doc\"></a>"
   ]
  },
  {
   "cell_type": "code",
   "execution_count": 13,
   "metadata": {},
   "outputs": [
    {
     "name": "stdout",
     "output_type": "stream",
     "text": [
      "<class 'cltk.core.data_types.Doc'>\n"
     ]
    }
   ],
   "source": [
    "# We can now inspect the result\n",
    "print(type(cltk_doc))"
   ]
  },
  {
   "cell_type": "code",
   "execution_count": 14,
   "metadata": {},
   "outputs": [
    {
     "name": "stdout",
     "output_type": "stream",
     "text": [
      "['_get_words_attribute', 'embeddings', 'embeddings_model', 'language', 'lemmata', 'morphosyntactic_features', 'normalized_text', 'pipeline', 'pos', 'raw', 'sentence_embeddings', 'sentences', 'sentences_strings', 'sentences_tokens', 'stanza_doc', 'stems', 'tokens', 'tokens_stops_filtered', 'words']\n"
     ]
    }
   ],
   "source": [
    "# All accessors\n",
    "print([x for x in dir(cltk_doc) if not x.startswith(\"__\")])"
   ]
  },
  {
   "cell_type": "code",
   "execution_count": 15,
   "metadata": {},
   "outputs": [
    {
     "name": "stdout",
     "output_type": "stream",
     "text": [
      "['Iam', 'primum', 'omnium', 'satis', 'constat', 'Troia', 'capta', 'in', 'ceteros', 'saevitum', 'esse', 'Troianos', ',', 'duobus', ',', 'Aeneae', 'Antenorique', ',', 'et', 'vetusti']\n"
     ]
    }
   ],
   "source": [
    "# Several of the more useful\n",
    "\n",
    "# List of tokens\n",
    "print(cltk_doc.tokens[:20])"
   ]
  },
  {
   "cell_type": "code",
   "execution_count": 16,
   "metadata": {},
   "outputs": [
    {
     "name": "stdout",
     "output_type": "stream",
     "text": [
      "['Iam', 'primus', 'omnis', 'satis', 'consto', 'Troia', 'capio', 'in', 'ceterus', 'saevitum', 'sum', 'Troianos', ',', 'duo', ',', 'Aeneae', 'Antenorique', ',', 'et', 'vetusti']\n"
     ]
    }
   ],
   "source": [
    "# List of lemmas\n",
    "print(cltk_doc.lemmata[:20])"
   ]
  },
  {
   "cell_type": "code",
   "execution_count": 17,
   "metadata": {},
   "outputs": [
    {
     "name": "stdout",
     "output_type": "stream",
     "text": [
      "['ADV', 'ADJ', 'PRON', 'ADV', 'VERB', 'NOUN', 'VERB', 'ADP', 'PRON', 'VERB', 'AUX', 'NOUN', 'PUNCT', 'NUM', 'PUNCT', 'NOUN', 'VERB', 'PUNCT', 'CCONJ', 'NOUN']\n"
     ]
    }
   ],
   "source": [
    "# Basic part-of-speech info\n",
    "print(cltk_doc.pos[:20])"
   ]
  },
  {
   "cell_type": "code",
   "execution_count": 18,
   "metadata": {},
   "outputs": [
    {
     "name": "stdout",
     "output_type": "stream",
     "text": [
      "[['Iam', 'primum', 'omnium', 'satis', 'constat', 'Troia', 'capta', 'in', 'ceteros', 'saevitum', 'esse', 'Troianos', ',', 'duobus', ',', 'Aeneae', 'Antenorique', ',', 'et', 'vetusti', 'iure', 'hospitii', 'et', 'quia', 'pacis', 'reddendaeque', 'Helenae', 'semper', 'auctores', 'fuerant', ',', 'omne', 'ius', 'belli', 'Achiuos', 'abstinuisse', ';'], ['casibus', 'deinde', 'variis', 'Antenorem', 'cum', 'multitudine', 'Enetum', ',', 'qui', 'seditione', 'ex', 'Paphlagonia', 'pulsi', 'et', 'sedes', 'et', 'ducem', 'rege', 'Pylaemene', 'ad', 'Troiam', 'amisso', 'quaerebant', ',', 'venisse', 'in', 'intimum', 'maris', 'Hadriatici', 'sinum', ',', 'Euganeisque', 'qui', 'inter', 'mare', 'Alpesque', 'incolebant', 'pulsis', 'Enetos', 'Troianosque', 'eas', 'tenuisse', 'terras', '.']]\n"
     ]
    }
   ],
   "source": [
    "# A list of list of tokens\n",
    "print(cltk_doc.sentences_tokens[:2])"
   ]
  },
  {
   "cell_type": "markdown",
   "metadata": {},
   "source": [
    "# Inspect CLTK `Word` <a name=\"inspect-word\"></a>"
   ]
  },
  {
   "cell_type": "markdown",
   "metadata": {},
   "source": [
    "Most powerful, though, is the ``Doc.words`` accessor, which is a list of ``Word`` objects. These ``Word`` objects contain all information that was generated during the NLP pipeline"
   ]
  },
  {
   "cell_type": "code",
   "execution_count": 19,
   "metadata": {},
   "outputs": [
    {
     "name": "stdout",
     "output_type": "stream",
     "text": [
      "12532\n"
     ]
    }
   ],
   "source": [
    "# One ``Word`` object for each token\n",
    "print(len(cltk_doc.words))"
   ]
  },
  {
   "cell_type": "markdown",
   "metadata": {},
   "source": [
    "Users can go token-by-token via ``Doc.words`` or via the intermediary step of looping through sentences."
   ]
  },
  {
   "cell_type": "code",
   "execution_count": 20,
   "metadata": {},
   "outputs": [
    {
     "name": "stdout",
     "output_type": "stream",
     "text": [
      "Original: Ibi egressi Troiani , ut quibus ab immenso prope errore nihil praeter arma et naues superesset , cum praedam ex agris agerent , Latinus rex Aboriginesque qui tum ea tenebant loca ad arcendam vim advenarum armati ex urbe atque agris concurrunt .\n",
      "\n",
      "Translation: Landing there, the Trojans, as men who, after their all but immeasurable wanderings, had nothing left but their swords and ships, were driving booty from the fields, when King Latinus and the Aborigines, who then occupied that country, rushed down from their city and their fields to repel with arms the violence of the invaders.\n"
     ]
    }
   ],
   "source": [
    "# Let's look at a non-trivial sentence from Book 1\n",
    "print(\"Original:\", cltk_doc.sentences_strings[5])\n",
    "print(\"\")\n",
    "print(\"Translation:\", \"Landing there, the Trojans, as men who, after their all but immeasurable wanderings, had nothing left but their swords and ships, were driving booty from the fields, when King Latinus and the Aborigines, who then occupied that country, rushed down from their city and their fields to repel with arms the violence of the invaders.\")\n",
    "# source: http://www.perseus.tufts.edu/hopper/text?doc=Liv.+1+1+5&fromdoc=Perseus%3Atext%3A1999.02.0151\n",
    "sentence_6 = cltk_doc.sentences[5]  # type: List[Word]"
   ]
  },
  {
   "cell_type": "code",
   "execution_count": 21,
   "metadata": {},
   "outputs": [
    {
     "name": "stdout",
     "output_type": "stream",
     "text": [
      "Word(index_char_start=None, index_char_stop=None, index_token=40, index_sentence=5, string='concurrunt', pos=verb, lemma='concurro', stem=None, scansion=None, xpos='L3|modA|tem1|gen9', upos='VERB', dependency_relation='advcl', governor=29, features={Aspect: [imperfective], Mood: [indicative], Number: [plural], Person: [third], Tense: [present], VerbForm: [finite], Voice: [active]}, category={F: [neg], N: [neg], V: [pos]}, stop=False, named_entity=None, syllables=None, phonetic_transcription=None, definition=None)\n"
     ]
    }
   ],
   "source": [
    "# Looking at one Word, 'concurrunt' ('they run together')\n",
    "a_word_concurrunt = sentence_6[40]\n",
    "print(a_word_concurrunt)"
   ]
  },
  {
   "cell_type": "markdown",
   "metadata": {},
   "source": [
    "In this word, you can see information for lexicography (`.lemmata`), semantics (`.embedding`), morphology (`.pos`, `.features`), syntax (`.governor`, `.dependency_relation`), plus other information most users would find helpful (`.stop`, `.named_entity`)."
   ]
  },
  {
   "cell_type": "markdown",
   "metadata": {},
   "source": [
    "# Modeling morphology with `MorphosyntacticFeature` and `MorphosyntacticFeatureBundle` <a name=\"morph\"></a>\n",
    "\n",
    "When a language's `Pipeline` builds each `Word` object, morphological information is stored at several accessors. Those of interest to most users are `.pos` and `.features`."
   ]
  },
  {
   "cell_type": "code",
   "execution_count": 22,
   "metadata": {},
   "outputs": [
    {
     "name": "stdout",
     "output_type": "stream",
     "text": [
      "`Word.string`: concurrunt\n",
      "\n",
      "`Word.pos`: verb\n"
     ]
    }
   ],
   "source": [
    "print(\"`Word.string`:\", a_word_concurrunt.string)\n",
    "print(\"\")\n",
    "# Part-of-speech is always be available at `.pos`.\n",
    "print(\"`Word.pos`:\", a_word_concurrunt.pos)"
   ]
  },
  {
   "cell_type": "markdown",
   "metadata": {},
   "source": [
    "The CLTK contains classes a specific class for [the annotation types defined by v2 of the Universal Dependencies project](https://universaldependencies.org/u/feat/all.html). In the CLTK's codebase, these are located at [cltk/morphology/universal_dependencies_features.py](https://github.com/cltk/cltk/blob/dev/src/cltk/morphology/universal_dependencies_features.py).\n",
    "\n",
    "For instance, a Latin verb requires a label for its [https://universaldependencies.org/u/feat/all.html#al-u-feat/Mood](mood) (e.g., indicative), which the UD project defines as \"a feature that expresses modality and subclassifies finite verb forms\".\n",
    "\n",
    "Though morphological taggers may annnotate a verb's mood variously (\"ind.\", \"indicative\", \"Indic\", etc.), the CLTK maps the term into the following, standardized `Mood`.\n",
    "\n",
    "``` python\n",
    "class Mood(MorphosyntacticFeature):\n",
    "    \"\"\"The mood of a verb.\n",
    "    see https://universaldependencies.org/u/feat/Mood.html\n",
    "    \"\"\"\n",
    "\n",
    "    admirative = auto()\n",
    "    conditional = auto()\n",
    "    desiderative = auto()\n",
    "    imperative = auto()\n",
    "    indicative = auto()\n",
    "    jussive = auto()\n",
    "    necessitative = auto()\n",
    "    optative = auto()\n",
    "    potential = auto()\n",
    "    purposive = auto()\n",
    "    quotative = auto()\n",
    "    subjunctive = auto()\n",
    "```\n",
    "\n",
    "Turning back to the the above example word, we can see such features at `.features`."
   ]
  },
  {
   "cell_type": "code",
   "execution_count": 23,
   "metadata": {
    "scrolled": true
   },
   "outputs": [
    {
     "name": "stdout",
     "output_type": "stream",
     "text": [
      "type(`Word.features`): <class 'cltk.morphology.morphosyntax.MorphosyntacticFeatureBundle'>\n",
      "\n",
      "`Word.features`: {Aspect: [imperfective], Mood: [indicative], Number: [plural], Person: [third], Tense: [present], VerbForm: [finite], Voice: [active]}\n"
     ]
    }
   ],
   "source": [
    "# type\n",
    "print(\"type(`Word.features`):\", type(a_word_concurrunt.features))\n",
    "print(\"\")\n",
    "# str repr of `MorphosyntacticFeatureBundle`\n",
    "print(\"`Word.features`:\", a_word_concurrunt.features)"
   ]
  },
  {
   "cell_type": "markdown",
   "metadata": {},
   "source": [
    "A user may inspect a `MorphosyntacticFeatureBundle` in a manner similar to a `dict`"
   ]
  },
  {
   "cell_type": "code",
   "execution_count": 24,
   "metadata": {},
   "outputs": [
    {
     "name": "stdout",
     "output_type": "stream",
     "text": [
      "Mood: [indicative]\n",
      "Number: [plural]\n",
      "Person: [third]\n",
      "Tense: [present]\n",
      "VerbForm: [finite]\n",
      "Voice: [active]\n"
     ]
    }
   ],
   "source": [
    "print(\"Mood:\", a_word_concurrunt.features[\"Mood\"])  # type: List[Mood]\n",
    "print(\"Number:\", a_word_concurrunt.features[\"Number\"])  # type: List[Number]\n",
    "print(\"Person:\", a_word_concurrunt.features[\"Person\"])  # type: List[Person]\n",
    "print(\"Tense:\", a_word_concurrunt.features[\"Tense\"])  # type: List[Tense]\n",
    "print(\"VerbForm:\", a_word_concurrunt.features[\"VerbForm\"])  # type: List[VerbForm]\n",
    "print(\"Voice:\", a_word_concurrunt.features[\"Voice\"])  # type: List[Voice]\n",
    "\n",
    "# Note: The values returned here are a list, though under normally only one \n",
    "# morphological form will be available"
   ]
  },
  {
   "cell_type": "markdown",
   "metadata": {},
   "source": [
    "Looking a bit closer at `MorphosyntacticFeature`, we can see how its data type inherits from the Python builtin [IntEnu](https://docs.python.org/3/library/enum.html#enum.IntEnum)."
   ]
  },
  {
   "cell_type": "code",
   "execution_count": 25,
   "metadata": {},
   "outputs": [
    {
     "name": "stdout",
     "output_type": "stream",
     "text": [
      "type(a_mood_obj): Mood\n",
      "\n",
      "Is `IntEnum`? True\n",
      "\n",
      "`Mood` inherits from `MorphosyntacticFeature`? True\n"
     ]
    }
   ],
   "source": [
    "a_mood_obj = a_word_concurrunt.features[\"Mood\"][0]\n",
    "# see type\n",
    "print(\"type(a_mood_obj):\", type(a_mood_obj))\n",
    "print(\"\")\n",
    "# See inheritance\n",
    "from enum import IntEnum\n",
    "print(\"Is `IntEnum`?\", isinstance(a_mood_obj, IntEnum))\n",
    "print(\"\")\n",
    "# \n",
    "from cltk.morphology.morphosyntax import MorphosyntacticFeature\n",
    "print(\"`Mood` inherits from `MorphosyntacticFeature`?\", isinstance(a_mood_obj, MorphosyntacticFeature))"
   ]
  },
  {
   "cell_type": "code",
   "execution_count": 26,
   "metadata": {},
   "outputs": [
    {
     "name": "stdout",
     "output_type": "stream",
     "text": [
      "`MorphosyntacticFeature` accessors: ['as_integer_ratio', 'bit_count', 'bit_length', 'conjugate', 'denominator', 'from_bytes', 'imag', 'name', 'numerator', 'real', 'to_bytes', 'value']\n",
      "\n",
      "MorphosyntacticFeature.name: indicative\n",
      "MorphosyntacticFeature.value: 5\n"
     ]
    }
   ],
   "source": [
    "# You can manipulate this object as any IntEnum plus a few extras\n",
    "\n",
    "print(\"`MorphosyntacticFeature` accessors:\", [x for x in dir(a_mood_obj) if not x.startswith(\"__\")])\n",
    "print(\"\")\n",
    "print(\"MorphosyntacticFeature.name:\", a_mood_obj.name)  # type: str\n",
    "# A stable int value is available, too, associated with this name\n",
    "print(\"MorphosyntacticFeature.value:\", a_mood_obj.value)  # type: int"
   ]
  },
  {
   "cell_type": "markdown",
   "metadata": {},
   "source": [
    "Users can create their own `MorphosyntacticFeature` and `MorphosyntacticFeatureBundle`:"
   ]
  },
  {
   "cell_type": "code",
   "execution_count": 27,
   "metadata": {},
   "outputs": [
    {
     "name": "stdout",
     "output_type": "stream",
     "text": [
      "{Mood: [subjunctive], Voice: [active], Person: [first], Number: [singular], VerbForm: [finite]}\n"
     ]
    }
   ],
   "source": [
    "from cltk.morphology.morphosyntax import MorphosyntacticFeatureBundle\n",
    "from cltk.morphology.universal_dependencies_features import Mood, Number, Person, VerbForm, Voice\n",
    "\n",
    "latin_word_sim = \"sim\"\n",
    "\n",
    "mood = Mood.subjunctive\n",
    "voice = Voice.active\n",
    "person = Person.first\n",
    "number = Number.singular\n",
    "verb_form = VerbForm.finite\n",
    "\n",
    "latin_word_sim_bundle = MorphosyntacticFeatureBundle(mood, voice, person, number, verb_form)\n",
    "print(latin_word_sim_bundle)"
   ]
  },
  {
   "cell_type": "markdown",
   "metadata": {},
   "source": [
    "This too can be interated through as `dict`:"
   ]
  },
  {
   "cell_type": "code",
   "execution_count": 28,
   "metadata": {},
   "outputs": [
    {
     "name": "stdout",
     "output_type": "stream",
     "text": [
      "Mood [subjunctive]\n",
      "Voice [active]\n",
      "Person [first]\n",
      "Number [singular]\n",
      "VerbForm [finite]\n"
     ]
    }
   ],
   "source": [
    "for feature, value in latin_word_sim_bundle.items():\n",
    "    print(feature, value)  # Note: value has `list` type"
   ]
  },
  {
   "cell_type": "markdown",
   "metadata": {},
   "source": [
    "Finally, we may even construct a `Word` with this information:"
   ]
  },
  {
   "cell_type": "code",
   "execution_count": 29,
   "metadata": {},
   "outputs": [
    {
     "name": "stdout",
     "output_type": "stream",
     "text": [
      "Word(index_char_start=None, index_char_stop=None, index_token=None, index_sentence=None, string='sim', pos=None, lemma=None, stem=None, scansion=None, xpos=None, upos=None, dependency_relation=None, governor=None, features={Mood: [subjunctive], Voice: [active], Person: [first], Number: [singular], VerbForm: [finite]}, category={}, stop=None, named_entity=None, syllables=None, phonetic_transcription=None, definition=None)\n"
     ]
    }
   ],
   "source": [
    "from cltk.core.data_types import Word\n",
    "\n",
    "print(Word(string=\"sim\", features=latin_word_sim_bundle))"
   ]
  },
  {
   "cell_type": "code",
   "execution_count": 30,
   "metadata": {},
   "outputs": [],
   "source": [
    "# For more on this or any other CLTK class, use `help()`\n",
    "# help(a_mood_obj)\n",
    "# help(MorphosyntacticFeatureBundle)"
   ]
  },
  {
   "cell_type": "code",
   "execution_count": 31,
   "metadata": {},
   "outputs": [
    {
     "name": "stdout",
     "output_type": "stream",
     "text": [
      "`Word.upos`: VERB\n",
      "`Word.xpos`: L3|modA|tem1|gen9\n"
     ]
    }
   ],
   "source": [
    "# Note: Extra morphological info may be written in `str` type\n",
    "# to to the values at `.upos` and `.xpos` for languages using\n",
    "# Stanza project\n",
    "\n",
    "# Note: The particular annoations at these are often inconsistent across\n",
    "# languages or even treebanks within a single language; hence the benefit\n",
    "# of the CLTK's modeling at `.pos`.\n",
    "print(\"`Word.upos`:\", a_word_concurrunt.upos)\n",
    "print(\"`Word.xpos`:\", a_word_concurrunt.xpos)"
   ]
  },
  {
   "cell_type": "markdown",
   "metadata": {},
   "source": [
    "# Modeling syntax with `Form` and `DependencyTree`  <a name=\"syntax\"></a>\n",
    "\n",
    "The CLTK uses the builtin `xml` library to build tree for modeling dependency parses. A `Word` is mapped into a `Form`, then `ElemntTree` is used to organize these `Form`s into a `DependencyTree`. With a tree, certain measurements are more efficient (counting depth, breadth, edge types)."
   ]
  },
  {
   "cell_type": "code",
   "execution_count": 32,
   "metadata": {},
   "outputs": [],
   "source": [
    "from cltk.dependency.tree import DependencyTree"
   ]
  },
  {
   "cell_type": "code",
   "execution_count": 33,
   "metadata": {},
   "outputs": [
    {
     "name": "stdout",
     "output_type": "stream",
     "text": [
      "Ibi egressi Troiani , ut quibus ab immenso prope errore nihil praeter arma et naues superesset , cum praedam ex agris agerent , Latinus rex Aboriginesque qui tum ea tenebant loca ad arcendam vim advenarum armati ex urbe atque agris concurrunt .\n"
     ]
    }
   ],
   "source": [
    "# Let's look at this sentence again\n",
    "print(cltk_doc.sentences_strings[5])  # text form of `sentence_6`"
   ]
  },
  {
   "cell_type": "code",
   "execution_count": 34,
   "metadata": {},
   "outputs": [],
   "source": [
    "a_tree = DependencyTree.to_tree(sentence_6)"
   ]
  },
  {
   "cell_type": "code",
   "execution_count": 35,
   "metadata": {},
   "outputs": [
    {
     "name": "stdout",
     "output_type": "stream",
     "text": [
      "[advmod(egressi_1/verb, Ibi_0/adverb),\n",
      " punct(superesset_15/verb, ,_3/punctuation),\n",
      " mark(superesset_15/verb, ut_4/subordinating_conjunction),\n",
      " obl(superesset_15/verb, quibus_5/pronoun),\n",
      " obl(superesset_15/verb, errore_9/noun),\n",
      " obl(superesset_15/verb, arma_12/noun),\n",
      " case(immenso_7/adjective, ab_6/adposition),\n",
      " obl:arg(superesset_15/verb, immenso_7/adjective),\n",
      " case(errore_9/noun, prope_8/adposition),\n",
      " obl(superesset_15/verb, quibus_5/pronoun),\n",
      " obl(superesset_15/verb, errore_9/noun),\n",
      " obl(superesset_15/verb, arma_12/noun),\n",
      " nsubj(superesset_15/verb, nihil_10/pronoun),\n",
      " case(arma_12/noun, praeter_11/adposition),\n",
      " cc(naues_14/noun, et_13/coordinating_conjunction),\n",
      " conj(arma_12/noun, naues_14/noun),\n",
      " obl(superesset_15/verb, quibus_5/pronoun),\n",
      " obl(superesset_15/verb, errore_9/noun),\n",
      " obl(superesset_15/verb, arma_12/noun),\n",
      " punct(agerent_21/verb, ,_16/punctuation),\n",
      " mark(agerent_21/verb, cum_17/subordinating_conjunction),\n",
      " obj(agerent_21/verb, praedam_18/noun),\n",
      " obj(agerent_21/verb, Aboriginesque_25/noun),\n",
      " case(agris_20/noun, ex_19/adposition),\n",
      " obl(agerent_21/verb, agris_20/noun),\n",
      " punct(rex_24/noun, ,_22/punctuation),\n",
      " amod(rex_24/noun, Latinus_23/adjective),\n",
      " nsubj(agerent_21/verb, rex_24/noun),\n",
      " nsubj(tenebant_29/verb, qui_26/pronoun),\n",
      " cc(tenebant_29/verb, tum_27/coordinating_conjunction),\n",
      " obj(tenebant_29/verb, ea_28/pronoun),\n",
      " obj(tenebant_29/verb, loca_30/noun),\n",
      " obj(tenebant_29/verb, ea_28/pronoun),\n",
      " obj(tenebant_29/verb, loca_30/noun),\n",
      " mark(arcendam_32/verb, ad_31/adposition),\n",
      " nmod(vim_33/noun, advenarum_34/adjective),\n",
      " nsubj:pass(arcendam_32/verb, vim_33/noun),\n",
      " ccomp(armati_35/verb, arcendam_32/verb),\n",
      " xcomp(concurrunt_40/verb, armati_35/verb),\n",
      " case(urbe_37/noun, ex_36/adposition),\n",
      " cc(agris_39/noun, atque_38/coordinating_conjunction),\n",
      " conj(urbe_37/noun, agris_39/noun),\n",
      " obl(concurrunt_40/verb, urbe_37/noun),\n",
      " advcl(tenebant_29/verb, concurrunt_40/verb),\n",
      " acl:relcl(Aboriginesque_25/noun, tenebant_29/verb),\n",
      " obj(agerent_21/verb, praedam_18/noun),\n",
      " obj(agerent_21/verb, Aboriginesque_25/noun),\n",
      " advcl(superesset_15/verb, agerent_21/verb),\n",
      " acl:relcl(Troiani_2/noun, superesset_15/verb),\n",
      " nsubj:pass(egressi_1/verb, Troiani_2/noun),\n",
      " punct(egressi_1/verb, ._41/punctuation),\n",
      " root(None, egressi_1/verb)]\n"
     ]
    }
   ],
   "source": [
    "from pprint import pprint\n",
    "\n",
    "pprint(a_tree.get_dependencies())"
   ]
  },
  {
   "cell_type": "code",
   "execution_count": 36,
   "metadata": {},
   "outputs": [
    {
     "name": "stdout",
     "output_type": "stream",
     "text": [
      "root | egressi_1/verb\n",
      "    └─ advmod | Ibi_0/adverb\n",
      "    └─ nsubj:pass | Troiani_2/noun\n",
      "        └─ acl:relcl | superesset_15/verb\n",
      "            └─ punct | ,_3/punctuation\n",
      "            └─ mark | ut_4/subordinating_conjunction\n",
      "            └─ obl | quibus_5/pronoun\n",
      "            └─ obl:arg | immenso_7/adjective\n",
      "                └─ case | ab_6/adposition\n",
      "            └─ obl | errore_9/noun\n",
      "                └─ case | prope_8/adposition\n",
      "            └─ nsubj | nihil_10/pronoun\n",
      "            └─ obl | arma_12/noun\n",
      "                └─ case | praeter_11/adposition\n",
      "                └─ conj | naues_14/noun\n",
      "                    └─ cc | et_13/coordinating_conjunction\n",
      "            └─ advcl | agerent_21/verb\n",
      "                └─ punct | ,_16/punctuation\n",
      "                └─ mark | cum_17/subordinating_conjunction\n",
      "                └─ obj | praedam_18/noun\n",
      "                └─ obl | agris_20/noun\n",
      "                    └─ case | ex_19/adposition\n",
      "                └─ nsubj | rex_24/noun\n",
      "                    └─ punct | ,_22/punctuation\n",
      "                    └─ amod | Latinus_23/adjective\n",
      "                └─ obj | Aboriginesque_25/noun\n",
      "                    └─ acl:relcl | tenebant_29/verb\n",
      "                        └─ nsubj | qui_26/pronoun\n",
      "                        └─ cc | tum_27/coordinating_conjunction\n",
      "                        └─ obj | ea_28/pronoun\n",
      "                        └─ obj | loca_30/noun\n",
      "                        └─ advcl | concurrunt_40/verb\n",
      "                            └─ xcomp | armati_35/verb\n",
      "                                └─ ccomp | arcendam_32/verb\n",
      "                                    └─ mark | ad_31/adposition\n",
      "                                    └─ nsubj:pass | vim_33/noun\n",
      "                                        └─ nmod | advenarum_34/adjective\n",
      "                            └─ obl | urbe_37/noun\n",
      "                                └─ case | ex_36/adposition\n",
      "                                └─ conj | agris_39/noun\n",
      "                                    └─ cc | atque_38/coordinating_conjunction\n",
      "    └─ punct | ._41/punctuation\n"
     ]
    }
   ],
   "source": [
    "a_tree.print_tree()"
   ]
  },
  {
   "cell_type": "markdown",
   "metadata": {},
   "source": [
    "# Feature extraction <a name=\"features\"></a>\n",
    "\n",
    "The CLTK offers the function `cltk_doc_to_features_table()`, which assist users when preparing a `Doc` for training data for machine learning. It converts the list of `Word` objects at `Doc.words` into a tabular list of lists."
   ]
  },
  {
   "cell_type": "code",
   "execution_count": 37,
   "metadata": {},
   "outputs": [],
   "source": [
    "from cltk.utils.feature_extraction import cltk_doc_to_features_table"
   ]
  },
  {
   "cell_type": "code",
   "execution_count": 38,
   "metadata": {},
   "outputs": [],
   "source": [
    "feature_names, list_of_list_features = cltk_doc_to_features_table(cltk_doc=cltk_doc)"
   ]
  },
  {
   "cell_type": "code",
   "execution_count": 39,
   "metadata": {},
   "outputs": [
    {
     "name": "stdout",
     "output_type": "stream",
     "text": [
      "['string', 'lemma', 'embedding', 'is_stop', 'lemma', 'pos', 'case', 'gender', 'animacy', 'number', 'definiteness', 'degree', 'strength', 'verbform', 'tense', 'mood', 'aspect', 'voice', 'person', 'polarity', 'politeness', 'clusivity', 'evidentiality', 'strength', 'governing_word', 'governor_case', 'governor_gender', 'governor_animacy', 'governor_number', 'governor_definiteness', 'governor_degree', 'governor_strength', 'governor_verbform', 'governor_tense', 'governor_mood', 'governor_aspect', 'governor_voice', 'governor_person', 'governor_polarity', 'governor_politeness', 'governor_clusivity', 'governor_evidentiality', 'governor_strength', 'governing_relationship']\n"
     ]
    }
   ],
   "source": [
    "# See here the names of the features extracted\n",
    "print(feature_names)"
   ]
  },
  {
   "cell_type": "code",
   "execution_count": 40,
   "metadata": {},
   "outputs": [
    {
     "name": "stdout",
     "output_type": "stream",
     "text": [
      "Number tokens: 12532\n",
      "len() of feature instances (one for each token): 12532\n"
     ]
    }
   ],
   "source": [
    "# Number of \"inner lists\" matches number of tokens\n",
    "print(\"Number tokens:\", len(cltk_doc.words))\n",
    "print(\"len() of feature instances (one for each token):\", len(list_of_list_features))"
   ]
  },
  {
   "cell_type": "code",
   "execution_count": 41,
   "metadata": {},
   "outputs": [
    {
     "name": "stdout",
     "output_type": "stream",
     "text": [
      "[('string', 'maiora'),\n",
      " ('lemma', 'magnus'),\n",
      " ('embedding',\n",
      "  array([ 3.1152e-01, -1.1366e-01,  6.3455e-01, -1.6636e-01, -9.1715e-02,\n",
      "       -7.0006e-01,  4.9016e-03,  1.7313e-01, -6.2384e-01,  2.8915e-01,\n",
      "       -4.8178e-02,  5.8635e-01, -2.7733e-01, -6.0978e-02,  1.6089e-01,\n",
      "       -1.0762e-01, -1.0675e-01, -2.5978e-01,  5.8688e-02, -6.0002e-01,\n",
      "        8.6431e-02,  4.7491e-01,  9.2146e-01,  9.1792e-02, -2.0047e-01,\n",
      "        2.2253e-01,  1.1603e-01, -6.4243e-01, -2.9252e-01, -4.5801e-01,\n",
      "       -3.7719e-01, -3.1736e-01,  3.5512e-01, -2.3647e-01, -3.1892e-01,\n",
      "        4.8957e-01, -4.4562e-01, -2.6089e-01, -4.6476e-02,  7.4921e-02,\n",
      "       -1.5463e-01, -6.2637e-01,  1.5846e-01,  6.3803e-04,  2.2901e-01,\n",
      "        6.2800e-01, -6.1929e-02,  5.6568e-01, -2.5044e-01, -1.2341e-02,\n",
      "        2.2386e-02, -1.3362e-01, -1.5307e-01, -8.9683e-02, -2.0990e-01,\n",
      "        3.8610e-01,  6.7727e-02,  5.5898e-01, -3.3728e-02, -4.0117e-02,\n",
      "        1.0060e-01,  3.8961e-01, -7.0133e-01,  4.3337e-01,  1.2595e-01,\n",
      "        1.1682e-01, -3.3191e-01,  2.4866e-01, -6.1482e-02, -5.4690e-01,\n",
      "       -2.7344e-01,  7.3624e-02, -5.1398e-01, -1.7692e-01, -1.4090e-01,\n",
      "       -5.4318e-01,  4.3434e-03,  3.1342e-01,  3.4338e-01,  3.9168e-01,\n",
      "        9.3284e-03,  2.0589e-01,  1.5346e-01,  3.3980e-01, -7.8222e-02,\n",
      "       -6.8621e-01, -1.0523e-01, -3.5720e-01,  2.7520e-01,  8.9198e-02,\n",
      "        4.2804e-01, -3.2683e-01,  8.0086e-01,  4.3495e-01,  1.7656e-03,\n",
      "       -2.5357e-01, -1.5669e-01,  2.2959e-01,  5.7687e-01, -1.0885e-01,\n",
      "       -5.1911e-01,  6.0908e-01, -3.7910e-01,  1.3944e-01,  1.2334e-01,\n",
      "       -2.1239e-01, -1.8652e-01, -3.8179e-01, -3.3544e-01,  5.4770e-01,\n",
      "       -3.8801e-02,  3.2899e-01,  5.8946e-02, -3.8358e-01, -4.4114e-01,\n",
      "        1.1256e-01,  1.5681e-01,  3.2143e-01, -2.1736e-01,  3.4815e-01,\n",
      "       -2.5775e-01, -1.7242e-01,  1.6998e-01,  2.6894e-01, -3.4760e-01,\n",
      "        5.0055e-01, -5.4805e-01,  8.0738e-02, -2.9027e-01,  4.5141e-02,\n",
      "       -2.8556e-01,  8.1376e-01,  2.3927e-01, -4.1217e-01, -6.9265e-02,\n",
      "        1.6047e-02, -3.7872e-02,  5.1618e-01,  4.2614e-01,  3.3570e-01,\n",
      "       -1.2355e-01, -7.6949e-02, -7.3288e-02, -1.4657e-02, -1.2473e-01,\n",
      "        8.2909e-02, -3.5120e-01, -3.9094e-02,  4.0840e-01,  2.9907e-01,\n",
      "        3.5672e-01,  4.1052e-02,  4.8043e-02,  3.3616e-01,  2.5756e-01,\n",
      "        9.7676e-01, -5.9383e-02, -6.2851e-03,  1.2230e-01,  4.2815e-01,\n",
      "        1.1226e-01, -5.9469e-01,  3.0431e-01, -4.0575e-01, -2.0957e-01,\n",
      "        4.2973e-01,  4.8224e-01, -8.0424e-02, -4.7598e-01, -6.4831e-01,\n",
      "        2.2550e-01,  7.1280e-01,  2.7495e-01, -2.6095e-01, -4.0377e-01,\n",
      "        9.1994e-02, -6.5569e-01,  3.3060e-01, -1.2753e-01,  3.2387e-01,\n",
      "        7.3677e-02, -3.5392e-01, -2.5129e-01,  1.6267e-01, -1.9609e-01,\n",
      "       -2.2505e-01, -5.3972e-03, -3.2976e-01, -1.1914e-01, -2.4264e-01,\n",
      "       -2.5266e-01,  2.2936e-02,  3.3686e-01,  1.9754e-01, -1.4221e-01,\n",
      "        6.8148e-02,  4.5811e-01, -6.9638e-01,  7.2418e-02,  4.6759e-01,\n",
      "        3.6186e-01,  3.3123e-02,  3.8730e-01, -5.5204e-01, -2.5272e-01,\n",
      "       -3.9445e-01, -4.3357e-03, -1.1933e-01,  4.0752e-01, -4.5019e-01,\n",
      "       -3.1756e-01,  2.9138e-01, -2.1016e-01,  2.9001e-01,  1.2428e-01,\n",
      "        3.4070e-01, -2.6739e-01,  3.0322e-01, -1.6499e-01, -1.2014e-01,\n",
      "        4.5952e-01, -1.4093e-01, -2.6636e-02,  5.7416e-01,  1.9987e-02,\n",
      "        9.8707e-02, -9.7951e-02, -1.9353e-01, -4.5839e-05, -8.4690e-01,\n",
      "        1.4666e-02,  2.6296e-01, -3.2102e-01, -1.1538e-01,  4.0627e-02,\n",
      "       -1.6341e-01, -3.7202e-01,  3.8445e-01, -1.9397e-01, -1.6061e-03,\n",
      "       -5.5917e-01, -4.0296e-01, -1.8556e-01, -1.1023e-01, -5.1097e-01,\n",
      "        1.7025e-01,  4.2025e-01,  3.8786e-01,  3.8884e-02,  3.2658e-01,\n",
      "        1.4720e-01, -2.5552e-01,  8.6951e-02,  5.9380e-01, -3.9981e-01,\n",
      "       -7.2364e-02,  3.4658e-02,  6.2555e-01, -4.9655e-01, -2.3079e-01,\n",
      "        3.0377e-02,  5.2873e-01, -4.7625e-02, -5.6178e-01, -6.6014e-01,\n",
      "        3.9436e-02,  9.2525e-02, -8.6221e-02,  1.9377e-01,  2.7953e-01,\n",
      "        1.7083e-01, -1.8381e-01,  2.4600e-01,  1.4654e-01,  3.9167e-01,\n",
      "        2.6222e-01,  2.9305e-01, -1.7107e-01,  4.2370e-01,  1.0550e-01,\n",
      "        3.5827e-01,  3.8411e-03, -2.2748e-01, -6.8487e-01, -1.6099e-01,\n",
      "       -1.2896e-03,  5.9604e-01,  2.1715e-01,  9.3006e-02,  3.9563e-01,\n",
      "       -5.1543e-01, -1.4891e-01,  1.4221e-01, -1.2079e-01, -5.5146e-01,\n",
      "       -1.2014e-02, -7.3353e-01,  4.9825e-02, -2.5167e-03, -5.6447e-01],\n",
      "      dtype=float32)),\n",
      " ('is_stop', False),\n",
      " ('lemma', None),\n",
      " ('pos', 'adjective'),\n",
      " ('case', 'accusative'),\n",
      " ('gender', 'neuter'),\n",
      " ('animacy', None),\n",
      " ('number', 'plural'),\n",
      " ('definiteness', None),\n",
      " ('degree', 'comparative'),\n",
      " ('strength', None),\n",
      " ('verbform', None),\n",
      " ('tense', None),\n",
      " ('mood', None),\n",
      " ('aspect', None),\n",
      " ('voice', None),\n",
      " ('person', None),\n",
      " ('polarity', None),\n",
      " ('politeness', None),\n",
      " ('clusivity', None),\n",
      " ('evidentiality', None),\n",
      " ('strength', None),\n",
      " ('governing_word', 'noun'),\n",
      " ('governor_case', 'accusative'),\n",
      " ('governor_gender', 'neuter'),\n",
      " ('governor_animacy', None),\n",
      " ('governor_number', 'plural'),\n",
      " ('governor_definiteness', None),\n",
      " ('governor_degree', None),\n",
      " ('governor_strength', None),\n",
      " ('governor_verbform', None),\n",
      " ('governor_tense', None),\n",
      " ('governor_mood', None),\n",
      " ('governor_aspect', None),\n",
      " ('governor_voice', None),\n",
      " ('governor_person', None),\n",
      " ('governor_polarity', None),\n",
      " ('governor_politeness', None),\n",
      " ('governor_clusivity', None),\n",
      " ('governor_evidentiality', None),\n",
      " ('governor_strength', None),\n",
      " ('governing_relationship', 'amod')]\n"
     ]
    }
   ],
   "source": [
    "# Look at one row of data `(variable name, variable value)`\n",
    "pprint(list(zip(feature_names, list_of_list_features[108])))"
   ]
  },
  {
   "cell_type": "markdown",
   "metadata": {},
   "source": [
    "# Brief demonstration of `NLP()` for Ancient Greek <a name=\"greek-nlp\"></a>\n",
    "\n",
    "The API for Greek is the same as Latin."
   ]
  },
  {
   "cell_type": "code",
   "execution_count": 42,
   "metadata": {},
   "outputs": [],
   "source": [
    "# read the Ancient Greek file\n",
    "with open(\"grc-thucydides.txt\") as fo:\n",
    "    thucydides_full = fo.read()"
   ]
  },
  {
   "cell_type": "code",
   "execution_count": 43,
   "metadata": {},
   "outputs": [
    {
     "name": "stdout",
     "output_type": "stream",
     "text": [
      "Text snippet: Θουκυδίδης Ἀθηναῖος ξυνέγραψε τὸν πόλεμον τῶν Πελοποννησίων καὶ Ἀθηναίων, ὡς ἐπολέμησαν πρὸς ἀλλήλους, ἀρξάμενος εὐθὺς καθισταμένου καὶ ἐλπίσας μέγαν τε ἔσεσθαι καὶ ἀξιολογώτατον τῶν προγεγενημένων, τ\n",
      "Character count: 470056\n",
      "Approximate token count: 72619\n"
     ]
    }
   ],
   "source": [
    "print(\"Text snippet:\", thucydides_full[0:200])\n",
    "print(\"Character count:\", len(thucydides_full))\n",
    "print(\"Approximate token count:\", len(thucydides_full.split()))"
   ]
  },
  {
   "cell_type": "code",
   "execution_count": 44,
   "metadata": {},
   "outputs": [
    {
     "data": {
      "text/plain": [
       "67150"
      ]
     },
     "execution_count": 44,
     "metadata": {},
     "output_type": "execute_result"
    }
   ],
   "source": [
    "len(thucydides_full) // 7"
   ]
  },
  {
   "cell_type": "code",
   "execution_count": 45,
   "metadata": {},
   "outputs": [
    {
     "name": "stdout",
     "output_type": "stream",
     "text": [
      "Approximate token count: 10309\n"
     ]
    }
   ],
   "source": [
    "# Cut this down to roughly 10k tokens for this demonstration's purposes\n",
    "thucydides = thucydides_full[:len(thucydides_full) // 7]\n",
    "print(\"Approximate token count:\", len(thucydides.split()))"
   ]
  },
  {
   "cell_type": "code",
   "execution_count": 46,
   "metadata": {},
   "outputs": [
    {
     "data": {
      "text/plain": [
       "'Θουκυδίδης Ἀθηναῖος ξυνέγραψε τὸν πόλεμον τῶν Πελοποννησίων καὶ Ἀθηναίων, ὡς ἐπολέμησαν πρὸς ἀλλήλους, ἀρξάμενος εὐθὺς καθισταμένου καὶ ἐλπίσας μέγαν τε ἔσεσθαι καὶ ἀξιολογώτατον τῶν προγεγενημένων, τ'"
      ]
     },
     "execution_count": 46,
     "metadata": {},
     "output_type": "execute_result"
    }
   ],
   "source": [
    "thucydides[:200]"
   ]
  },
  {
   "cell_type": "code",
   "execution_count": 47,
   "metadata": {},
   "outputs": [
    {
     "name": "stdout",
     "output_type": "stream",
     "text": [
      "‎𐤀 CLTK version '1.1.3'.\n",
      "Pipeline for language 'Ancient Greek' (ISO: 'grc'): `GreekNormalizeProcess`, `GreekStanzaProcess`, `GreekEmbeddingsProcess`, `StopsProcess`.\n"
     ]
    }
   ],
   "source": [
    "cltk_nlp_grc = NLP(language=\"grc\")"
   ]
  },
  {
   "cell_type": "code",
   "execution_count": 48,
   "metadata": {},
   "outputs": [
    {
     "name": "stdout",
     "output_type": "stream",
     "text": [
      "CPU times: user 9.17 s, sys: 147 ms, total: 9.32 s\n",
      "Wall time: 8.97 s\n"
     ]
    }
   ],
   "source": [
    "# Execution time is 50 sec on a 2015 Macbook Pro\n",
    "%time cltk_doc_grc = cltk_nlp_grc.analyze(text=thucydides)\n",
    "\n",
    "# You will be asked to download some models (from CLTK, fastText, and Stanza)"
   ]
  },
  {
   "cell_type": "code",
   "execution_count": 49,
   "metadata": {},
   "outputs": [
    {
     "name": "stdout",
     "output_type": "stream",
     "text": [
      "`Doc.tokens`: ['Θουκυδίδης', 'Ἀθηναῖος', 'ξυνέγραψε', 'τὸν', 'πόλεμον', 'τῶν', 'Πελοποννησίων', 'καὶ', 'Ἀθηναίων,', 'ὡς', 'ἐπολέμησαν', 'πρὸς', 'ἀλλήλους,', 'ἀρξάμενος', 'εὐθὺς', 'καθισταμένου', 'καὶ', 'ἐλπίσας', 'μέγαν', 'τε']\n"
     ]
    }
   ],
   "source": [
    "print(\"`Doc.tokens`:\", cltk_doc_grc.tokens[:20])"
   ]
  },
  {
   "cell_type": "code",
   "execution_count": 50,
   "metadata": {},
   "outputs": [
    {
     "name": "stdout",
     "output_type": "stream",
     "text": [
      "Word(index_char_start=None, index_char_stop=None, index_token=4, index_sentence=0, string='πόλεμον', pos=noun, lemma='πόλεμος', stem=None, scansion=None, xpos='Nb', upos='NOUN', dependency_relation='obj', governor=2, features={Case: [accusative], Gender: [masculine], Number: [singular]}, category={F: [neg], N: [pos], V: [neg]}, stop=False, named_entity=None, syllables=None, phonetic_transcription=None, definition=None)\n"
     ]
    }
   ],
   "source": [
    "print(cltk_doc_grc.words[4])  # πόλεμον ('war')"
   ]
  },
  {
   "cell_type": "code",
   "execution_count": 51,
   "metadata": {},
   "outputs": [],
   "source": [
    "a_tree_grc = DependencyTree.to_tree(cltk_doc_grc.sentences[0])  #81"
   ]
  },
  {
   "cell_type": "code",
   "execution_count": 52,
   "metadata": {},
   "outputs": [
    {
     "name": "stdout",
     "output_type": "stream",
     "text": [
      "[appos(Θουκυδίδης_0/proper_noun, Ἀθηναῖος_1/adjective),\n",
      " nsubj(ξυνέγραψε_2/verb, Θουκυδίδης_0/proper_noun),\n",
      " det(πόλεμον_4/noun, τὸν_3/determiner),\n",
      " det(Πελοποννησίων_6/adjective, τῶν_5/determiner),\n",
      " cc(Πελοποννησίων_6/adjective, καὶ_7/coordinating_conjunction),\n",
      " conj(Πελοποννησίων_6/adjective, Ἀθηναίων,_8/adjective),\n",
      " nmod(πόλεμον_4/noun, Πελοποννησίων_6/adjective),\n",
      " obj(ξυνέγραψε_2/verb, πόλεμον_4/noun),\n",
      " mark(ἐπολέμησαν_10/verb, ὡς_9/subordinating_conjunction),\n",
      " case(ἀλλήλους,_12/adjective, πρὸς_11/adposition),\n",
      " obl(ἐπολέμησαν_10/verb, ἀλλήλους,_12/adjective),\n",
      " advcl(ἐπολέμησαν_10/verb, ἀρξάμενος_13/verb),\n",
      " advcl(ἐπολέμησαν_10/verb, καθισταμένου_15/verb),\n",
      " advcl(ἐπολέμησαν_10/verb, ἐλπίσας_17/verb),\n",
      " advmod(καθισταμένου_15/verb, εὐθὺς_14/adverb),\n",
      " cc(καθισταμένου_15/verb, καὶ_16/coordinating_conjunction),\n",
      " advcl(ἐπολέμησαν_10/verb, ἀρξάμενος_13/verb),\n",
      " advcl(ἐπολέμησαν_10/verb, καθισταμένου_15/verb),\n",
      " advcl(ἐπολέμησαν_10/verb, ἐλπίσας_17/verb),\n",
      " cc(μέγαν_18/adjective, τε_19/coordinating_conjunction),\n",
      " cc(μέγαν_18/adjective, καὶ_21/coordinating_conjunction),\n",
      " cop(μέγαν_18/adjective, ἔσεσθαι_20/auxiliary),\n",
      " cc(μέγαν_18/adjective, τε_19/coordinating_conjunction),\n",
      " cc(μέγαν_18/adjective, καὶ_21/coordinating_conjunction),\n",
      " det(προγεγενημένων,_24/verb, τῶν_23/determiner),\n",
      " iobj(ἀξιολογώτατον_22/adjective, προγεγενημένων,_24/verb),\n",
      " conj(μέγαν_18/adjective, ἀξιολογώτατον_22/adjective),\n",
      " ccomp(ἐλπίσας_17/verb, μέγαν_18/adjective),\n",
      " mark(ᾖσαν_29/verb, ὅτι_26/subordinating_conjunction),\n",
      " advcl(ᾖσαν_29/verb, ἀκμάζοντές_27/verb),\n",
      " advcl(ᾖσαν_29/verb, ὁρῶν_40/verb),\n",
      " cc(ᾖσαν_29/verb, τε_28/coordinating_conjunction),\n",
      " cc(ᾖσαν_29/verb, καὶ_36/coordinating_conjunction),\n",
      " case(αὐτὸν_31/pronoun, ἐς_30/adposition),\n",
      " obl(ᾖσαν_29/verb, αὐτὸν_31/pronoun),\n",
      " obl(ᾖσαν_29/verb, παρασκευῇ_33/noun),\n",
      " nsubj(ᾖσαν_29/verb, ἀμφότεροι_32/adjective),\n",
      " det(παρασκευῇ_33/noun, τῇ_34/determiner),\n",
      " det(παρασκευῇ_33/noun, πάσῃ_35/determiner),\n",
      " det(παρασκευῇ_33/noun, τῇ_34/determiner),\n",
      " det(παρασκευῇ_33/noun, πάσῃ_35/determiner),\n",
      " obl(ᾖσαν_29/verb, αὐτὸν_31/pronoun),\n",
      " obl(ᾖσαν_29/verb, παρασκευῇ_33/noun),\n",
      " cc(ᾖσαν_29/verb, τε_28/coordinating_conjunction),\n",
      " cc(ᾖσαν_29/verb, καὶ_36/coordinating_conjunction),\n",
      " det(Ἑλληνικὸν_39/adjective, τὸ_37/determiner),\n",
      " amod(Ἑλληνικὸν_39/adjective, ἄλλο_38/adjective),\n",
      " obj(ὁρῶν_40/verb, Ἑλληνικὸν_39/adjective),\n",
      " case(ἑκατέρους,_43/adjective, πρὸς_42/adposition),\n",
      " obl(ξυνιστάμενον_41/verb, ἑκατέρους,_43/adjective),\n",
      " det(εὐθύς,_46/adverb, τὸ_44/determiner),\n",
      " discourse(εὐθύς,_46/adverb, μὲν_45/adverb),\n",
      " det(διανοούμενον._50/verb, τὸ_47/determiner),\n",
      " discourse(διανοούμενον._50/verb, δὲ_48/adverb),\n",
      " advmod(διανοούμενον._50/verb, καὶ_49/adverb),\n",
      " conj(εὐθύς,_46/adverb, διανοούμενον._50/verb),\n",
      " advmod(ξυνιστάμενον_41/verb, εὐθύς,_46/adverb),\n",
      " xcomp(ὁρῶν_40/verb, ξυνιστάμενον_41/verb),\n",
      " advcl(ᾖσαν_29/verb, ἀκμάζοντές_27/verb),\n",
      " advcl(ᾖσαν_29/verb, ὁρῶν_40/verb),\n",
      " ccomp(τεκμαιρόμενος_25/verb, ᾖσαν_29/verb),\n",
      " advcl(ἐλπίσας_17/verb, τεκμαιρόμενος_25/verb),\n",
      " advcl(ἐπολέμησαν_10/verb, ἀρξάμενος_13/verb),\n",
      " advcl(ἐπολέμησαν_10/verb, καθισταμένου_15/verb),\n",
      " advcl(ἐπολέμησαν_10/verb, ἐλπίσας_17/verb),\n",
      " advcl(ξυνέγραψε_2/verb, ἐπολέμησαν_10/verb),\n",
      " root(None, ξυνέγραψε_2/verb)]\n"
     ]
    }
   ],
   "source": [
    "pprint(a_tree_grc.get_dependencies())"
   ]
  },
  {
   "cell_type": "code",
   "execution_count": 53,
   "metadata": {},
   "outputs": [
    {
     "name": "stdout",
     "output_type": "stream",
     "text": [
      "Θουκυδίδης Ἀθηναῖος ξυνέγραψε τὸν πόλεμον τῶν Πελοποννησίων καὶ Ἀθηναίων, ὡς ἐπολέμησαν πρὸς ἀλλήλους, ἀρξάμενος εὐθὺς καθισταμένου καὶ ἐλπίσας μέγαν τε ἔσεσθαι καὶ ἀξιολογώτατον τῶν προγεγενημένων, τεκμαιρόμενος ὅτι ἀκμάζοντές τε ᾖσαν ἐς αὐτὸν ἀμφότεροι παρασκευῇ τῇ πάσῃ καὶ τὸ ἄλλο Ἑλληνικὸν ὁρῶν ξυνιστάμενον πρὸς ἑκατέρους, τὸ μὲν εὐθύς, τὸ δὲ καὶ διανοούμενον.\n",
      "\n",
      "Translation: Thucydides, an Athenian, wrote the history of the war between the Peloponnesians and the Athenians, beginning at the moment that it broke out, and believing that it would be a great war, and more worthy of relation than any that had preceded it. This belief was not without its grounds. The preparations of both the combatants were in every department in the last state of perfection; and he could see the rest of the Hellenic race taking sides in the quarrel; those who delayed doing so at once having it in contemplation.\n",
      "\n",
      "root | ξυνέγραψε_2/verb\n",
      "    └─ nsubj | Θουκυδίδης_0/proper_noun\n",
      "        └─ appos | Ἀθηναῖος_1/adjective\n",
      "    └─ obj | πόλεμον_4/noun\n",
      "        └─ det | τὸν_3/determiner\n",
      "        └─ nmod | Πελοποννησίων_6/adjective\n",
      "            └─ det | τῶν_5/determiner\n",
      "            └─ cc | καὶ_7/coordinating_conjunction\n",
      "            └─ conj | Ἀθηναίων,_8/adjective\n",
      "    └─ advcl | ἐπολέμησαν_10/verb\n",
      "        └─ mark | ὡς_9/subordinating_conjunction\n",
      "        └─ obl | ἀλλήλους,_12/adjective\n",
      "            └─ case | πρὸς_11/adposition\n",
      "        └─ advcl | ἀρξάμενος_13/verb\n",
      "        └─ advcl | καθισταμένου_15/verb\n",
      "            └─ advmod | εὐθὺς_14/adverb\n",
      "            └─ cc | καὶ_16/coordinating_conjunction\n",
      "        └─ advcl | ἐλπίσας_17/verb\n",
      "            └─ ccomp | μέγαν_18/adjective\n",
      "                └─ cc | τε_19/coordinating_conjunction\n",
      "                └─ cop | ἔσεσθαι_20/auxiliary\n",
      "                └─ cc | καὶ_21/coordinating_conjunction\n",
      "                └─ conj | ἀξιολογώτατον_22/adjective\n",
      "                    └─ iobj | προγεγενημένων,_24/verb\n",
      "                        └─ det | τῶν_23/determiner\n",
      "            └─ advcl | τεκμαιρόμενος_25/verb\n",
      "                └─ ccomp | ᾖσαν_29/verb\n",
      "                    └─ mark | ὅτι_26/subordinating_conjunction\n",
      "                    └─ advcl | ἀκμάζοντές_27/verb\n",
      "                    └─ cc | τε_28/coordinating_conjunction\n",
      "                    └─ obl | αὐτὸν_31/pronoun\n",
      "                        └─ case | ἐς_30/adposition\n",
      "                    └─ nsubj | ἀμφότεροι_32/adjective\n",
      "                    └─ obl | παρασκευῇ_33/noun\n",
      "                        └─ det | τῇ_34/determiner\n",
      "                        └─ det | πάσῃ_35/determiner\n",
      "                    └─ cc | καὶ_36/coordinating_conjunction\n",
      "                    └─ advcl | ὁρῶν_40/verb\n",
      "                        └─ obj | Ἑλληνικὸν_39/adjective\n",
      "                            └─ det | τὸ_37/determiner\n",
      "                            └─ amod | ἄλλο_38/adjective\n",
      "                        └─ xcomp | ξυνιστάμενον_41/verb\n",
      "                            └─ obl | ἑκατέρους,_43/adjective\n",
      "                                └─ case | πρὸς_42/adposition\n",
      "                            └─ advmod | εὐθύς,_46/adverb\n",
      "                                └─ det | τὸ_44/determiner\n",
      "                                └─ discourse | μὲν_45/adverb\n",
      "                                └─ conj | διανοούμενον._50/verb\n",
      "                                    └─ det | τὸ_47/determiner\n",
      "                                    └─ discourse | δὲ_48/adverb\n",
      "                                    └─ advmod | καὶ_49/adverb\n"
     ]
    }
   ],
   "source": [
    "print(cltk_doc_grc.sentences_strings[0])\n",
    "print(\"\")\n",
    "print(\"Translation:\", \"Thucydides, an Athenian, wrote the history of the war between the Peloponnesians and the Athenians, beginning at the moment that it broke out, and believing that it would be a great war, and more worthy of relation than any that had preceded it. This belief was not without its grounds. The preparations of both the combatants were in every department in the last state of perfection; and he could see the rest of the Hellenic race taking sides in the quarrel; those who delayed doing so at once having it in contemplation.\")\n",
    "print(\"\")\n",
    "a_tree_grc.print_tree()"
   ]
  },
  {
   "cell_type": "code",
   "execution_count": 54,
   "metadata": {},
   "outputs": [],
   "source": [
    "feature_names_grc, list_of_list_features_grc = cltk_doc_to_features_table(cltk_doc=cltk_doc_grc)"
   ]
  },
  {
   "cell_type": "code",
   "execution_count": 55,
   "metadata": {},
   "outputs": [
    {
     "name": "stdout",
     "output_type": "stream",
     "text": [
      "['string', 'lemma', 'embedding', 'is_stop', 'lemma', 'pos', 'case', 'gender', 'animacy', 'number', 'definiteness', 'degree', 'strength', 'verbform', 'tense', 'mood', 'aspect', 'voice', 'person', 'polarity', 'politeness', 'clusivity', 'evidentiality', 'strength', 'governing_word', 'governor_case', 'governor_gender', 'governor_animacy', 'governor_number', 'governor_definiteness', 'governor_degree', 'governor_strength', 'governor_verbform', 'governor_tense', 'governor_mood', 'governor_aspect', 'governor_voice', 'governor_person', 'governor_polarity', 'governor_politeness', 'governor_clusivity', 'governor_evidentiality', 'governor_strength', 'governing_relationship']\n"
     ]
    }
   ],
   "source": [
    "print(feature_names_grc)"
   ]
  },
  {
   "cell_type": "code",
   "execution_count": 56,
   "metadata": {},
   "outputs": [
    {
     "name": "stdout",
     "output_type": "stream",
     "text": [
      "len() of feature instances (one for each token): 10514\n",
      "\n",
      "Example of one instance row: ['πόλεμον', 'πόλεμος', array([ 0.026979, -0.201583,  0.403359, -0.283483, -0.009569, -0.199355,\n",
      "        0.045749,  0.004704,  0.142157,  0.256203,  0.597056,  0.051038,\n",
      "       -0.163049, -0.373365,  0.036745, -0.091862,  0.297455,  0.215132,\n",
      "        0.038652, -0.162991, -0.365283, -0.290551,  0.702512, -0.229625,\n",
      "        0.36157 , -0.160029,  0.142917, -0.015726,  0.27188 ,  0.122487,\n",
      "        0.138659,  0.046546,  0.257647,  0.176612, -0.379691, -0.106146,\n",
      "       -0.111118, -0.351822, -0.149012,  0.266751,  0.07048 ,  0.036137,\n",
      "       -0.087169, -0.609234,  0.015767,  0.18534 ,  0.090315, -0.163389,\n",
      "        0.080256, -0.213097, -0.208633, -0.153822, -0.126109,  0.170786,\n",
      "        0.364725, -0.21801 ,  0.445456, -0.046112,  0.442441, -0.444369,\n",
      "        0.045849, -0.107836,  0.046578, -0.171076,  0.377415,  0.554179,\n",
      "        0.566092, -0.06977 ,  0.598988,  0.273217, -0.489505,  0.067709,\n",
      "       -0.388921,  0.130601, -0.258088,  0.148842, -0.084431, -0.047634,\n",
      "       -0.408875, -0.238176,  0.294434,  0.403161, -0.07442 , -0.190949,\n",
      "        0.319847,  0.464637,  0.236608,  0.51176 , -0.237943,  0.48451 ,\n",
      "        0.431031,  0.245301, -0.133887,  0.217031,  0.37271 , -0.429012,\n",
      "       -0.230234, -0.193362, -0.053467, -0.173879], dtype=float32), False, None, 'noun', 'accusative', 'masculine', None, 'singular', None, None, None, None, None, None, None, None, None, None, None, None, None, None, 'verb', None, None, None, 'singular', None, None, None, 'finite', 'past', 'indicative', 'perfective', 'active', 'third', None, None, None, None, None, 'obj']\n"
     ]
    }
   ],
   "source": [
    "print(\"len() of feature instances (one for each token):\", len(list_of_list_features_grc))\n",
    "print(\"\")\n",
    "print(\"Example of one instance row:\", list_of_list_features_grc[4])"
   ]
  },
  {
   "cell_type": "code",
   "execution_count": 57,
   "metadata": {},
   "outputs": [
    {
     "name": "stdout",
     "output_type": "stream",
     "text": [
      "[('string', 'πόλεμον'),\n",
      " ('lemma', 'πόλεμος'),\n",
      " ('embedding',\n",
      "  array([ 0.026979, -0.201583,  0.403359, -0.283483, -0.009569, -0.199355,\n",
      "        0.045749,  0.004704,  0.142157,  0.256203,  0.597056,  0.051038,\n",
      "       -0.163049, -0.373365,  0.036745, -0.091862,  0.297455,  0.215132,\n",
      "        0.038652, -0.162991, -0.365283, -0.290551,  0.702512, -0.229625,\n",
      "        0.36157 , -0.160029,  0.142917, -0.015726,  0.27188 ,  0.122487,\n",
      "        0.138659,  0.046546,  0.257647,  0.176612, -0.379691, -0.106146,\n",
      "       -0.111118, -0.351822, -0.149012,  0.266751,  0.07048 ,  0.036137,\n",
      "       -0.087169, -0.609234,  0.015767,  0.18534 ,  0.090315, -0.163389,\n",
      "        0.080256, -0.213097, -0.208633, -0.153822, -0.126109,  0.170786,\n",
      "        0.364725, -0.21801 ,  0.445456, -0.046112,  0.442441, -0.444369,\n",
      "        0.045849, -0.107836,  0.046578, -0.171076,  0.377415,  0.554179,\n",
      "        0.566092, -0.06977 ,  0.598988,  0.273217, -0.489505,  0.067709,\n",
      "       -0.388921,  0.130601, -0.258088,  0.148842, -0.084431, -0.047634,\n",
      "       -0.408875, -0.238176,  0.294434,  0.403161, -0.07442 , -0.190949,\n",
      "        0.319847,  0.464637,  0.236608,  0.51176 , -0.237943,  0.48451 ,\n",
      "        0.431031,  0.245301, -0.133887,  0.217031,  0.37271 , -0.429012,\n",
      "       -0.230234, -0.193362, -0.053467, -0.173879], dtype=float32)),\n",
      " ('is_stop', False),\n",
      " ('lemma', None),\n",
      " ('pos', 'noun'),\n",
      " ('case', 'accusative'),\n",
      " ('gender', 'masculine'),\n",
      " ('animacy', None),\n",
      " ('number', 'singular'),\n",
      " ('definiteness', None),\n",
      " ('degree', None),\n",
      " ('strength', None),\n",
      " ('verbform', None),\n",
      " ('tense', None),\n",
      " ('mood', None),\n",
      " ('aspect', None),\n",
      " ('voice', None),\n",
      " ('person', None),\n",
      " ('polarity', None),\n",
      " ('politeness', None),\n",
      " ('clusivity', None),\n",
      " ('evidentiality', None),\n",
      " ('strength', None),\n",
      " ('governing_word', 'verb'),\n",
      " ('governor_case', None),\n",
      " ('governor_gender', None),\n",
      " ('governor_animacy', None),\n",
      " ('governor_number', 'singular'),\n",
      " ('governor_definiteness', None),\n",
      " ('governor_degree', None),\n",
      " ('governor_strength', None),\n",
      " ('governor_verbform', 'finite'),\n",
      " ('governor_tense', 'past'),\n",
      " ('governor_mood', 'indicative'),\n",
      " ('governor_aspect', 'perfective'),\n",
      " ('governor_voice', 'active'),\n",
      " ('governor_person', 'third'),\n",
      " ('governor_polarity', None),\n",
      " ('governor_politeness', None),\n",
      " ('governor_clusivity', None),\n",
      " ('governor_evidentiality', None),\n",
      " ('governor_strength', None),\n",
      " ('governing_relationship', 'obj')]\n"
     ]
    }
   ],
   "source": [
    "# Putting these together for easier reading\n",
    "pprint(list(zip(feature_names_grc, list_of_list_features_grc[4])))"
   ]
  }
 ],
 "metadata": {
  "kernelspec": {
   "display_name": "Python 3 (ipykernel)",
   "language": "python",
   "name": "python3"
  },
  "language_info": {
   "codemirror_mode": {
    "name": "ipython",
    "version": 3
   },
   "file_extension": ".py",
   "mimetype": "text/x-python",
   "name": "python",
   "nbconvert_exporter": "python",
   "pygments_lexer": "ipython3",
   "version": "3.10.5"
  }
 },
 "nbformat": 4,
 "nbformat_minor": 4
}

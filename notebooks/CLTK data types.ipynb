{
 "cells": [
  {
   "cell_type": "markdown",
   "metadata": {},
   "source": [
    "1. [`Language`](#language)\n",
    "1. [`Doc`](#doc)\n",
    "1. [`Process`](#process)\n",
    "1. [`Pipeline`](#pipeline)\n",
    "1. [`MorphosyntacticFeature`](#morpho)\n",
    "1. [`MorphosyntacticFeatureBundle`](#morpho-bundle)\n",
    "1. [`Form`](#form)\n",
    "1. [`DecisionTree`](#dt)"
   ]
  },
  {
   "cell_type": "markdown",
   "metadata": {},
   "source": [
    "# `Language` <a name=\"language\"></a>\n",
    "\n",
    "`Language` are used to identify each language and keep track of their attributes (lat-long, 3-letter ISO code, etc.). Users do not normally need to create these themselves, though this type could be extended to distinguish dialects."
   ]
  },
  {
   "cell_type": "code",
   "execution_count": 1,
   "metadata": {},
   "outputs": [],
   "source": [
    "from cltk.core.data_types import Language"
   ]
  },
  {
   "cell_type": "code",
   "execution_count": 2,
   "metadata": {},
   "outputs": [
    {
     "data": {
      "text/plain": [
       "Language(name='Classical Mongolian', glottolog_id='', latitude=0.0, longitude=0.0, dates=[], family_id='', parent_id='', level='', iso_639_3_code='cmg', type='h')"
      ]
     },
     "execution_count": 2,
     "metadata": {},
     "output_type": "execute_result"
    }
   ],
   "source": [
    "Language(\n",
    "    name=\"Classical Mongolian\",\n",
    "    glottolog_id=\"\",\n",
    "    latitude=0.0,\n",
    "    longitude=0.0,\n",
    "    dates=[],\n",
    "    family_id=\"\",\n",
    "    parent_id=\"\",\n",
    "    level=\"\",\n",
    "    iso_639_3_code=\"cmg\",\n",
    "    type=\"h\",\n",
    ")"
   ]
  },
  {
   "cell_type": "code",
   "execution_count": 3,
   "metadata": {},
   "outputs": [],
   "source": [
    "from cltk.languages.glottolog import LANGUAGES"
   ]
  },
  {
   "cell_type": "code",
   "execution_count": 4,
   "metadata": {},
   "outputs": [
    {
     "name": "stdout",
     "output_type": "stream",
     "text": [
      "Language(name='Middle High German', glottolog_id='midd1343', latitude=0.0, longitude=0.0, dates=[], family_id='indo1319', parent_id='midd1349', level='language', iso_639_3_code='gmh', type='h')\n"
     ]
    }
   ],
   "source": [
    "print(LANGUAGES[\"gmh\"])"
   ]
  },
  {
   "cell_type": "markdown",
   "metadata": {},
   "source": [
    "The following records all pre-modern languages as identified by the [Glottolog project](http://glottolog.org)."
   ]
  },
  {
   "cell_type": "code",
   "execution_count": 5,
   "metadata": {
    "scrolled": false
   },
   "outputs": [
    {
     "name": "stdout",
     "output_type": "stream",
     "text": [
      "[('Aequian', 'xae'),\n",
      " ('Aghwan', 'xag'),\n",
      " ('Akkadian', 'akk'),\n",
      " ('Alanic', 'xln'),\n",
      " ('Ancient Greek', 'grc'),\n",
      " ('Ancient Hebrew', 'hbo'),\n",
      " ('Ancient Ligurian', 'xlg'),\n",
      " ('Ancient Macedonian', 'xmk'),\n",
      " ('Ancient North Arabian', 'xna'),\n",
      " ('Ancient Zapotec', 'xzp'),\n",
      " ('Andalusian Arabic', 'xaa'),\n",
      " ('Anglo-Norman', 'xno'),\n",
      " ('Aquitanian', 'xaq'),\n",
      " ('Ardhamāgadhī Prākrit', 'pka'),\n",
      " ('Armazic', 'xrm'),\n",
      " ('Avestan', 'ave'),\n",
      " ('Bactrian', 'xbc'),\n",
      " ('Bengali', 'ben'),\n",
      " ('Bolgarian', 'xbo'),\n",
      " ('Burma Pyu', 'pyx'),\n",
      " ('Camunic', 'xcc'),\n",
      " ('Carian', 'xcr'),\n",
      " ('Celtiberian', 'xce'),\n",
      " ('Church Slavic', 'chu'),\n",
      " ('Cisalpine Gaulish', 'xcg'),\n",
      " ('Classical Armenian', 'xcl'),\n",
      " ('Classical Mandaic', 'myz'),\n",
      " ('Classical Mongolian', 'cmg'),\n",
      " ('Classical Nahuatl', 'nci'),\n",
      " ('Classical Newari', 'nwc'),\n",
      " ('Classical Quechua', 'qwc'),\n",
      " ('Classical Syriac', 'syc'),\n",
      " ('Classical Tibetan', 'xct'),\n",
      " ('Coptic', 'cop'),\n",
      " ('Cumbric', 'xcb'),\n",
      " ('Cuneiform Luwian', 'xlu'),\n",
      " ('Curonian', 'xcu'),\n",
      " ('Dacian', 'xdc'),\n",
      " ('Early Irish', 'sga'),\n",
      " ('Early Tripuri', 'xtr'),\n",
      " ('Eastern Panjabi', 'pan'),\n",
      " ('Eblaite', 'xeb'),\n",
      " ('Edomite', 'xdm'),\n",
      " ('Egyptian (Ancient)', 'egy'),\n",
      " ('Elamite', 'elx'),\n",
      " ('Elymian', 'xly'),\n",
      " ('Epi-Olmec', 'xep'),\n",
      " ('Epigraphic Mayan', 'emy'),\n",
      " ('Eteocretan', 'ecr'),\n",
      " ('Eteocypriot', 'ecy'),\n",
      " ('Etruscan', 'ett'),\n",
      " ('Faliscan', 'xfa'),\n",
      " ('Galatian', 'xga'),\n",
      " ('Galindan', 'xgl'),\n",
      " ('Geez', 'gez'),\n",
      " ('Gothic', 'got'),\n",
      " ('Gujarati', 'guj'),\n",
      " ('Gāndhārī', 'pgd'),\n",
      " ('Hadrami', 'xhd'),\n",
      " ('Harami', 'xha'),\n",
      " ('Harappan', 'xiv'),\n",
      " ('Hattic', 'xht'),\n",
      " ('Hernican', 'xhr'),\n",
      " ('Hiberno-Scottish Gaelic', 'ghc'),\n",
      " ('Hieroglyphic Luwian', 'hlu'),\n",
      " ('Hindi', 'hin'),\n",
      " ('Hittite', 'hit'),\n",
      " ('Hunnic', 'xhc'),\n",
      " ('Hurrian', 'xhu'),\n",
      " ('Iberian', 'xib'),\n",
      " ('Illyrian', 'xil'),\n",
      " ('Jutish', 'jut'),\n",
      " ('Kajkavian', 'kjv'),\n",
      " ('Kannada', 'kan'),\n",
      " ('Kara (Korea)', 'zra'),\n",
      " ('Karakhanid', 'xqa'),\n",
      " ('Kaskean', 'zsk'),\n",
      " ('Kawi', 'kaw'),\n",
      " ('Khazar', 'zkz'),\n",
      " ('Khorezmian', 'zkh'),\n",
      " ('Khotanese', 'kho'),\n",
      " ('Khwarezmian', 'xco'),\n",
      " ('Kitan', 'zkt'),\n",
      " ('Koguryo', 'zkg'),\n",
      " ('Langobardic', 'lng'),\n",
      " ('Latin', 'lat'),\n",
      " ('Lemnian', 'xle'),\n",
      " ('Lepontic', 'xlp'),\n",
      " ('Liburnian', 'xli'),\n",
      " ('Linear A', 'lab'),\n",
      " ('Literary Chinese', 'lzh'),\n",
      " ('Lusitanian', 'xls'),\n",
      " ('Lycian A', 'xlc'),\n",
      " ('Lydian', 'xld'),\n",
      " ('Maek', 'hmk'),\n",
      " ('Maharastri Prakrit', 'pmh'),\n",
      " ('Malayalam', 'mal'),\n",
      " ('Manichaean Middle Persian', 'xmn'),\n",
      " ('Marrucinian', 'umc'),\n",
      " ('Marsian', 'ims'),\n",
      " ('Median', 'xme'),\n",
      " ('Meroitic', 'xmr'),\n",
      " ('Messapic', 'cms'),\n",
      " ('Middle Armenian', 'axm'),\n",
      " ('Middle Breton', 'xbm'),\n",
      " ('Middle Chinese', 'ltc'),\n",
      " ('Middle Cornish', 'cnx'),\n",
      " ('Middle Dutch', 'dum'),\n",
      " ('Middle English', 'enm'),\n",
      " ('Middle French', 'frm'),\n",
      " ('Middle High German', 'gmh'),\n",
      " ('Middle Hittite', 'htx'),\n",
      " ('Middle Irish (10-12th century)', 'mga'),\n",
      " ('Middle Korean (10th-16th cent.)', 'okm'),\n",
      " ('Middle Low German', 'gml'),\n",
      " ('Middle Mongol', 'xng'),\n",
      " ('Middle Newar', 'nwx'),\n",
      " ('Middle Welsh', 'wlm'),\n",
      " ('Milyan', 'imy'),\n",
      " ('Minaean', 'inm'),\n",
      " ('Minoan', 'omn'),\n",
      " ('Moabite', 'obm'),\n",
      " ('Mozarabic', 'mxi'),\n",
      " ('Mycenaean Greek', 'gmy'),\n",
      " ('Mysian', 'yms'),\n",
      " ('Nadruvian', 'ndf'),\n",
      " ('Neo-Hittite', 'nei'),\n",
      " ('Noric', 'nrc'),\n",
      " ('North Picene', 'nrp'),\n",
      " ('Numidian', 'nxm'),\n",
      " ('Odia', 'ory'),\n",
      " ('Official Aramaic (700-300 BCE)', 'arc'),\n",
      " ('Old Aramaic (up to 700 BCE)', 'oar'),\n",
      " ('Old Avar', 'oav'),\n",
      " ('Old Breton', 'obt'),\n",
      " ('Old Burmese', 'obr'),\n",
      " ('Old Chinese', 'och'),\n",
      " ('Old Cornish', 'oco'),\n",
      " ('Old Dutch-Old Frankish', 'odt'),\n",
      " ('Old English (ca. 450-1100)', 'ang'),\n",
      " ('Old Frankish', 'frk'),\n",
      " ('Old French (842-ca. 1400)', 'fro'),\n",
      " ('Old Frisian', 'ofs'),\n",
      " ('Old Georgian', 'oge'),\n",
      " ('Old High German (ca. 750-1050)', 'goh'),\n",
      " ('Old Hittite', 'oht'),\n",
      " ('Old Hungarian', 'ohu'),\n",
      " ('Old Japanese', 'ojp'),\n",
      " ('Old Korean (3rd-9th cent.)', 'oko'),\n",
      " ('Old Lithuanian', 'olt'),\n",
      " ('Old Manipuri', 'omp'),\n",
      " ('Old Marathi', 'omr'),\n",
      " ('Old Mon', 'omx'),\n",
      " ('Old Norse', 'non'),\n",
      " ('Old Nubian', 'onw'),\n",
      " ('Old Ossetic', 'oos'),\n",
      " ('Old Persian (ca. 600-400 B.C.)', 'peo'),\n",
      " ('Old Provençal', 'pro'),\n",
      " ('Old Russian', 'orv'),\n",
      " ('Old Saxon', 'osx'),\n",
      " ('Old Spanish', 'osp'),\n",
      " ('Old Tamil', 'oty'),\n",
      " ('Old Tibetan', 'otb'),\n",
      " ('Old Turkic', 'oui'),\n",
      " ('Old Turkish', 'otk'),\n",
      " ('Old-Middle Welsh', 'owl'),\n",
      " ('Oscan', 'osc'),\n",
      " ('Ottoman Turkish (1500-1928)', 'ota'),\n",
      " ('Paekche', 'pkc'),\n",
      " ('Paelignian', 'pgn'),\n",
      " ('Pahlavi', 'pal'),\n",
      " ('Palaic', 'plq'),\n",
      " ('Palestinian Jewish Aramaic', 'jpa'),\n",
      " ('Pali', 'pli'),\n",
      " ('Parthian', 'xpr'),\n",
      " ('Pecheneg', 'xpc'),\n",
      " ('Phoenician', 'phn'),\n",
      " ('Phrygian', 'xpg'),\n",
      " ('Pictish', 'xpi'),\n",
      " ('Pisidian', 'xps'),\n",
      " ('Primitive Irish', 'pgl'),\n",
      " ('Punic', 'xpu'),\n",
      " ('Puyo', 'xpy'),\n",
      " ('Puyo-Paekche', 'xpp'),\n",
      " ('Qatabanian', 'xqt'),\n",
      " ('Raetic', 'xrr'),\n",
      " ('Sabaic', 'xsa'),\n",
      " ('Sabine', 'sbv'),\n",
      " ('Sanskrit', 'san'),\n",
      " ('Sauraseni Prakrit', 'psu'),\n",
      " ('Scythian', 'xsc'),\n",
      " ('Sicana', 'sxc'),\n",
      " ('Sicula', 'scx'),\n",
      " ('Siculo Arabic', 'sqr'),\n",
      " ('Sidetic', 'xsd'),\n",
      " ('Skalvian', 'svx'),\n",
      " ('Sogdian', 'sog'),\n",
      " ('Sorothaptic', 'sxo'),\n",
      " ('South Picene', 'spx'),\n",
      " ('Standard Arabic', 'arb'),\n",
      " ('Sumerian', 'sux'),\n",
      " ('Tangut', 'txg'),\n",
      " ('Tartessian', 'txr'),\n",
      " ('Telugu', 'tel'),\n",
      " ('Thracian', 'txh'),\n",
      " ('Tokharian A', 'xto'),\n",
      " ('Tokharian B', 'txb'),\n",
      " ('Transalpine Gaulish', 'xtg'),\n",
      " ('Tumshuqese', 'xtq'),\n",
      " ('Ugaritic', 'uga'),\n",
      " ('Umbrian', 'xum'),\n",
      " ('Urartian', 'xur'),\n",
      " ('Urdu', 'urd'),\n",
      " ('Vandalic', 'xvn'),\n",
      " ('Venetic', 'xve'),\n",
      " ('Vestinian', 'xvs'),\n",
      " ('Volscian', 'xvo'),\n",
      " ('Western Farsi', 'pes'),\n",
      " ('Zhangzhung', 'xzh')]\n"
     ]
    }
   ],
   "source": [
    "from pprint import pprint\n",
    "pprint([(l.name, l.iso_639_3_code) for _, l in LANGUAGES.items()])"
   ]
  },
  {
   "cell_type": "markdown",
   "metadata": {},
   "source": [
    "# `Word` <a name=\"word\"></a>\n",
    "\n",
    "`Word` is one of the most important objects. It contains all token-level information generated by a `Process`."
   ]
  },
  {
   "cell_type": "code",
   "execution_count": 6,
   "metadata": {},
   "outputs": [],
   "source": [
    "from cltk.core.data_types import Word"
   ]
  },
  {
   "cell_type": "code",
   "execution_count": 7,
   "metadata": {},
   "outputs": [
    {
     "data": {
      "text/plain": [
       "Word(index_char_start=0, index_char_stop=6, index_token=0, index_sentence=None, string='Gallia', pos='nom', lemma=None, stem=None, scansion=None, xpos=None, upos=None, dependency_relation=None, governor=None, features={}, category={}, stop=None, named_entity=None, syllables=None, phonetic_transcription=None, definition=None)"
      ]
     },
     "execution_count": 7,
     "metadata": {},
     "output_type": "execute_result"
    }
   ],
   "source": [
    "Word(index_char_start=0, index_char_stop=6, index_token=0, string=\"Gallia\", pos=\"nom\")"
   ]
  },
  {
   "cell_type": "markdown",
   "metadata": {},
   "source": [
    "# `Doc` <a name=\"doc\"></a>\n",
    "\n",
    "`Doc` is the other of the two most important types. It too is build up each time a `Process` runs.\n",
    "\n",
    "Token-level information is stored at `Doc.words`, while larger units of information (e.g., an original input string) are kept elsewhere here."
   ]
  },
  {
   "cell_type": "code",
   "execution_count": 8,
   "metadata": {},
   "outputs": [],
   "source": [
    "from cltk.core.data_types import Doc"
   ]
  },
  {
   "cell_type": "code",
   "execution_count": 9,
   "metadata": {},
   "outputs": [
    {
     "data": {
      "text/plain": [
       "Doc(language=None, words=None, pipeline=None, raw='Gallia est omnis divisa in partes tres', normalized_text=None)"
      ]
     },
     "execution_count": 9,
     "metadata": {},
     "output_type": "execute_result"
    }
   ],
   "source": [
    "Doc(raw=\"Gallia est omnis divisa in partes tres\")"
   ]
  },
  {
   "cell_type": "markdown",
   "metadata": {},
   "source": [
    "It contains a number of helper methods, too, which read (usually) from `.word` and return convenient data structures."
   ]
  },
  {
   "cell_type": "code",
   "execution_count": 10,
   "metadata": {},
   "outputs": [
    {
     "name": "stdout",
     "output_type": "stream",
     "text": [
      "‎𐤀 CLTK version '1.0.11'.\n",
      "Pipeline for language 'Latin' (ISO: 'lat'): `LatinNormalizeProcess`, `LatinStanzaProcess`, `LatinEmbeddingsProcess`, `StopsProcess`, `LatinNERProcess`, `LatinLexiconProcess`.\n"
     ]
    }
   ],
   "source": [
    "from cltk import NLP\n",
    "cltk_nlp = NLP(language=\"lat\")\n",
    "cltk_doc = cltk_nlp.analyze(text=\"Gallia est omnis divisa in partes tres\")"
   ]
  },
  {
   "cell_type": "code",
   "execution_count": 11,
   "metadata": {},
   "outputs": [
    {
     "data": {
      "text/plain": [
       "['Gallia', 'est', 'omnis', 'divisa', 'in', 'partes', 'tres']"
      ]
     },
     "execution_count": 11,
     "metadata": {},
     "output_type": "execute_result"
    }
   ],
   "source": [
    "cltk_doc.tokens  # List[str]"
   ]
  },
  {
   "cell_type": "markdown",
   "metadata": {},
   "source": [
    "# `Process` <a name=\"process\"></a>\n",
    "\n",
    "A `Process` is a Python `class` that wraps a particular algorithm type for a particular language (e.g., Sanskrit tokenization). It is designed to invoked by the `Pipeline`, though a user may call it directly, too.\n",
    "\n",
    "See notebook [Make custom Process and add to Pipeline](https://github.com/cltk/cltk/blob/dev/notebooks/Make%20custom%20Process%20and%20add%20to%20Pipeline.ipynb) for a demonstration."
   ]
  },
  {
   "cell_type": "code",
   "execution_count": 12,
   "metadata": {},
   "outputs": [],
   "source": [
    "from dataclasses import dataclass, field\n",
    "from typing import List, Type\n",
    "from boltons.cacheutils import cachedproperty\n",
    "from cltk.core.data_types import Process"
   ]
  },
  {
   "cell_type": "code",
   "execution_count": 13,
   "metadata": {},
   "outputs": [],
   "source": [
    "@dataclass\n",
    "class StopsProcess(Process):\n",
    "    \"\"\"\n",
    "\n",
    "    >>> from cltk.core.data_types import Doc, Word\n",
    "    >>> from cltk.stops.processes import StopsProcess\n",
    "    >>> from cltk.languages.example_texts import get_example_text\n",
    "    >>> lang = \"lat\"\n",
    "    >>> words = [Word(string=token) for token in split_punct_ws(get_example_text(lang))]\n",
    "    >>> stops_process = StopsProcess(language=lang)\n",
    "    >>> output_doc = stops_process.run(Doc(raw=get_example_text(lang), words=words))\n",
    "    >>> output_doc.words[1].string\n",
    "    'est'\n",
    "    >>> output_doc.words[1].stop\n",
    "    True\n",
    "    \"\"\"\n",
    "\n",
    "    @cachedproperty\n",
    "    def algorithm(self):\n",
    "        return Stops(iso_code=self.language).get_stopwords()\n",
    "\n",
    "    def run(self, input_doc: Doc) -> Doc:\n",
    "        \"\"\"Note this marks a word a stop if there is a match on\n",
    "        either the inflected form (``Word.string``) or the\n",
    "        lemma (``Word.lemma``).\n",
    "        \"\"\"\n",
    "        output_doc = deepcopy(input_doc)\n",
    "        stops_list = self.algorithm\n",
    "\n",
    "        for index, word_obj in enumerate(output_doc.words):\n",
    "            if (word_obj.string in stops_list) or (word_obj.lemma in stops_list):\n",
    "                word_obj.stop = True\n",
    "            else:\n",
    "                word_obj.stop = False\n",
    "            output_doc.words[index] = word_obj\n",
    "\n",
    "        return output_doc"
   ]
  },
  {
   "cell_type": "markdown",
   "metadata": {},
   "source": [
    "# `Pipeline` <a name=\"pipeline\"></a>\n",
    "\n",
    "A `Pipeline` is a list containing the algorithms, in order, as they are to be invoked by `NLP()`.\n",
    "\n",
    "See notebook [Make custom Process and add to Pipeline](https://github.com/cltk/cltk/blob/dev/notebooks/Make%20custom%20Process%20and%20add%20to%20Pipeline.ipynb) for a demonstration."
   ]
  },
  {
   "cell_type": "code",
   "execution_count": 14,
   "metadata": {},
   "outputs": [],
   "source": [
    "from cltk.core.data_types import Pipeline\n",
    "from cltk.languages.utils import get_lang"
   ]
  },
  {
   "cell_type": "code",
   "execution_count": 15,
   "metadata": {},
   "outputs": [],
   "source": [
    "@dataclass\n",
    "class AkkadianPipeline(Pipeline):\n",
    "    \"\"\"Default ``Pipeline`` for Akkadian.\n",
    "\n",
    "    >>> from cltk.languages.pipelines import AkkadianPipeline\n",
    "    >>> a_pipeline = AkkadianPipeline()\n",
    "    >>> a_pipeline.description\n",
    "    'Pipeline for the Akkadian language.'\n",
    "    >>> a_pipeline.language\n",
    "    Language(name='Akkadian', glottolog_id='akka1240', latitude=33.1, longitude=44.1, dates=[], family_id='afro1255', parent_id='east2678', level='language', iso_639_3_code='akk', type='a')\n",
    "    >>> a_pipeline.language.name\n",
    "    'Akkadian'\n",
    "    >>> a_pipeline.processes[0]\n",
    "    <class 'cltk.tokenizers.processes.AkkadianTokenizationProcess'>\n",
    "    \"\"\"\n",
    "\n",
    "    description: str = \"Pipeline for the Akkadian language.\"\n",
    "    language: Language = get_lang(\"akk\")\n",
    "    processes: List[Type[Process]] = field(\n",
    "        default_factory=lambda: [AkkadianTokenizationProcess, StopsProcess]\n",
    "    )"
   ]
  },
  {
   "cell_type": "markdown",
   "metadata": {},
   "source": [
    "# `MorphosyntacticFeature` <a name=\"morpho\"></a>\n",
    "\n",
    "This model inherits from the Python builtin `IntEnum`. A `MorphosyntacticFeature` (at [cltk/morphology/universal_dependencies_features.py]()) has been made for each [morphsyntactic tag defined by v2 of the Universal Dependencies project](https://universaldependencies.org/u/feat/all.html)."
   ]
  },
  {
   "cell_type": "code",
   "execution_count": 16,
   "metadata": {},
   "outputs": [],
   "source": [
    "from enum import auto\n",
    "from cltk.morphology.universal_dependencies_features import Case, Gender, MorphosyntacticFeature, Number"
   ]
  },
  {
   "cell_type": "code",
   "execution_count": 17,
   "metadata": {},
   "outputs": [
    {
     "name": "stdout",
     "output_type": "stream",
     "text": [
      "Gender: masculine\n",
      "Case: vocative\n",
      "Number singular\n"
     ]
    }
   ],
   "source": [
    "# 'hercule' ('by Hercules, assuredly, indeed')\n",
    "# http://www.perseus.tufts.edu/hopper/text?doc=Perseus:text:1999.04.0060:entry=hercule\n",
    "gender = Gender.masculine\n",
    "print(\"Gender:\", gender)\n",
    "case = Case.vocative\n",
    "print(\"Case:\", case)\n",
    "number = Number.singular\n",
    "print(\"Number\", number)"
   ]
  },
  {
   "cell_type": "code",
   "execution_count": 18,
   "metadata": {},
   "outputs": [
    {
     "data": {
      "text/plain": [
       "Case"
      ]
     },
     "execution_count": 18,
     "metadata": {},
     "output_type": "execute_result"
    }
   ],
   "source": [
    "type(case)"
   ]
  },
  {
   "cell_type": "code",
   "execution_count": 19,
   "metadata": {},
   "outputs": [
    {
     "name": "stdout",
     "output_type": "stream",
     "text": [
      "`MorphosyntacticFeature.name`: vocative\n",
      "`MorphosyntacticFeature.value` 17\n"
     ]
    }
   ],
   "source": [
    "print(\"`MorphosyntacticFeature.name`:\", case.name)\n",
    "print(\"`MorphosyntacticFeature.value`\", case.value)"
   ]
  },
  {
   "cell_type": "code",
   "execution_count": 20,
   "metadata": {},
   "outputs": [],
   "source": [
    "# Example declaration\n",
    "class Case(MorphosyntacticFeature):\n",
    "    \"\"\"The case of a noun phrase.\n",
    "    see https://universaldependencies.org/u/feat/Case.html\n",
    "    \"\"\"\n",
    "\n",
    "    # structural cases\n",
    "    nominative = auto()\n",
    "    accusative = auto()\n",
    "    ergative = auto()\n",
    "    absolutive = auto()\n",
    "\n",
    "    # oblique cases\n",
    "    abessive = auto()\n",
    "    befefactive = auto()\n",
    "    causative = auto()\n",
    "    comparative = auto()\n",
    "    considerative = auto()\n",
    "    comitative = auto()\n",
    "    dative = auto()\n",
    "    distributive = auto()\n",
    "    equative = auto()\n",
    "    genitive = auto()\n",
    "    instrumental = auto()\n",
    "    partitive = auto()\n",
    "    vocative = auto()\n",
    "\n",
    "    # spatiotemporal cases\n",
    "    ablative = auto()\n",
    "    additive = auto()\n",
    "    adessive = auto()\n",
    "    allative = auto()\n",
    "    delative = auto()\n",
    "    elative = auto()\n",
    "    essive = auto()\n",
    "    illative = auto()\n",
    "    inessive = auto()\n",
    "    lative = auto()\n",
    "    locative = auto()\n",
    "    perlative = auto()\n",
    "    sublative = auto()\n",
    "    superessive = auto()\n",
    "    terminative = auto()\n",
    "    temporal = auto()\n",
    "    translative = auto()"
   ]
  },
  {
   "cell_type": "code",
   "execution_count": 21,
   "metadata": {},
   "outputs": [],
   "source": [
    "# Users can learn a bit about these features, too\n",
    "#help(case)"
   ]
  },
  {
   "cell_type": "markdown",
   "metadata": {},
   "source": [
    "Note there is a distinction between POS and a word's features. POS tags are more general categories for general classes of words, like noun, verb, etc."
   ]
  },
  {
   "cell_type": "code",
   "execution_count": 22,
   "metadata": {},
   "outputs": [],
   "source": [
    "from cltk.morphology.universal_dependencies_features import POS"
   ]
  },
  {
   "cell_type": "code",
   "execution_count": 23,
   "metadata": {},
   "outputs": [
    {
     "name": "stdout",
     "output_type": "stream",
     "text": [
      "interjection\n"
     ]
    }
   ],
   "source": [
    "# so the Latin word 'hercule' would be\n",
    "pos = POS.interjection\n",
    "print(pos)"
   ]
  },
  {
   "cell_type": "markdown",
   "metadata": {},
   "source": [
    "# `MorphosyntacticFeatureBundle` <a name=\"morpho-bundle\"></a>\n",
    "\n",
    "`MorphosyntacticFeature`s are brought together to describe a word with `MorphosyntacticFeatureBundle`."
   ]
  },
  {
   "cell_type": "code",
   "execution_count": 24,
   "metadata": {},
   "outputs": [],
   "source": [
    "from cltk.morphology.morphosyntax import MorphosyntacticFeatureBundle"
   ]
  },
  {
   "cell_type": "code",
   "execution_count": 25,
   "metadata": {},
   "outputs": [],
   "source": [
    "bundle = MorphosyntacticFeatureBundle(case, gender, number)"
   ]
  },
  {
   "cell_type": "code",
   "execution_count": 26,
   "metadata": {},
   "outputs": [
    {
     "name": "stdout",
     "output_type": "stream",
     "text": [
      "<class 'cltk.morphology.morphosyntax.MorphosyntacticFeatureBundle'>\n"
     ]
    }
   ],
   "source": [
    "print(type(bundle))"
   ]
  },
  {
   "cell_type": "code",
   "execution_count": 27,
   "metadata": {},
   "outputs": [
    {
     "name": "stdout",
     "output_type": "stream",
     "text": [
      "{Case: [vocative], Gender: [masculine], Number: [singular]}\n"
     ]
    }
   ],
   "source": [
    "print(bundle)"
   ]
  },
  {
   "cell_type": "code",
   "execution_count": 28,
   "metadata": {},
   "outputs": [
    {
     "name": "stdout",
     "output_type": "stream",
     "text": [
      "Gender [masculine]\n",
      "Case [vocative]\n",
      "Number [singular]\n"
     ]
    }
   ],
   "source": [
    "# How to access features within a bundle\n",
    "print(\"Gender\", bundle[\"Gender\"])\n",
    "print(\"Case\", bundle[\"Case\"])\n",
    "print(\"Number\", bundle[\"Number\"])"
   ]
  },
  {
   "cell_type": "markdown",
   "metadata": {},
   "source": [
    "`POS` and `MorphosyntacticFeatureBundle` are intended to be placed within a `Word`instance."
   ]
  },
  {
   "cell_type": "code",
   "execution_count": 29,
   "metadata": {},
   "outputs": [
    {
     "data": {
      "text/plain": [
       "Word(index_char_start=None, index_char_stop=None, index_token=None, index_sentence=None, string='hercule', pos=interjection, lemma=None, stem=None, scansion=None, xpos=None, upos=None, dependency_relation=None, governor=None, features={Case: [vocative], Gender: [masculine], Number: [singular]}, category={}, stop=None, named_entity=None, syllables=None, phonetic_transcription=None, definition=None)"
      ]
     },
     "execution_count": 29,
     "metadata": {},
     "output_type": "execute_result"
    }
   ],
   "source": [
    "Word(string=\"hercule\", pos=pos, features=bundle)"
   ]
  },
  {
   "cell_type": "markdown",
   "metadata": {},
   "source": [
    "# `Form` <a name=\"form\"></a>\n",
    "\n",
    "Since the `Doc.words` is a flat list of `Word` objects, it can be difficult to model hierearchical data, such as dependency trees. To help such modeling, the `Form` and `DependencyTree` types were created.\n",
    "\n",
    "`Form` inherits from the builtin `xml` package's `Element` and `DependencyTree` from `ElementTree`.\n",
    "\n",
    "See [Modeling syntax with Form and DependencyTree](https://github.com/cltk/cltk/blob/dev/notebooks/CLTK%20Demonstration.ipynb) for a full example."
   ]
  },
  {
   "cell_type": "code",
   "execution_count": 30,
   "metadata": {},
   "outputs": [],
   "source": [
    "from cltk.dependency.tree import Form"
   ]
  },
  {
   "cell_type": "markdown",
   "metadata": {},
   "source": [
    "# `DecisionTree` <a name=\"dt\"></a>\n",
    "\n",
    "See [Modeling syntax with Form and DependencyTree](https://github.com/cltk/cltk/blob/dev/notebooks/CLTK%20Demonstration.ipynb) for a full example."
   ]
  },
  {
   "cell_type": "code",
   "execution_count": 31,
   "metadata": {},
   "outputs": [],
   "source": [
    "from cltk.dependency.tree import DependencyTree"
   ]
  }
 ],
 "metadata": {
  "kernelspec": {
   "display_name": "Python 3",
   "language": "python",
   "name": "python3"
  },
  "language_info": {
   "codemirror_mode": {
    "name": "ipython",
    "version": 3
   },
   "file_extension": ".py",
   "mimetype": "text/x-python",
   "name": "python",
   "nbconvert_exporter": "python",
   "pygments_lexer": "ipython3",
   "version": "3.8.3"
  }
 },
 "nbformat": 4,
 "nbformat_minor": 4
}
